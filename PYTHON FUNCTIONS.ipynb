{
 "cells": [
  {
   "cell_type": "markdown",
   "id": "2d33bdc6-9404-4765-ac57-8dac5d6ee479",
   "metadata": {},
   "source": [
    "## PYTHON FUNCTIONS :"
   ]
  },
  {
   "cell_type": "markdown",
   "id": "9c004437-1fe3-4d7a-b40d-f1427146f177",
   "metadata": {},
   "source": [
    "#### DEFINATION :"
   ]
  },
  {
   "cell_type": "markdown",
   "id": "7fc5dd19-6a4e-4a04-8d81-a7bb2a5bf66b",
   "metadata": {},
   "source": [
    "Python Functions is a block of statements that return the specific task.\n",
    "\n",
    "The idea is to put some commonly or repeatedly done tasks together and make a function so that instead of writing the same code again and again for different inputs, we can do the function calls to reuse code contained in it over and over again."
   ]
  },
  {
   "cell_type": "markdown",
   "id": "88f9e3ea-be8a-4822-99aa-9c49ad4736fe",
   "metadata": {},
   "source": [
    "#### BENIFITS :"
   ]
  },
  {
   "cell_type": "markdown",
   "id": "0ab9a007-ab4c-46a9-9898-e660943c503a",
   "metadata": {},
   "source": [
    "-> Increase Code Readability \n",
    "\r",
    "-> \n",
    "Increase Code Reusability"
   ]
  },
  {
   "cell_type": "markdown",
   "id": "53d6e8a1-1d11-4cc5-98f5-f35add770910",
   "metadata": {},
   "source": [
    "## DECLARATION OF FUNCTION :"
   ]
  },
  {
   "cell_type": "markdown",
   "id": "ce7eb358-c350-45fd-b702-c65c89f062cf",
   "metadata": {},
   "source": [
    "The syntax to declare a function is:\n",
    "\n",
    "def function_name(parameters) :\n",
    "      #statements\n",
    "return expressionion"
   ]
  },
  {
   "cell_type": "markdown",
   "id": "95206369-5a5b-4134-993b-f266b8ba3073",
   "metadata": {},
   "source": [
    "## TYPES OF FUNCTIONS :"
   ]
  },
  {
   "cell_type": "markdown",
   "id": "16ecf589-c380-43fb-aea7-4cd8c4fafcf7",
   "metadata": {},
   "source": [
    "-> Built-in library function: These are Standard functions in Python that are available to use.\n",
    "\r",
    "-> \n",
    "User-defined function: We can create our own functions based on our requirements."
   ]
  },
  {
   "cell_type": "markdown",
   "id": "f3a05cfa-4ac5-4beb-8a1e-a3cfa6dd0aa1",
   "metadata": {},
   "source": [
    "#### BUILT-IN LIB FUNCTIONS :"
   ]
  },
  {
   "cell_type": "markdown",
   "id": "20ac6250-133b-4ba9-80f7-2ed703ffeaf4",
   "metadata": {},
   "source": [
    "##### -> Python abs() Function :\r\n",
    "\r\n",
    "Return the absolute value of a number"
   ]
  },
  {
   "cell_type": "markdown",
   "id": "85fc8d09-91ea-4ba9-b55f-05834c509962",
   "metadata": {},
   "source": [
    "##### -> Python aiter() Function :\r\n",
    "\r\n",
    "It takes an asynchronous iterable as an argument and returns an asynchronous iterator for that iterable"
   ]
  },
  {
   "cell_type": "markdown",
   "id": "7a32551c-ee5d-4315-8d8d-b7f5c7442476",
   "metadata": {},
   "source": [
    "##### -> Python all() Function :"
   ]
  },
  {
   "cell_type": "markdown",
   "id": "16e7c376-fa0e-4a64-8567-89cd2d75e634",
   "metadata": {},
   "source": [
    "Return true if all the elements of a given iterable( List, Dictionary, Tuple, set, etc) are True else it returns False"
   ]
  },
  {
   "cell_type": "markdown",
   "id": "bcc763a4-3ff6-4fb5-867d-3d6f55e7449d",
   "metadata": {},
   "source": [
    "##### -> Python any() Function :\r\n",
    "\r\n",
    " Returns true if any of the elements of a given iterable( List, Dictionary, Tuple, set, etc) are True else it returns False "
   ]
  },
  {
   "cell_type": "markdown",
   "id": "18473883-688e-4a23-86bf-224cfe96434b",
   "metadata": {},
   "source": [
    "##### ->Python ascii() Function :\r\n",
    "\r\n",
    "Returns a string containing a printable representation of an object"
   ]
  },
  {
   "cell_type": "markdown",
   "id": "04dfa281-564c-4fe0-a9fc-d0c8bb69ac16",
   "metadata": {},
   "source": [
    "##### ->Python bin() Function :\r\n",
    "\r\n",
    "Convert integer to a binary string"
   ]
  },
  {
   "cell_type": "markdown",
   "id": "8e8941de-6d89-4a32-bb3f-282d7af9cc38",
   "metadata": {},
   "source": [
    "##### ->Python bool() Function :\r\n",
    "\r\n",
    "Return or convert a value to a Boolean value i.e., True or False"
   ]
  },
  {
   "cell_type": "markdown",
   "id": "70172f4d-d4bc-4c41-a205-8ec746c981e5",
   "metadata": {},
   "source": [
    "#### ->Python breakpoint() Function :\r\n",
    "\r\n",
    "It is used for dropping into the debugger at the call site during runtime for debugging purposes"
   ]
  },
  {
   "cell_type": "markdown",
   "id": "7e97c188-9bc1-4b7a-b483-d7a399633800",
   "metadata": {},
   "source": [
    "##### ->Python bytearray() Function :\r\n",
    "\r\n",
    "Returns a byte array object which is an array of given bytes"
   ]
  },
  {
   "cell_type": "markdown",
   "id": "1714d107-a7b1-4571-a21e-c0a2842c8894",
   "metadata": {},
   "source": [
    "##### ->Python chr() Function :\r\n",
    "\r\n",
    "Returns a string representing a character whose Unicode code point is an integer"
   ]
  },
  {
   "cell_type": "markdown",
   "id": "f54df11b-d1d2-4157-9460-06ff94ccd5b5",
   "metadata": {},
   "source": [
    "## CREATING A FUNCTION :"
   ]
  },
  {
   "cell_type": "markdown",
   "id": "1917e4e1-0dd8-4535-a197-aadcfbbd6a27",
   "metadata": {},
   "source": [
    "We can define a function in Python, using the def keyword.\n",
    "\n",
    "We can add any type of functionalities and properties to it as we require.\n",
    "\n",
    "By the following example, we can understand how to write a function in Python.\n",
    "\n",
    "In this way we can create Python function definition by using def keyword."
   ]
  },
  {
   "cell_type": "code",
   "execution_count": 70,
   "id": "0602277c-4ee0-4ab3-8ce7-0e5d56ab54cd",
   "metadata": {},
   "outputs": [],
   "source": [
    "#example\n",
    "\n",
    "# A simple Python function\n",
    "def fun():\n",
    "    print(\"Welcome to VIZAG\")\n"
   ]
  },
  {
   "cell_type": "markdown",
   "id": "8cde8bd6-d142-4fc7-a692-311be255c0e2",
   "metadata": {},
   "source": [
    "## CALLING A FUNCTION :"
   ]
  },
  {
   "cell_type": "markdown",
   "id": "7e248f90-d284-4f5f-a8b7-9fbea2afc7ca",
   "metadata": {},
   "source": [
    "-> After creating a function in Python we can call it by using the name of the functions \n",
    "\n",
    "-> Python followed by parenthesis containing parameters of that particular function."
   ]
  },
  {
   "cell_type": "code",
   "execution_count": 12,
   "id": "31968639-036b-4e31-a217-67ce51937f05",
   "metadata": {},
   "outputs": [
    {
     "name": "stdout",
     "output_type": "stream",
     "text": [
      "Welcome to VIZAG\n"
     ]
    }
   ],
   "source": [
    "#example\n",
    "#A simple Python function\n",
    "\n",
    "def fun():\n",
    "    print(\"Welcome to VIZAG\")\n",
    "\n",
    "\n",
    "\n",
    "fun()"
   ]
  },
  {
   "cell_type": "markdown",
   "id": "b1428c16-0bb8-4fec-b36d-a4e7fb6e6298",
   "metadata": {},
   "source": [
    "## PYTHON FUNCTION ARGUMENTS :"
   ]
  },
  {
   "cell_type": "markdown",
   "id": "f0a91e85-a1e1-4bb9-9d5a-49d2072d9441",
   "metadata": {},
   "source": [
    "Arguments are the values passed inside the parenthesis of the function. A function can have any number of arguments separated by a comma.\r\n",
    "\r\n",
    "In this example, we will create a simple function in Python to check whether the number passed as an argument to the function is even or odd"
   ]
  },
  {
   "cell_type": "code",
   "execution_count": 15,
   "id": "b23c6df4-a0d1-443a-af0f-d802c8d7abce",
   "metadata": {},
   "outputs": [
    {
     "name": "stdout",
     "output_type": "stream",
     "text": [
      "even\n",
      "odd\n"
     ]
    }
   ],
   "source": [
    "#Example \n",
    "\n",
    "# A simple Python function to check\n",
    "#whether even or odd number\n",
    "\n",
    "def evenOdd(x):\n",
    "    if (x % 2 == 0):\n",
    "        print(\"even\")\n",
    "    else:\n",
    "        print(\"odd\")\n",
    "\n",
    "\n",
    "\n",
    "evenOdd(4)\n",
    "evenOdd(9)\n"
   ]
  },
  {
   "cell_type": "markdown",
   "id": "6f17b3ee-152f-4adf-a565-d500671b116a",
   "metadata": {},
   "source": [
    "## RETURN STATEMENT IN FUNCTION :"
   ]
  },
  {
   "cell_type": "markdown",
   "id": "77e56e1c-9a4b-4024-8cc7-86755121bbeb",
   "metadata": {},
   "source": [
    "The function return statement is used to exit from a function and go back to the function caller and return the specified value or data item to the caller."
   ]
  },
  {
   "cell_type": "code",
   "execution_count": null,
   "id": "c10e6821-58e2-401e-8b90-8896e20f09c6",
   "metadata": {},
   "outputs": [],
   "source": [
    "#syntax for the return statement\n",
    "\n",
    "return [expression_list]"
   ]
  },
  {
   "cell_type": "markdown",
   "id": "926bce96-c449-46de-9ae1-5c14ba9f91b7",
   "metadata": {},
   "source": [
    "The return statement can consist of a variable, an expression, or a constant which is returned at the end of the function execution. If none of the above is present with the return statement a None object is returned"
   ]
  },
  {
   "cell_type": "code",
   "execution_count": 43,
   "id": "b6d15268-34b9-4f58-9b76-6d8a2789cec6",
   "metadata": {},
   "outputs": [
    {
     "data": {
      "text/plain": [
       "64"
      ]
     },
     "execution_count": 43,
     "metadata": {},
     "output_type": "execute_result"
    }
   ],
   "source": [
    "#example\n",
    "\n",
    "def find_square(num):\n",
    "    result = num * num\n",
    "    return result\n",
    "\n",
    "find_square(8)\n",
    "    "
   ]
  },
  {
   "cell_type": "markdown",
   "id": "dc4167b6-8f78-4688-8ff9-2f4f9a084d67",
   "metadata": {},
   "source": [
    "## TYPES OF FUNCTION ARGUMENTS :"
   ]
  },
  {
   "cell_type": "markdown",
   "id": "7402ea5f-8fb0-410a-95c0-dbd4c8d84475",
   "metadata": {},
   "source": [
    "Python supports various types of arguments that can be passed at the time of the function call. In Python, we have the following function argument types in Python:\r\n",
    "-> \r\n",
    "Default argumen-> t\r\n",
    "Keyword arguments (named argument-> s)\r\n",
    "Positional argume-> nts\r\n",
    "Arbitrary arguments"
   ]
  },
  {
   "cell_type": "markdown",
   "id": "b4f4b4af-b5e9-4e0e-b3be-1dd1c2ad6efd",
   "metadata": {},
   "source": [
    "#### -> DEFAULT ARGUMENTS :"
   ]
  },
  {
   "cell_type": "markdown",
   "id": "1366e535-064f-4880-b47b-afd173189bd2",
   "metadata": {},
   "source": [
    "A default argument is a parameter that assumes a default value if a value is not provided in the function call for that argument."
   ]
  },
  {
   "cell_type": "markdown",
   "id": "a9a3bc68-8457-407c-97a3-862b76c10dbb",
   "metadata": {},
   "source": [
    "#### -> KEYWORD ARGUMENTS :"
   ]
  },
  {
   "cell_type": "markdown",
   "id": "69c8b33d-9415-438d-b975-6f000404cdbb",
   "metadata": {},
   "source": [
    "The idea is to allow the caller to specify the argument name with values so that the caller does not need to remember the order of parameters."
   ]
  },
  {
   "cell_type": "markdown",
   "id": "2fe9342a-391e-4559-8953-af4f02311964",
   "metadata": {},
   "source": [
    "#### -> POSTIONAL ARGUMENTS :"
   ]
  },
  {
   "cell_type": "markdown",
   "id": "2b759810-b244-4311-9382-ddb248706e67",
   "metadata": {},
   "source": [
    "-> We used the Position argument during the function call so that the first argument (or value) is assigned to name and the second argument (or value) is assigned to age.\n",
    "\n",
    "-> By changing the position, or if you forget the order of the positions, the values can be used in the wrong places, as shown in the Case-2 example below, where 27 is assigned to the name and Suraj is assigned to the age."
   ]
  },
  {
   "cell_type": "code",
   "execution_count": 49,
   "id": "3cfb385d-2504-4348-ae9f-4bb1b337586a",
   "metadata": {},
   "outputs": [
    {
     "name": "stdout",
     "output_type": "stream",
     "text": [
      "Case-1:\n",
      "Hi, I am Suraj\n",
      "My age is  27\n",
      "\n",
      "Case-2:\n",
      "Hi, I am 27\n",
      "My age is  Suraj\n"
     ]
    }
   ],
   "source": [
    "#example\n",
    "\n",
    "def nameAge(name, age):\n",
    "    print(\"Hi, I am\", name)\n",
    "    print(\"My age is \", age)\n",
    "\n",
    "\n",
    "\n",
    "print(\"Case-1:\")\n",
    "nameAge(\"Suraj\", 27)\n",
    "\n",
    "print(\"\\nCase-2:\")\n",
    "nameAge(27, \"Suraj\")\n"
   ]
  },
  {
   "cell_type": "markdown",
   "id": "d52473b2-ac50-4a0b-a1a0-5313e306db89",
   "metadata": {},
   "source": [
    "#### -> ARBITARY ARGUMENTS :"
   ]
  },
  {
   "cell_type": "markdown",
   "id": "890a1861-a8c5-4691-be9e-aaad8a15677c",
   "metadata": {},
   "source": [
    "In Python Arbitrary Keyword Arguments, *args, and **kwargs can pass a variable number of arguments to a function using special symbols. There are two special symbols:\r\n",
    "-> \r\n",
    "*args in Python (Non-Keyword Arguments-> )\r\n",
    "**kwargs in Python (Keyword Arguments)"
   ]
  },
  {
   "cell_type": "code",
   "execution_count": 54,
   "id": "7a880ef1-f073-4f44-bbd4-9d2e3396e248",
   "metadata": {},
   "outputs": [
    {
     "name": "stdout",
     "output_type": "stream",
     "text": [
      "Hello\n",
      "Welcome\n",
      "to\n",
      "VISAKHAPATNAM\n"
     ]
    }
   ],
   "source": [
    "#example \n",
    "\n",
    "# Python program to illustrate\n",
    "# *args for variable number of arguments\n",
    "def myFun(*argv):\n",
    "    for arg in argv:\n",
    "        print(arg)\n",
    "\n",
    "\n",
    "myFun('Hello', 'Welcome', 'to', 'VISAKHAPATNAM')\n"
   ]
  },
  {
   "cell_type": "code",
   "execution_count": 56,
   "id": "5b5d9ef9-5604-4c21-bf68-f19d6fa86cf0",
   "metadata": {},
   "outputs": [
    {
     "name": "stdout",
     "output_type": "stream",
     "text": [
      "first == JAYANTHI\n",
      "mid == JAGANNADHA\n",
      "last == SANDEEP\n"
     ]
    }
   ],
   "source": [
    "#Example2\n",
    "\n",
    "# Python program to illustrate\n",
    "# *kwargs for variable number of keyword arguments\n",
    "\n",
    "\n",
    "def myFun(**kwargs):\n",
    "    for key, value in kwargs.items():\n",
    "        print(\"%s == %s\" % (key, value))\n",
    "\n",
    "\n",
    "# Driver code\n",
    "myFun(first='JAYANTHI', mid='JAGANNADHA', last='SANDEEP')\n"
   ]
  },
  {
   "cell_type": "markdown",
   "id": "fbd3063f-b211-4aef-917f-04ae279d084a",
   "metadata": {},
   "source": [
    "## PYTHON LAMBDA :"
   ]
  },
  {
   "cell_type": "markdown",
   "id": "25eb73a2-530b-4b17-bc8d-e18e49aeaca5",
   "metadata": {},
   "source": [
    "Python Lambda Functions are anonymous functions means that the function is without a name.\n",
    "As we already know the def keyword is used to define a normal function in Python.\n",
    "Similarly, the lambda keyword is used to define an anonymous function in Python. "
   ]
  },
  {
   "cell_type": "code",
   "execution_count": null,
   "id": "4eee0381-5559-486f-9ae5-fd5442f76e6f",
   "metadata": {},
   "outputs": [],
   "source": [
    "#Syntax of lambda\n",
    "\n",
    "lambda arguments : expression"
   ]
  },
  {
   "cell_type": "markdown",
   "id": "f521049a-bc47-4be2-8b49-957919b732b9",
   "metadata": {},
   "source": [
    "-> This function can have any number of arguments but only one expression, which is evaluated and returned.\r",
    "-> \n",
    "One is free to use lambda functions wherever function objects are required.-> \r\n",
    "You need to keep in your knowledge that lambda functions are syntactically restricted to a single expression-> .\r\n",
    "It has various uses in particular fields of programming, besides other types of expressions in functions."
   ]
  },
  {
   "cell_type": "code",
   "execution_count": 78,
   "id": "7dafe2db-a95c-451b-bed4-2daa3d932b34",
   "metadata": {},
   "outputs": [
    {
     "name": "stdout",
     "output_type": "stream",
     "text": [
      "HYDERABAD\n"
     ]
    }
   ],
   "source": [
    "#Example\n",
    "\n",
    "str1 = 'Hyderabad'\n",
    "\n",
    "upper = lambda string: string.upper()\n",
    "print(upper(str1))\n"
   ]
  },
  {
   "cell_type": "code",
   "execution_count": 80,
   "id": "f5e5602f-ef0a-4dfc-a884-265dcf05bca5",
   "metadata": {},
   "outputs": [
    {
     "name": "stdout",
     "output_type": "stream",
     "text": [
      "52\n"
     ]
    }
   ],
   "source": [
    "x = lambda a,b,c : a + b * c\n",
    "print(x(4,6,8))"
   ]
  },
  {
   "cell_type": "markdown",
   "id": "41bb0d2a-d72a-401c-a3c4-2ef77630e335",
   "metadata": {},
   "source": [
    "#### LAMBDA MAP() :"
   ]
  },
  {
   "cell_type": "markdown",
   "id": "0142a1fe-7da4-438b-98b5-7f5c5254aa5c",
   "metadata": {},
   "source": [
    "map() is used to apply one function to each element of an iterable like list, tuple in python. map() takes one function as its argument and uses that function on each element of the iterable. It returns the modified iterable."
   ]
  },
  {
   "cell_type": "code",
   "execution_count": null,
   "id": "51f177ae-7958-4316-b9ee-62dc787efbae",
   "metadata": {},
   "outputs": [],
   "source": [
    "map(func,iterable)"
   ]
  },
  {
   "cell_type": "code",
   "execution_count": 85,
   "id": "268221aa-2cde-487b-95d5-31ea62a9f474",
   "metadata": {},
   "outputs": [
    {
     "name": "stdout",
     "output_type": "stream",
     "text": [
      "[1, 4, 9, 16, 25]\n"
     ]
    }
   ],
   "source": [
    "def square(x):\n",
    "    return x*x\n",
    "\n",
    "numbers = [1,2,3,4,5]\n",
    "square_numbers = list(map(square,numbers))\n",
    "print(square_numbers)"
   ]
  },
  {
   "cell_type": "code",
   "execution_count": 87,
   "id": "6a6c7f6d-75a8-4a5c-b5c7-67b5b7b804f0",
   "metadata": {},
   "outputs": [
    {
     "name": "stdout",
     "output_type": "stream",
     "text": [
      "[1, 4, 9, 16, 25]\n"
     ]
    }
   ],
   "source": [
    "numbers = [1,2,3,4,5]\n",
    "\n",
    "square_numbers = list(map(lambda x:x*x,numbers))\n",
    "print(square_numbers)"
   ]
  },
  {
   "cell_type": "markdown",
   "id": "06dfac17-6d2f-4c6f-93c4-380cbaa2e823",
   "metadata": {},
   "source": [
    "#### LAMBDA FLITER () :"
   ]
  },
  {
   "cell_type": "markdown",
   "id": "ee83d364-3da9-48a0-858d-204f29e1c55b",
   "metadata": {},
   "source": [
    "We can use Lambda function inside the filter() built-in function to find all the numbers divisible by 13 in the list. In Python, anonymous function means that a function is without a name.\r\n",
    "\r\n",
    "The filter() function in Python takes in a function and a list as arguments. This offers an elegant way to filter out all the elements of a sequence “sequence”, for which the function returns True."
   ]
  },
  {
   "cell_type": "code",
   "execution_count": 90,
   "id": "3a92bc21-08aa-4af6-b3e3-ce8630c3c36d",
   "metadata": {},
   "outputs": [
    {
     "name": "stdout",
     "output_type": "stream",
     "text": [
      "[65, 39, 221]\n"
     ]
    }
   ],
   "source": [
    "#Example\n",
    "\n",
    "# Take a list of numbers. \n",
    "my_list = [12, 65, 54, 39, 102, 339, 221, 50, 70, ] \n",
    "\n",
    "# use anonymous function to filter and comparing \n",
    "# if divisible or not \n",
    "result = list(filter(lambda x: (x % 13 == 0), my_list)) \n",
    "\n",
    "# printing the result \n",
    "print(result) \n"
   ]
  },
  {
   "cell_type": "code",
   "execution_count": null,
   "id": "8a7f2cd2-c374-424a-ab7a-3319905696b9",
   "metadata": {},
   "outputs": [],
   "source": [
    "#Syntax of filter\n",
    "\n",
    "filter(function,iterable)"
   ]
  },
  {
   "cell_type": "markdown",
   "id": "b9f58bbf-eab0-440a-822b-1d3dffafc2f3",
   "metadata": {},
   "source": [
    "#### LAMBDA SORTED() :"
   ]
  },
  {
   "cell_type": "markdown",
   "id": "cb5d38c0-6a3e-4bc8-a6e6-eba5dc7c0f02",
   "metadata": {},
   "source": [
    "The sorted() function in Python is a built-in function used to sort iterables such as lists, tuples, or strings. It can be customized using a key function and sorting order.\n",
    "\n",
    "The lambda function is a small anonymous function defined with the lambda keyword. It can be used as the key function in sorted() to define custom sorting logic."
   ]
  },
  {
   "cell_type": "code",
   "execution_count": 95,
   "id": "64a2a358-e8ee-4bf0-b52b-29f719cbe872",
   "metadata": {},
   "outputs": [
    {
     "name": "stdout",
     "output_type": "stream",
     "text": [
      "[1, 2, 5, 5, 6, 9]\n"
     ]
    }
   ],
   "source": [
    "#Example \n",
    "\n",
    "numbers = [5, 2, 9, 1, 5, 6]\n",
    "sorted_numbers = sorted(numbers)\n",
    "print(sorted_numbers)  \n"
   ]
  },
  {
   "cell_type": "code",
   "execution_count": 97,
   "id": "e5c74021-4140-4505-9e19-7471e84c3121",
   "metadata": {},
   "outputs": [
    {
     "name": "stdout",
     "output_type": "stream",
     "text": [
      "['kiwi', 'apple', 'banana', 'cherry']\n"
     ]
    }
   ],
   "source": [
    "\n",
    "words = [\"banana\", \"apple\", \"kiwi\", \"cherry\"]\n",
    "sorted_words = sorted(words, key=lambda x: len(x))\n",
    "print(sorted_words)"
   ]
  },
  {
   "cell_type": "markdown",
   "id": "600993ee-cd0b-493c-b727-e2848c9f5dcc",
   "metadata": {},
   "source": [
    "## PYTHON GLOBAL AND LOCAL VARIABLES :"
   ]
  },
  {
   "cell_type": "markdown",
   "id": "b9975436-8733-4da8-bc15-2c24474b07da",
   "metadata": {},
   "source": [
    "#### ->PYTHON LOCAL VARIABLE :"
   ]
  },
  {
   "cell_type": "markdown",
   "id": "cb250b9e-e509-4d58-9795-6bc91bd0b125",
   "metadata": {},
   "source": [
    "Local variables in Python are those which are initialized inside a function and belong only to that particular function. It cannot be accessed anywhere outside the function."
   ]
  },
  {
   "cell_type": "markdown",
   "id": "e7217592-eb3c-4d5a-bd13-38549addfcfb",
   "metadata": {},
   "source": [
    "#### CREATING A LOCAL VARIABLE :"
   ]
  },
  {
   "cell_type": "code",
   "execution_count": 102,
   "id": "019134cd-8627-4b77-85f0-e769a507fa78",
   "metadata": {},
   "outputs": [
    {
     "name": "stdout",
     "output_type": "stream",
     "text": [
      "I loVizageks\n"
     ]
    }
   ],
   "source": [
    "def f():\r\n",
    "\r\n",
    "    # local variable\r\n",
    "    s = \"I loVizageks\"\r\n",
    "    print(s)\r\n",
    "\r\n",
    "\r\n",
    "# Driver code\r\n",
    "f()\r\n"
   ]
  },
  {
   "cell_type": "markdown",
   "id": "c858a2b9-e72e-4254-a961-751117a74562",
   "metadata": {},
   "source": [
    "#### -> PYTHON GLOBAL VARIABLE :"
   ]
  },
  {
   "cell_type": "markdown",
   "id": "ffa4481a-7064-4589-8f54-22d2ef03da65",
   "metadata": {},
   "source": [
    "These are those which are defined outside any function and which are accessible throughout the program, i.e., inside and outside of every function."
   ]
  },
  {
   "cell_type": "markdown",
   "id": "c697ef1f-d835-4787-a73d-465f695ec30f",
   "metadata": {},
   "source": [
    "#### CREATING A GLOBAL VARIABLE :"
   ]
  },
  {
   "cell_type": "code",
   "execution_count": null,
   "id": "c1114a67-758e-4a8d-ad4d-f3cee49c00cf",
   "metadata": {},
   "outputs": [],
   "source": [
    "# This function uses global variable s\n",
    "def f():\n",
    "    print(\"Inside Function\", s)\n",
    "\n",
    "# Global scope\n",
    "s = \"I love Gee\"\n",
    "f()\n",
    "print(\"Outside Function\", s)\n"
   ]
  }
 ],
 "metadata": {
  "kernelspec": {
   "display_name": "Python 3 (ipykernel)",
   "language": "python",
   "name": "python3"
  },
  "language_info": {
   "codemirror_mode": {
    "name": "ipython",
    "version": 3
   },
   "file_extension": ".py",
   "mimetype": "text/x-python",
   "name": "python",
   "nbconvert_exporter": "python",
   "pygments_lexer": "ipython3",
   "version": "3.12.4"
  }
 },
 "nbformat": 4,
 "nbformat_minor": 5
}
