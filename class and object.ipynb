{
 "cells": [
  {
   "cell_type": "markdown",
   "id": "4d909c52-57f3-4bd4-9ca0-abe50b9c50ea",
   "metadata": {},
   "source": [
    "## OOPS THROUGH PYTHON :"
   ]
  },
  {
   "cell_type": "markdown",
   "id": "ca37e541-e8f1-44ad-92ba-22ffc417bab3",
   "metadata": {},
   "source": [
    "#### CLASS AND OBJECT :"
   ]
  },
  {
   "cell_type": "markdown",
   "id": "0df38e17-f035-4f03-9b61-565934a949d4",
   "metadata": {},
   "source": [
    "-> A class is a user-defined blueprint or prototype from which objects are created.\n",
    "-> Classes provide a means of bundling data and functionality together.\n",
    "-> Creating a new class creates a new type of object, allowing new instances of that type to be made.\n",
    "-> Each class instance can have attributes attached to it to maintain its state.\n",
    "-> Class instances can also have methods (defined by their class) for modifying their state."
   ]
  },
  {
   "cell_type": "markdown",
   "id": "3cde69f6-890a-4624-ac2f-6319e750caf2",
   "metadata": {},
   "source": [
    "#### SYNTAX :"
   ]
  },
  {
   "cell_type": "code",
   "execution_count": null,
   "id": "db1d2141-1f52-4773-b88b-3c08f47975a4",
   "metadata": {},
   "outputs": [],
   "source": [
    "class ClassName:\n",
    "    # Statement"
   ]
  },
  {
   "cell_type": "markdown",
   "id": "a39818fc-3d23-460a-9042-85d539371aec",
   "metadata": {},
   "source": [
    "#### CREATING A CLASS :"
   ]
  },
  {
   "cell_type": "markdown",
   "id": "c4f73ac7-d321-4e47-94a3-7b8687ff35ef",
   "metadata": {},
   "source": [
    "Here, the class keyword indicates that you are creating a class followed by the name of the class (Dog in this case)."
   ]
  },
  {
   "cell_type": "code",
   "execution_count": 5,
   "id": "ff0f7ff9-9f2f-43d9-8005-1d18d84169fe",
   "metadata": {},
   "outputs": [],
   "source": [
    "class Dog:\n",
    "    sound = \"bark\""
   ]
  },
  {
   "cell_type": "markdown",
   "id": "faf3ea85-ef83-4670-a986-c7738d4d6276",
   "metadata": {},
   "source": [
    "## PYTHON OBJECT :"
   ]
  },
  {
   "cell_type": "markdown",
   "id": "a5a5fc50-63f6-498f-9872-4fde0994fb48",
   "metadata": {},
   "source": [
    "In Python programming an Object is an instance of a Class. A class is like a blueprint while an instance is a copy of the class with actual values. It’s not an idea anymore, it’s an actual dog, like a dog of breed pug who’s seven years old. You can have many dogs to create many different instances, but without the class as a guide, you would be lost, not knowing what information is required\n",
    "\n",
    "\n",
    "An object consists of:\r\n",
    "\r\n",
    "State: It is represented by the attributes of an object. It also reflects the properties of an object.\r\n",
    "Behavior: It is represented by the methods of an object. It also reflects the response of an object to other objects.\r\n",
    "Identity: It gives a unique name to an object and enables one object to interact with other objects."
   ]
  },
  {
   "cell_type": "markdown",
   "id": "0f0bd4c6-4729-4f0e-b054-999b2260955a",
   "metadata": {},
   "source": [
    "#### SYNTAX :"
   ]
  },
  {
   "cell_type": "code",
   "execution_count": null,
   "id": "1ada1f84-bcce-40f7-b333-afa1462e7f7d",
   "metadata": {},
   "outputs": [],
   "source": [
    "obj = ClassName()\n",
    "print(obj.atrr)"
   ]
  },
  {
   "cell_type": "markdown",
   "id": "17a9bb39-1455-4fde-a5de-eceba30a2ec7",
   "metadata": {},
   "source": [
    "#### EXAMPLES :"
   ]
  },
  {
   "cell_type": "code",
   "execution_count": 10,
   "id": "074edf98-ad64-48ea-918b-e41740e30bea",
   "metadata": {},
   "outputs": [
    {
     "name": "stdout",
     "output_type": "stream",
     "text": [
      "Buddy says woof!\n"
     ]
    }
   ],
   "source": [
    "class Dog:\n",
    "    def __init__(self, name, age):\n",
    "        self.name = name\n",
    "        self.age = age\n",
    "\n",
    "    def bark(self):\n",
    "        print(f\"{self.name} says woof!\")\n",
    "\n",
    "# Create an object of the Dog class\n",
    "dog1 = Dog(\"Buddy\", 3)\n",
    "dog1.bark()  # Output: Buddy says woof!\n"
   ]
  },
  {
   "cell_type": "code",
   "execution_count": 12,
   "id": "693d7f64-7338-4004-b525-60676dc757df",
   "metadata": {},
   "outputs": [
    {
     "name": "stdout",
     "output_type": "stream",
     "text": [
      "Name: Mountain Bike, Gears: 11 \n"
     ]
    }
   ],
   "source": [
    "# define a class\n",
    "class Bike:\n",
    "    name = \"\"\n",
    "    gear = 0\n",
    "\n",
    "# create object of class\n",
    "bike1 = Bike()\n",
    "\n",
    "# access attributes and assign new values\n",
    "bike1.gear = 11\n",
    "bike1.name = \"Mountain Bike\"\n",
    "\n",
    "print(f\"Name: {bike1.name}, Gears: {bike1.gear} \")"
   ]
  },
  {
   "cell_type": "code",
   "execution_count": 14,
   "id": "4be67f37-20d0-4b7a-94bd-2b023c50d60c",
   "metadata": {},
   "outputs": [
    {
     "name": "stdout",
     "output_type": "stream",
     "text": [
      "Employee ID: 1001\n",
      "Employee ID: 1002\n"
     ]
    }
   ],
   "source": [
    "# define a class\n",
    "class Employee:\n",
    "    # define a property\n",
    "    employee_id = 0\n",
    "\n",
    "# create two objects of the Employee class\n",
    "employee1 = Employee()\n",
    "employee2 = Employee()\n",
    "\n",
    "# access property using employee1\n",
    "employee1.employeeID = 1001\n",
    "print(f\"Employee ID: {employee1.employeeID}\")\n",
    "\n",
    "# access properties using employee2\n",
    "employee2.employeeID = 1002\n",
    "print(f\"Employee ID: {employee2.employeeID}\")"
   ]
  },
  {
   "cell_type": "markdown",
   "id": "11133d1b-7cfa-414e-8f4f-1d67bcb15ace",
   "metadata": {},
   "source": [
    "#### SELF PARAMETER :"
   ]
  },
  {
   "cell_type": "markdown",
   "id": "f2bb04af-eaaf-4fda-bbfd-ab4545c41c28",
   "metadata": {},
   "source": [
    "The Self Parameter does not call it to be Self, You can use any other name instead of it.\n",
    "Here we change the self to the word someone and the output will be the same.\n",
    "When we call a method of this object as myobject.method(arg1, arg2), this is automatically converted by Python into MyClass.method(myobject, arg1, arg2)"
   ]
  },
  {
   "cell_type": "markdown",
   "id": "ebe8a198-9c37-42ed-ac72-e9533887d406",
   "metadata": {},
   "source": [
    "#### EXAMPLE :"
   ]
  },
  {
   "cell_type": "code",
   "execution_count": 20,
   "id": "5957edc3-19f7-44a4-811c-47e661cb3763",
   "metadata": {},
   "outputs": [
    {
     "name": "stdout",
     "output_type": "stream",
     "text": [
      "Hello my name is John and I work in Hyderabad.\n"
     ]
    }
   ],
   "source": [
    "class GFG:\n",
    "    def __init__(self, name, company):\n",
    "        self.name = name\n",
    "        self.company = company\n",
    "\n",
    "    def show(self):\n",
    "        print(\"Hello my name is \" + self.name+\" and I\" +\n",
    "              \" work in \"+self.company+\".\")\n",
    "\n",
    "\n",
    "obj = GFG(\"John\", \"Hyderabad\")\n",
    "obj.show()"
   ]
  },
  {
   "cell_type": "markdown",
   "id": "5f45d715-aed5-4b01-bb06-b93d25ad64d0",
   "metadata": {},
   "source": [
    "#### __init__() METHOD :"
   ]
  },
  {
   "cell_type": "markdown",
   "id": "23eb9e5e-0025-45b0-8b3c-5e315bf1e980",
   "metadata": {},
   "source": [
    "-> The __init__ method is similar to constructors in C++ and Java.\n",
    "-> Constructors are used to initializing the object’s state. \n",
    "-> Like methods, a constructor also contains a collection of statements(i.e. instructions) that are executed at the time of Object creation.\n",
    "-> It runs as soon as an object of a class is instantiated. \n",
    "-> The method is useful to do any initialization you want to do with your object."
   ]
  },
  {
   "cell_type": "markdown",
   "id": "3f50bf4f-cbd5-4084-9573-489a34f95b18",
   "metadata": {},
   "source": [
    "#### EXAMPLE :"
   ]
  },
  {
   "cell_type": "code",
   "execution_count": 24,
   "id": "995aabcc-2bcf-4445-960b-ae1970f711f1",
   "metadata": {},
   "outputs": [
    {
     "name": "stdout",
     "output_type": "stream",
     "text": [
      "Hello, my name is Sandeep\n"
     ]
    }
   ],
   "source": [
    "class Person:\n",
    "\n",
    "    # init method or constructor\n",
    "    def __init__(self, name):\n",
    "        self.name = name\n",
    "\n",
    "    # Sample Method\n",
    "    def say_hi(self):\n",
    "        print('Hello, my name is', self.name)\n",
    "\n",
    "\n",
    "p = Person('Sandeep')\n",
    "p.say_hi()"
   ]
  },
  {
   "cell_type": "markdown",
   "id": "08d05607-0736-4be7-8a0c-eabb968968dd",
   "metadata": {},
   "source": [
    "#### str Method :"
   ]
  },
  {
   "cell_type": "markdown",
   "id": "cbd03ade-3d05-4f54-a085-ef386933c34d",
   "metadata": {},
   "source": [
    "-> Python has a particular method called __str__().\n",
    "-> That is used to define how a class object should be represented as a string. \n",
    "-> It is often used to give an object a human-readable textual representation, which is helpful for logging, debugging, or showing users object information. \n",
    "-> When a class object is used to create a string using the built-in functions print() and str(), the __str__() function is automatically used.\n",
    "You can alter how objects of a class are represented in strings by defining the __str__() method."
   ]
  },
  {
   "cell_type": "markdown",
   "id": "4362856f-7851-4949-aef1-4e3ac69e1c38",
   "metadata": {},
   "source": [
    "#### EXAMPLE :"
   ]
  },
  {
   "cell_type": "code",
   "execution_count": 73,
   "id": "8b1e8a48-c011-4f87-9beb-b6b67b130513",
   "metadata": {},
   "outputs": [
    {
     "name": "stdout",
     "output_type": "stream",
     "text": [
      "Hello, my name is Sandeep\n"
     ]
    }
   ],
   "source": [
    "class Person:\n",
    "\n",
    "    # init method or constructor\n",
    "    def __init__(self, name):\n",
    "        self.name = name\n",
    "\n",
    "    # Sample Method\n",
    "    def __str__(self):\n",
    "        return f'Hello, my name is {self.name}'\n",
    "\n",
    "my_obj = Person(\"Sandeep\")\n",
    "print(my_obj)"
   ]
  },
  {
   "cell_type": "code",
   "execution_count": null,
   "id": "7f9efa42-cdb7-4bde-9a23-d629d64f8a58",
   "metadata": {},
   "outputs": [],
   "source": []
  },
  {
   "cell_type": "code",
   "execution_count": null,
   "id": "dbcb0791-371a-4939-a258-ec2de8df78d4",
   "metadata": {},
   "outputs": [],
   "source": []
  },
  {
   "cell_type": "code",
   "execution_count": null,
   "id": "d9a0055c-60f4-4c59-bf96-abe4d961d400",
   "metadata": {},
   "outputs": [],
   "source": []
  },
  {
   "cell_type": "code",
   "execution_count": null,
   "id": "f310831b-6af2-43fa-992b-b7e05077b7a1",
   "metadata": {},
   "outputs": [],
   "source": []
  },
  {
   "cell_type": "code",
   "execution_count": null,
   "id": "7d034577-f892-43bf-824f-63a5a50e62b8",
   "metadata": {},
   "outputs": [],
   "source": []
  },
  {
   "cell_type": "code",
   "execution_count": null,
   "id": "35da520d-cde2-4af2-b6ee-68ceabd4305b",
   "metadata": {},
   "outputs": [],
   "source": []
  },
  {
   "cell_type": "code",
   "execution_count": null,
   "id": "3aaf79cc-a613-410c-a172-66025bbd348e",
   "metadata": {},
   "outputs": [],
   "source": []
  },
  {
   "cell_type": "code",
   "execution_count": null,
   "id": "fb951dc6-d524-4374-be4a-492fae6ccb56",
   "metadata": {},
   "outputs": [],
   "source": []
  },
  {
   "cell_type": "code",
   "execution_count": null,
   "id": "3a3de1bf-67bd-40b5-8013-e188ebf82796",
   "metadata": {},
   "outputs": [],
   "source": []
  },
  {
   "cell_type": "code",
   "execution_count": null,
   "id": "d3b4f0c7-44b1-467d-ad56-61b7860d9239",
   "metadata": {},
   "outputs": [],
   "source": []
  },
  {
   "cell_type": "code",
   "execution_count": null,
   "id": "dc4582b8-eb04-4160-a5c4-fb37d2dfc40a",
   "metadata": {},
   "outputs": [],
   "source": []
  },
  {
   "cell_type": "code",
   "execution_count": null,
   "id": "9a646446-5795-4aa1-bb17-e3904519cea0",
   "metadata": {},
   "outputs": [],
   "source": []
  },
  {
   "cell_type": "code",
   "execution_count": null,
   "id": "8c30f0a0-5fa1-4cdf-9dbd-686ce3f2f416",
   "metadata": {},
   "outputs": [],
   "source": []
  },
  {
   "cell_type": "code",
   "execution_count": null,
   "id": "47de0fb2-a7cb-4602-b08e-da0de0ba79c3",
   "metadata": {},
   "outputs": [],
   "source": []
  }
 ],
 "metadata": {
  "kernelspec": {
   "display_name": "Python 3 (ipykernel)",
   "language": "python",
   "name": "python3"
  },
  "language_info": {
   "codemirror_mode": {
    "name": "ipython",
    "version": 3
   },
   "file_extension": ".py",
   "mimetype": "text/x-python",
   "name": "python",
   "nbconvert_exporter": "python",
   "pygments_lexer": "ipython3",
   "version": "3.12.4"
  }
 },
 "nbformat": 4,
 "nbformat_minor": 5
}
