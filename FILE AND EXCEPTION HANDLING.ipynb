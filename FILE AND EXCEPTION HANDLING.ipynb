{
 "cells": [
  {
   "cell_type": "markdown",
   "id": "5759ea45-ccc6-4879-a196-615af0a75217",
   "metadata": {},
   "source": [
    "## FILE HANDLING OPERATIONS"
   ]
  },
  {
   "cell_type": "markdown",
   "id": "b2cc59c2-1dd5-4562-8f7f-fbbe8145a807",
   "metadata": {},
   "source": [
    "The file can be opened in the following modes:\r\n",
    "\r\n",
    "Python File Opening Mode\n",
    "s\r\n",
    "Mode\tDescription    \r\n",
    "r\tOpens a file for reading only. (It's a default mode.    )\r\n",
    "w\tOpens a file for writing. (If a file doesn't exist already, then it creates a new file. Otherwise, it's truncate a file    .)\r\n",
    "x\tOpens a file for exclusive creation. (Operation fails if a file does not exist in the locatio    n.)\r\n",
    "a\tOpens a file for appending at the end of the file without truncating it. (Creates a new file if it does not exist in the locati    on.)\r\n",
    "t\tOpens a file in text mode. (It's a default m    ode.)\r\n",
    "b\tOpens a file in binary     mode.\r\n",
    "+\tOpens a file for updating (reading and writing.)"
   ]
  },
  {
   "cell_type": "markdown",
   "id": "5fdfb906-0a10-402a-a080-329501f7488f",
   "metadata": {},
   "source": [
    "Python supports file handling and allows users to handle files i.e., to read and write files, along with many other file handling options, to operate on files. The concept of file handling has stretched over various other languages, but the implementation is either complicated or lengthy, like other concepts of Python, this concept here is also easy and short."
   ]
  },
  {
   "cell_type": "markdown",
   "id": "d1c50f83-2bc6-45c7-aeea-4f8b98fa8a76",
   "metadata": {},
   "source": [
    "#### FILE OPEN :"
   ]
  },
  {
   "cell_type": "markdown",
   "id": "4603d00d-9c79-47a7-8d64-6fad1c1785e8",
   "metadata": {},
   "source": [
    "Before performing any operation on the file like reading or writing, first, we have to open that file.\n",
    "For this, we should use Python’s inbuilt function open() but at the time of opening, we have to specify the mode, which represents the purpose of the opening file."
   ]
  },
  {
   "cell_type": "markdown",
   "id": "6f69f89b-5dd6-4214-aee3-0bc1af5d12cb",
   "metadata": {},
   "source": [
    "#### SYNTAX :"
   ]
  },
  {
   "cell_type": "markdown",
   "id": "277ffbcc-8012-4209-a974-ea2ae640b167",
   "metadata": {},
   "source": [
    "f = open(filename, mode)"
   ]
  },
  {
   "cell_type": "markdown",
   "id": "f06e1787-f0de-4873-accc-ae43f9fe5908",
   "metadata": {},
   "source": [
    "#### EXAMPLES :"
   ]
  },
  {
   "cell_type": "code",
   "execution_count": 11,
   "id": "19d75d67-1123-49ce-805d-b170d5466c97",
   "metadata": {},
   "outputs": [
    {
     "name": "stdout",
     "output_type": "stream",
     "text": [
      "<_io.TextIOWrapper name='C:/Users/sandy/Downloads/Untitled2.html' mode='r' encoding='cp1252'>\n"
     ]
    }
   ],
   "source": [
    "s = open(r\"C:/Users/sandy/Downloads/Untitled2.html\") #path mention\n",
    "print(s)"
   ]
  },
  {
   "cell_type": "markdown",
   "id": "69c14b7b-0ccf-4700-82ca-a491a944e4cb",
   "metadata": {},
   "source": [
    "#### FILE READ :"
   ]
  },
  {
   "cell_type": "markdown",
   "id": "664edb3c-503d-4a89-91c0-516e2b75099f",
   "metadata": {},
   "source": [
    "There are three methods of reading data from a text file in Python. They are:"
   ]
  },
  {
   "cell_type": "markdown",
   "id": "bf0d2d04-43e6-42b5-a02a-a99b4bcddead",
   "metadata": {},
   "source": [
    "#### 1.READ() METHOD :"
   ]
  },
  {
   "cell_type": "markdown",
   "id": "727533b6-6454-480a-b5b6-ecb5226a346d",
   "metadata": {},
   "source": [
    "This function returns the bytes read as a string. If no n is specified, it then reads the entire file."
   ]
  },
  {
   "cell_type": "markdown",
   "id": "35ab6bd6-dcc3-490a-9a0f-d1d5dd5433e1",
   "metadata": {},
   "source": [
    "#### EXAMPLES :"
   ]
  },
  {
   "cell_type": "code",
   "execution_count": 43,
   "id": "de721640-0acb-4b1e-89a7-f7c5fc820ef6",
   "metadata": {},
   "outputs": [
    {
     "name": "stdout",
     "output_type": "stream",
     "text": [
      "{\n",
      " \"cells\": [\n",
      "  {\n",
      "   \"cell_type\": \"markdown\",\n",
      "   \"id\": \"fc4ea26a-d88d-4ab5-beae-966ec1099899\",\n",
      "   \"metadata\": {},\n",
      "   \"source\": [\n",
      "    \"HELLO FRIENDS ! \\n\",\n",
      "    \"HOW ARE YOU ALL\"\n",
      "   ]\n",
      "  },\n",
      "  {\n",
      "   \"cell_type\": \"markdown\",\n",
      "   \"id\": \"7eb7567d-3faf-4617-a0b2-082d7739d03a\",\n",
      "   \"metadata\": {},\n",
      "   \"source\": [\n",
      "    \"Hi friends! Welcome to python\"\n",
      "   ]\n",
      "  }\n",
      " ],\n",
      " \"metadata\": {\n",
      "  \"kernelspec\": {\n",
      "   \"display_name\": \"Python 3 (ipykernel)\",\n",
      "   \"language\": \"python\",\n",
      "   \"name\": \"python3\"\n",
      "  },\n",
      "  \"language_info\": {\n",
      "   \"codemirror_mode\": {\n",
      "    \"name\": \"ipython\",\n",
      "    \"version\": 3\n",
      "   },\n",
      "   \"file_extension\": \".py\",\n",
      "   \"mimetype\": \"text/x-python\",\n",
      "   \"name\": \"python\",\n",
      "   \"nbconvert_exporter\": \"python\",\n",
      "   \"pygments_lexer\": \"ipython3\",\n",
      "   \"version\": \"3.12.4\"\n",
      "  }\n",
      " },\n",
      " \"nbformat\": 4,\n",
      " \"nbformat_minor\": 5\n",
      "}\n",
      "\n"
     ]
    }
   ],
   "source": [
    "f = open(\"Sample.ipynb\", \"r\")\n",
    "#('r’) opens the text files for reading only\n",
    "print(f.read())"
   ]
  },
  {
   "cell_type": "markdown",
   "id": "06d0f660-5689-45c1-93d5-8cbd184eb050",
   "metadata": {},
   "source": [
    "#### 2.READLINE() METHOD :"
   ]
  },
  {
   "cell_type": "markdown",
   "id": "3164c598-e115-40de-9980-8d3770767f9d",
   "metadata": {},
   "source": [
    "This function reads a line from a file and returns it as a string.\n",
    "It reads at most n bytes for the specified n.\n",
    "But even if n is greater than the length of the line, it does not read more than one line."
   ]
  },
  {
   "cell_type": "markdown",
   "id": "002b035d-2e04-438c-9f3c-20c36636eb9f",
   "metadata": {},
   "source": [
    "#### EXAMPLES :"
   ]
  },
  {
   "cell_type": "code",
   "execution_count": 45,
   "id": "a63a63b2-845a-4a73-abc5-43f968cd7572",
   "metadata": {},
   "outputs": [
    {
     "name": "stdout",
     "output_type": "stream",
     "text": [
      "{\n",
      "\n"
     ]
    }
   ],
   "source": [
    "f = open(\"Sample.ipynb\", \"r\")\n",
    "print(f.readline())"
   ]
  },
  {
   "cell_type": "markdown",
   "id": "cd9a5b65-d52f-485b-9c27-dfc900242ad0",
   "metadata": {},
   "source": [
    "#### 3.READLINES() METHOD :"
   ]
  },
  {
   "cell_type": "markdown",
   "id": "7865b049-b40a-4260-9f44-ad43eab64ac7",
   "metadata": {},
   "source": [
    "This function reads all of the lines and returns them as string elements in a list, one for each line.\r\n",
    "\r\n",
    "You can read the first two lines by calling readline() twice, reading the first two lines of the file:"
   ]
  },
  {
   "cell_type": "markdown",
   "id": "721c7731-97b3-4522-8149-cd9b0efb42af",
   "metadata": {},
   "source": [
    "#### EXAMPLES :"
   ]
  },
  {
   "cell_type": "code",
   "execution_count": 47,
   "id": "4dcb38f1-a84c-49b0-847e-3310c097abc0",
   "metadata": {},
   "outputs": [
    {
     "name": "stdout",
     "output_type": "stream",
     "text": [
      "{\n",
      "\n",
      " \"cells\": [\n",
      "\n"
     ]
    }
   ],
   "source": [
    "f = open(\"Sample.ipynb\", \"r\")\n",
    "print(f.readline())\n",
    "print(f.readline())"
   ]
  },
  {
   "cell_type": "markdown",
   "id": "10790bc2-1bd0-49f3-9103-0b53f1900754",
   "metadata": {},
   "source": [
    "#### FILE CLOSE :"
   ]
  },
  {
   "cell_type": "markdown",
   "id": "749dcecd-aec8-455a-bfc9-788fbac63946",
   "metadata": {},
   "source": [
    "The close() function at the end of the code tells Python that well, I am done with this section of either creating or reading – it is just like saying End."
   ]
  },
  {
   "cell_type": "markdown",
   "id": "11b7fa10-4f8b-4351-ac4d-74491b10ea87",
   "metadata": {},
   "source": [
    "Closing a file will free up the resources that were tied with the file."
   ]
  },
  {
   "cell_type": "markdown",
   "id": "849a974f-a57a-4309-94d2-46abd2385404",
   "metadata": {},
   "source": [
    "#### EXAMPLES :"
   ]
  },
  {
   "cell_type": "code",
   "execution_count": 9,
   "id": "043da198-b72f-4a9d-9ad7-203dc73d8e74",
   "metadata": {},
   "outputs": [
    {
     "name": "stdout",
     "output_type": "stream",
     "text": [
      "{\n",
      " \"cells\": [\n",
      "  {\n",
      "   \"cell_type\": \"markdown\",\n",
      "   \"id\": \"fc4ea26a-d88d-4ab5-beae-966ec1099899\",\n",
      "   \"metadata\": {},\n",
      "   \"source\": [\n",
      "    \"HELLO FRIENDS ! \\n\",\n",
      "    \"HOW ARE YOU ALL\"\n",
      "   ]\n",
      "  },\n",
      "  {\n",
      "   \"cell_type\": \"markdown\",\n",
      "   \"id\": \"7eb7567d-3faf-4617-a0b2-082d7739d03a\",\n",
      "   \"metadata\": {},\n",
      "   \"source\": [\n",
      "    \"Hi friends! Welcome to python\"\n",
      "   ]\n",
      "  }\n",
      " ],\n",
      " \"metadata\": {\n",
      "  \"kernelspec\": {\n",
      "   \"display_name\": \"Python 3 (ipykernel)\",\n",
      "   \"language\": \"python\",\n",
      "   \"name\": \"python3\"\n",
      "  },\n",
      "  \"language_info\": {\n",
      "   \"codemirror_mode\": {\n",
      "    \"name\": \"ipython\",\n",
      "    \"version\": 3\n",
      "   },\n",
      "   \"file_extension\": \".py\",\n",
      "   \"mimetype\": \"text/x-python\",\n",
      "   \"name\": \"python\",\n",
      "   \"nbconvert_exporter\": \"python\",\n",
      "   \"pygments_lexer\": \"ipython3\",\n",
      "   \"version\": \"3.12.4\"\n",
      "  }\n",
      " },\n",
      " \"nbformat\": 4,\n",
      " \"nbformat_minor\": 5\n",
      "}\n",
      "\n"
     ]
    }
   ],
   "source": [
    "file1 = open(r\"C:\\Users\\sandy\\Downloads\\Sample.ipynb\",\"r\")\n",
    "read_content = file1.read()\n",
    "print(read_content)\n",
    "file1.close()"
   ]
  },
  {
   "cell_type": "markdown",
   "id": "9595955d-a7a6-4184-a96b-4d65fda865e3",
   "metadata": {},
   "source": [
    "## EXCEPTION HANDLING :"
   ]
  },
  {
   "cell_type": "markdown",
   "id": "066b091b-9f27-4dc1-95e9-6930bbf8303c",
   "metadata": {},
   "source": [
    "If an exception occurs when we are performing some operation with the file the code exists without closing the file.\n",
    "A safer way is to use try-finally block."
   ]
  },
  {
   "cell_type": "markdown",
   "id": "9cf0e5e4-c26f-41b1-9b6c-e0675d9d9c11",
   "metadata": {},
   "source": [
    "#### EXAMPLES :"
   ]
  },
  {
   "cell_type": "code",
   "execution_count": 7,
   "id": "7b291bbe-5077-44f9-ab21-6d103b7cabfc",
   "metadata": {},
   "outputs": [
    {
     "name": "stdout",
     "output_type": "stream",
     "text": [
      "{\n",
      " \"cells\": [\n",
      "  {\n",
      "   \"cell_type\": \"markdown\",\n",
      "   \"id\": \"fc4ea26a-d88d-4ab5-beae-966ec1099899\",\n",
      "   \"metadata\": {},\n",
      "   \"source\": [\n",
      "    \"HELLO FRIENDS ! \\n\",\n",
      "    \"HOW ARE YOU ALL\"\n",
      "   ]\n",
      "  },\n",
      "  {\n",
      "   \"cell_type\": \"markdown\",\n",
      "   \"id\": \"7eb7567d-3faf-4617-a0b2-082d7739d03a\",\n",
      "   \"metadata\": {},\n",
      "   \"source\": [\n",
      "    \"Hi friends! Welcome to python\"\n",
      "   ]\n",
      "  }\n",
      " ],\n",
      " \"metadata\": {\n",
      "  \"kernelspec\": {\n",
      "   \"display_name\": \"Python 3 (ipykernel)\",\n",
      "   \"language\": \"python\",\n",
      "   \"name\": \"python3\"\n",
      "  },\n",
      "  \"language_info\": {\n",
      "   \"codemirror_mode\": {\n",
      "    \"name\": \"ipython\",\n",
      "    \"version\": 3\n",
      "   },\n",
      "   \"file_extension\": \".py\",\n",
      "   \"mimetype\": \"text/x-python\",\n",
      "   \"name\": \"python\",\n",
      "   \"nbconvert_exporter\": \"python\",\n",
      "   \"pygments_lexer\": \"ipython3\",\n",
      "   \"version\": \"3.12.4\"\n",
      "  }\n",
      " },\n",
      " \"nbformat\": 4,\n",
      " \"nbformat_minor\": 5\n",
      "}\n",
      "\n"
     ]
    }
   ],
   "source": [
    "try :\n",
    "    file1 = open(\"Sample.ipynb\",\"r\")\n",
    "    read_content = file1.read()\n",
    "    print(read_content)\n",
    "finally :\n",
    "    file1.close()\n",
    "    "
   ]
  },
  {
   "cell_type": "code",
   "execution_count": 11,
   "id": "106d25e6-646b-480f-affa-2f492536cc89",
   "metadata": {},
   "outputs": [
    {
     "name": "stdout",
     "output_type": "stream",
     "text": [
      "Error : Denominator can't be 0\n"
     ]
    }
   ],
   "source": [
    "try :\n",
    "    numerator = 10\n",
    "    denominator = 0\n",
    "    result = numerator/denominator\n",
    "    print(result)\n",
    "except :\n",
    "    print(\"Error : Denominator can't be 0\")"
   ]
  },
  {
   "cell_type": "code",
   "execution_count": 13,
   "id": "fa1ac692-ffee-443f-9a2c-11629e36934a",
   "metadata": {},
   "outputs": [
    {
     "name": "stdout",
     "output_type": "stream",
     "text": [
      "180\n",
      "a+b+c =  180\n"
     ]
    }
   ],
   "source": [
    "try :\n",
    "    a = 40\n",
    "    b = 60\n",
    "    c = 80\n",
    "    result = a+b+c\n",
    "    print(result)\n",
    "finally :\n",
    "    print(\"a+b+c = \",result)\n"
   ]
  },
  {
   "cell_type": "code",
   "execution_count": null,
   "id": "20faea90-3139-47f0-a174-d547beab470e",
   "metadata": {},
   "outputs": [],
   "source": []
  }
 ],
 "metadata": {
  "kernelspec": {
   "display_name": "Python 3 (ipykernel)",
   "language": "python",
   "name": "python3"
  },
  "language_info": {
   "codemirror_mode": {
    "name": "ipython",
    "version": 3
   },
   "file_extension": ".py",
   "mimetype": "text/x-python",
   "name": "python",
   "nbconvert_exporter": "python",
   "pygments_lexer": "ipython3",
   "version": "3.12.4"
  }
 },
 "nbformat": 4,
 "nbformat_minor": 5
}
