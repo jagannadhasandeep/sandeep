{
 "cells": [
  {
   "cell_type": "markdown",
   "id": "e85db4e2-eabd-498a-a8fa-b8efac4c4cc4",
   "metadata": {},
   "source": [
    "## PYTHON OPERATORS :"
   ]
  },
  {
   "cell_type": "markdown",
   "id": "5702c482-7656-462b-8d12-135227ecda5e",
   "metadata": {},
   "source": [
    "### ARTHAMATIC OPERATORS :"
   ]
  },
  {
   "cell_type": "markdown",
   "id": "e784b9ba-1734-4f06-a507-ef461dc07c8e",
   "metadata": {},
   "source": [
    "Arithmetic operators are used with numeric values to perform common mathematical operations"
   ]
  },
  {
   "cell_type": "markdown",
   "id": "88081ca7-eaf7-438a-8d0e-0b62370e6e62",
   "metadata": {},
   "source": [
    "#### ADDITION :"
   ]
  },
  {
   "cell_type": "markdown",
   "id": "f6758e52-39c2-43ae-ac9d-dbe11bdd794a",
   "metadata": {},
   "source": [
    "Adds two operands\n",
    "\n",
    "Examples : "
   ]
  },
  {
   "cell_type": "code",
   "execution_count": 4,
   "id": "2832aa8d-11ba-4024-b8c1-adb234e68459",
   "metadata": {},
   "outputs": [
    {
     "name": "stdout",
     "output_type": "stream",
     "text": [
      "65\n"
     ]
    }
   ],
   "source": [
    "a = 10\n",
    "b = 55\n",
    "\n",
    "#addition\n",
    "sum = a+b\n",
    "print(sum)"
   ]
  },
  {
   "cell_type": "code",
   "execution_count": 6,
   "id": "f971a498-29be-4fa9-9624-4a561432cd1b",
   "metadata": {},
   "outputs": [
    {
     "name": "stdout",
     "output_type": "stream",
     "text": [
      "145\n"
     ]
    }
   ],
   "source": [
    "c = 80\n",
    "d = 65\n",
    "\n",
    "#addition\n",
    "sum = c+d\n",
    "print(sum)"
   ]
  },
  {
   "cell_type": "code",
   "execution_count": 8,
   "id": "c69fbd34-3a25-464b-bd4d-eb11bb2c5215",
   "metadata": {},
   "outputs": [
    {
     "name": "stdout",
     "output_type": "stream",
     "text": [
      "650\n"
     ]
    }
   ],
   "source": [
    "e = 200\n",
    "f = 450\n",
    "\n",
    "#addition\n",
    "sum = e+f\n",
    "print(sum)"
   ]
  },
  {
   "cell_type": "code",
   "execution_count": 10,
   "id": "00862316-b3e8-4afe-9ae9-9c5ceebb24b4",
   "metadata": {},
   "outputs": [
    {
     "name": "stdout",
     "output_type": "stream",
     "text": [
      "1620\n"
     ]
    }
   ],
   "source": [
    "g = 550\n",
    "h = 770\n",
    "i = 300\n",
    "\n",
    "#addition\n",
    "sum = g+h+i\n",
    "print(sum)"
   ]
  },
  {
   "cell_type": "code",
   "execution_count": 12,
   "id": "e1453647-c229-4fda-afda-17cbdcb647b3",
   "metadata": {},
   "outputs": [
    {
     "name": "stdout",
     "output_type": "stream",
     "text": [
      "2440\n"
     ]
    }
   ],
   "source": [
    "j = 800\n",
    "k = 280\n",
    "l = 360\n",
    "m = 1000\n",
    "\n",
    "#addition\n",
    "sum = j+k+l+m\n",
    "print(sum)"
   ]
  },
  {
   "cell_type": "markdown",
   "id": "0b4e7f20-127f-4b70-9857-a0ec7f5efa32",
   "metadata": {},
   "source": [
    "#### SUBTRACTION :"
   ]
  },
  {
   "cell_type": "markdown",
   "id": "dffc4f67-9c39-471a-baf5-fb00d54d4c8e",
   "metadata": {},
   "source": [
    " subtracts two operands\n",
    "\n",
    "Examples :"
   ]
  },
  {
   "cell_type": "code",
   "execution_count": 15,
   "id": "4b1a8468-7ceb-4950-a424-1812897643ed",
   "metadata": {},
   "outputs": [
    {
     "name": "stdout",
     "output_type": "stream",
     "text": [
      "5\n"
     ]
    }
   ],
   "source": [
    "s = 20\n",
    "u = 15\n",
    "\n",
    "#subtract\n",
    "sub = s-u\n",
    "print(sub)"
   ]
  },
  {
   "cell_type": "code",
   "execution_count": 17,
   "id": "87440d4c-fdcb-4db9-94e0-0828a448340e",
   "metadata": {},
   "outputs": [
    {
     "name": "stdout",
     "output_type": "stream",
     "text": [
      "150\n"
     ]
    }
   ],
   "source": [
    "t = 250\n",
    "v = 100\n",
    "\n",
    "#subtract\n",
    "sub = t-v\n",
    "print(sub)"
   ]
  },
  {
   "cell_type": "code",
   "execution_count": 19,
   "id": "bff03f95-d399-421c-b9cb-7c68ba7a0914",
   "metadata": {},
   "outputs": [
    {
     "name": "stdout",
     "output_type": "stream",
     "text": [
      "300\n"
     ]
    }
   ],
   "source": [
    "g = 870\n",
    "i = 570\n",
    "\n",
    "#subtract\n",
    "sub = g-i\n",
    "print(sub)"
   ]
  },
  {
   "cell_type": "code",
   "execution_count": 21,
   "id": "8e127b8b-cf4e-4af9-ac94-014d63336b4f",
   "metadata": {},
   "outputs": [
    {
     "name": "stdout",
     "output_type": "stream",
     "text": [
      "530\n"
     ]
    }
   ],
   "source": [
    "h = 650\n",
    "k = 120\n",
    "\n",
    "#subtract\n",
    "sub = h-k\n",
    "print(sub)"
   ]
  },
  {
   "cell_type": "code",
   "execution_count": 23,
   "id": "8e7ca575-8de0-4704-8ed7-d6e45838663b",
   "metadata": {},
   "outputs": [
    {
     "name": "stdout",
     "output_type": "stream",
     "text": [
      "620\n"
     ]
    }
   ],
   "source": [
    "d = 960\n",
    "f = 340\n",
    "\n",
    "#subtract\n",
    "sub = d-f\n",
    "print(sub)"
   ]
  },
  {
   "cell_type": "markdown",
   "id": "c66a17bd-e423-4ffb-8ecf-a12d20c75dec",
   "metadata": {},
   "source": [
    "#### MULTIPLCATION :"
   ]
  },
  {
   "cell_type": "markdown",
   "id": "5dd0dbb5-a49d-4465-bbb1-5cf12696d749",
   "metadata": {},
   "source": [
    "multiplies two operands\n",
    "\n",
    "Examples :"
   ]
  },
  {
   "cell_type": "code",
   "execution_count": 26,
   "id": "13d30889-7688-4b68-b9ad-03155776393e",
   "metadata": {},
   "outputs": [
    {
     "name": "stdout",
     "output_type": "stream",
     "text": [
      "2280\n"
     ]
    }
   ],
   "source": [
    "r = 40\n",
    "g = 57\n",
    "\n",
    "#multiply\n",
    "mul = r*g\n",
    "print(mul)"
   ]
  },
  {
   "cell_type": "code",
   "execution_count": 28,
   "id": "9ed96074-0e6f-467e-9343-def69b6ad457",
   "metadata": {},
   "outputs": [
    {
     "name": "stdout",
     "output_type": "stream",
     "text": [
      "85440000\n"
     ]
    }
   ],
   "source": [
    "t = 890\n",
    "g = 480\n",
    "s = 200\n",
    "\n",
    "#multiply\n",
    "mul = t*g*s\n",
    "print(mul)"
   ]
  },
  {
   "cell_type": "code",
   "execution_count": 30,
   "id": "c71f4bba-2b2f-483e-80b4-a9e35e002689",
   "metadata": {},
   "outputs": [
    {
     "name": "stdout",
     "output_type": "stream",
     "text": [
      "1500\n"
     ]
    }
   ],
   "source": [
    "y = 20\n",
    "v = 15\n",
    "f = 5\n",
    "\n",
    "#multiply\n",
    "mul = y*v*f\n",
    "print(mul)"
   ]
  },
  {
   "cell_type": "code",
   "execution_count": 32,
   "id": "77bbff85-55e4-4e46-bd5b-d36c38271920",
   "metadata": {},
   "outputs": [
    {
     "name": "stdout",
     "output_type": "stream",
     "text": [
      "315\n"
     ]
    }
   ],
   "source": [
    "g = 5\n",
    "d = 7\n",
    "l = 9\n",
    "\n",
    "#multiply\n",
    "mul = g*d*l\n",
    "print(mul)"
   ]
  },
  {
   "cell_type": "code",
   "execution_count": 34,
   "id": "69896b07-ab02-4d60-a15e-dc49bbb5a1c5",
   "metadata": {},
   "outputs": [
    {
     "name": "stdout",
     "output_type": "stream",
     "text": [
      "12\n"
     ]
    }
   ],
   "source": [
    "s = 4\n",
    "f = 3\n",
    "\n",
    "#multiply\n",
    "mul = s*f\n",
    "print(mul)"
   ]
  },
  {
   "cell_type": "markdown",
   "id": "234c0dd1-56f7-4e29-a4bc-49497a468d6b",
   "metadata": {},
   "source": [
    "#### DIVISION :"
   ]
  },
  {
   "cell_type": "markdown",
   "id": "ae9f588d-7e15-48cd-93c8-9b6983f1887e",
   "metadata": {},
   "source": [
    " divides the first operand by the second\n",
    "\n",
    "Examples : "
   ]
  },
  {
   "cell_type": "code",
   "execution_count": 37,
   "id": "9ef74d51-690c-4abf-b936-fb84b5f86507",
   "metadata": {},
   "outputs": [
    {
     "name": "stdout",
     "output_type": "stream",
     "text": [
      "1.6666666666666667\n"
     ]
    }
   ],
   "source": [
    "q = 50\n",
    "f = 30\n",
    "\n",
    "#divide\n",
    "div = q/f\n",
    "print(div)"
   ]
  },
  {
   "cell_type": "code",
   "execution_count": 39,
   "id": "db15c99e-880b-45e1-94d4-926ab6b17ae4",
   "metadata": {},
   "outputs": [
    {
     "name": "stdout",
     "output_type": "stream",
     "text": [
      "1.1789473684210525\n"
     ]
    }
   ],
   "source": [
    "g = 560\n",
    "f = 475\n",
    "\n",
    "#divide\n",
    "div = g/f\n",
    "print(div)"
   ]
  },
  {
   "cell_type": "code",
   "execution_count": 41,
   "id": "31dfebf2-56d3-4a9c-90c0-c1fbc04a810a",
   "metadata": {},
   "outputs": [
    {
     "name": "stdout",
     "output_type": "stream",
     "text": [
      "1.5369230769230768\n"
     ]
    }
   ],
   "source": [
    "h = 999\n",
    "r = 650\n",
    "\n",
    "#divide\n",
    "div = h/r\n",
    "print(div)"
   ]
  },
  {
   "cell_type": "code",
   "execution_count": 43,
   "id": "d248b56f-4187-45ee-b922-ab2c4969f9cc",
   "metadata": {},
   "outputs": [
    {
     "name": "stdout",
     "output_type": "stream",
     "text": [
      "0.5\n"
     ]
    }
   ],
   "source": [
    "c = 25\n",
    "d = 50\n",
    "\n",
    "#divide\n",
    "div = c/d\n",
    "print(div)"
   ]
  },
  {
   "cell_type": "code",
   "execution_count": 45,
   "id": "2848bfa1-f253-483e-a415-ed51cc41c59b",
   "metadata": {},
   "outputs": [
    {
     "name": "stdout",
     "output_type": "stream",
     "text": [
      "2.25\n"
     ]
    }
   ],
   "source": [
    "j = 450\n",
    "l = 200\n",
    "\n",
    "#divide\n",
    "div = j/l\n",
    "print(div)"
   ]
  },
  {
   "cell_type": "markdown",
   "id": "f349121f-6637-4ad7-a926-4cdd31e41ebd",
   "metadata": {},
   "source": [
    "#### FLOOR DIVISION :"
   ]
  },
  {
   "cell_type": "markdown",
   "id": "44f1817c-9fc2-494e-bb7c-73e50b02ede8",
   "metadata": {},
   "source": [
    " divides the first operand by the second\n",
    "\n",
    "Examples : "
   ]
  },
  {
   "cell_type": "code",
   "execution_count": 48,
   "id": "5e0b72e4-36b1-4136-887d-85051c003882",
   "metadata": {},
   "outputs": [
    {
     "name": "stdout",
     "output_type": "stream",
     "text": [
      "0\n"
     ]
    }
   ],
   "source": [
    "f = 55\n",
    "g = 78\n",
    "\n",
    "#floordivision\n",
    "fd = f//g\n",
    "print(fd)"
   ]
  },
  {
   "cell_type": "code",
   "execution_count": 50,
   "id": "13526737-298c-433a-9987-aadf67e4058b",
   "metadata": {},
   "outputs": [
    {
     "name": "stdout",
     "output_type": "stream",
     "text": [
      "1\n"
     ]
    }
   ],
   "source": [
    "h = 78\n",
    "y = 49\n",
    "\n",
    "#floordivision\n",
    "fd = h//y\n",
    "print(fd)"
   ]
  },
  {
   "cell_type": "code",
   "execution_count": 52,
   "id": "65060285-bb59-4493-9c91-5d74f81df808",
   "metadata": {},
   "outputs": [
    {
     "name": "stdout",
     "output_type": "stream",
     "text": [
      "1\n"
     ]
    }
   ],
   "source": [
    "j = 56\n",
    "s = 32\n",
    "\n",
    "#floordivision\n",
    "fd = j//s\n",
    "print(fd)"
   ]
  },
  {
   "cell_type": "code",
   "execution_count": 54,
   "id": "da8bf358-a9ba-4d6a-aff8-ee7c76a226c0",
   "metadata": {},
   "outputs": [
    {
     "name": "stdout",
     "output_type": "stream",
     "text": [
      "20\n"
     ]
    }
   ],
   "source": [
    "k = 2568\n",
    "d = 123\n",
    "\n",
    "#floordivision\n",
    "fd = k//d\n",
    "print(fd)"
   ]
  },
  {
   "cell_type": "code",
   "execution_count": 56,
   "id": "c4b79c8f-8279-4ed4-a2a6-3c042b8cacda",
   "metadata": {},
   "outputs": [
    {
     "name": "stdout",
     "output_type": "stream",
     "text": [
      "28\n"
     ]
    }
   ],
   "source": [
    "v = 678\n",
    "c = 24\n",
    "\n",
    "#floordivision\n",
    "fd = v//c\n",
    "print(fd)"
   ]
  },
  {
   "cell_type": "markdown",
   "id": "91e6e675-2c2e-436b-abf1-e326238af038",
   "metadata": {},
   "source": [
    "#### MODULUS :"
   ]
  },
  {
   "cell_type": "markdown",
   "id": "d8fe24be-b6fc-47bf-91e3-4fd3928a2227",
   "metadata": {},
   "source": [
    "returns the remainder when the first operand is divided by the second\n",
    "\n",
    "Examples :"
   ]
  },
  {
   "cell_type": "code",
   "execution_count": 59,
   "id": "a714db9c-3478-47ba-b37d-cec1d97bf070",
   "metadata": {},
   "outputs": [
    {
     "name": "stdout",
     "output_type": "stream",
     "text": [
      "11\n"
     ]
    }
   ],
   "source": [
    "g = 45\n",
    "h = 34\n",
    "\n",
    "#modulus\n",
    "mod = g%h\n",
    "print(mod)"
   ]
  },
  {
   "cell_type": "code",
   "execution_count": 61,
   "id": "9ed2c603-02d7-4e4a-96b3-cbcbb5ab55aa",
   "metadata": {},
   "outputs": [
    {
     "name": "stdout",
     "output_type": "stream",
     "text": [
      "22\n"
     ]
    }
   ],
   "source": [
    "j = 78\n",
    "k = 56\n",
    "\n",
    "#modulus\n",
    "mod = j%k\n",
    "print(mod)"
   ]
  },
  {
   "cell_type": "code",
   "execution_count": 63,
   "id": "3d7d92e1-5b7c-431e-a38a-c28a3ab0b82b",
   "metadata": {},
   "outputs": [
    {
     "name": "stdout",
     "output_type": "stream",
     "text": [
      "67\n"
     ]
    }
   ],
   "source": [
    "h = 67\n",
    "j = 89\n",
    "\n",
    "#modulus\n",
    "mod = h%j\n",
    "print(mod)"
   ]
  },
  {
   "cell_type": "code",
   "execution_count": 65,
   "id": "1d043502-e17f-4335-9672-47cc2f0dba59",
   "metadata": {},
   "outputs": [
    {
     "name": "stdout",
     "output_type": "stream",
     "text": [
      "82\n"
     ]
    }
   ],
   "source": [
    "y = 567\n",
    "k = 97\n",
    "\n",
    "#modulus\n",
    "mod = y%k\n",
    "print(mod)"
   ]
  },
  {
   "cell_type": "code",
   "execution_count": 67,
   "id": "6f194763-dc1e-4176-acba-ada519417cdb",
   "metadata": {},
   "outputs": [
    {
     "name": "stdout",
     "output_type": "stream",
     "text": [
      "10\n"
     ]
    }
   ],
   "source": [
    "n = 10\n",
    "l = 30\n",
    "\n",
    "#modulus\n",
    "mod = n%l\n",
    "print(mod)"
   ]
  },
  {
   "cell_type": "markdown",
   "id": "8f7b95b9-e52f-4d2f-abdb-efd7b215e976",
   "metadata": {},
   "source": [
    "#### EXPONENTIATION :"
   ]
  },
  {
   "cell_type": "markdown",
   "id": "3b3814b3-d276-42ea-95f9-1512f64bad13",
   "metadata": {},
   "source": [
    "Power: Returns first raised to power second\n",
    "\n",
    "Examples :"
   ]
  },
  {
   "cell_type": "code",
   "execution_count": 70,
   "id": "1a735cb5-fbb2-40bd-9bf4-766cfd2136c8",
   "metadata": {},
   "outputs": [
    {
     "name": "stdout",
     "output_type": "stream",
     "text": [
      "3200000\n"
     ]
    }
   ],
   "source": [
    "b = 20\n",
    "c = 5\n",
    "\n",
    "#exponent\n",
    "exp = b**c\n",
    "print(exp)"
   ]
  },
  {
   "cell_type": "code",
   "execution_count": 72,
   "id": "6fd3db20-cd21-4f57-abf0-820fb0f49e63",
   "metadata": {},
   "outputs": [
    {
     "name": "stdout",
     "output_type": "stream",
     "text": [
      "6250000\n"
     ]
    }
   ],
   "source": [
    "v = 50\n",
    "x = 4\n",
    "\n",
    "#exponent\n",
    "exp = v**x\n",
    "print(exp)"
   ]
  },
  {
   "cell_type": "code",
   "execution_count": 74,
   "id": "e1054ec6-3431-4856-9a9d-1b70805a6d21",
   "metadata": {},
   "outputs": [
    {
     "name": "stdout",
     "output_type": "stream",
     "text": [
      "35937\n"
     ]
    }
   ],
   "source": [
    "h = 33\n",
    "t = 3\n",
    "\n",
    "#exponent\n",
    "exp = h**t\n",
    "print(exp)"
   ]
  },
  {
   "cell_type": "code",
   "execution_count": 76,
   "id": "2cfb8358-9085-43c4-bcfb-60b75ea6c224",
   "metadata": {},
   "outputs": [
    {
     "name": "stdout",
     "output_type": "stream",
     "text": [
      "16777216\n"
     ]
    }
   ],
   "source": [
    "g = 8\n",
    "f = 8\n",
    "\n",
    "#exponent\n",
    "exp = g**f\n",
    "print(exp)"
   ]
  },
  {
   "cell_type": "code",
   "execution_count": 78,
   "id": "02a4dc1b-6838-454f-b502-d15c5caaaab3",
   "metadata": {},
   "outputs": [
    {
     "name": "stdout",
     "output_type": "stream",
     "text": [
      "14400\n"
     ]
    }
   ],
   "source": [
    "r = 120\n",
    "b = 2\n",
    "\n",
    "#exponent\n",
    "exp = r**b\n",
    "print(exp)"
   ]
  },
  {
   "cell_type": "markdown",
   "id": "bd247741-ff7f-4194-9c78-6b94b17b94dc",
   "metadata": {},
   "source": [
    "## ASSIGNMENT OPERATORS :"
   ]
  },
  {
   "cell_type": "markdown",
   "id": "1a5c468b-ef99-4a0f-95e5-cc06282d88eb",
   "metadata": {},
   "source": [
    "#### ASSIGNMENT (=) :"
   ]
  },
  {
   "cell_type": "markdown",
   "id": "72b0e75e-4a9f-4b4f-bcbd-4daf51773044",
   "metadata": {},
   "source": [
    "Assign the value of the right side of the expression to the left side operand \n",
    "\n",
    "Examples :"
   ]
  },
  {
   "cell_type": "code",
   "execution_count": 82,
   "id": "6dfe26ec-c960-420f-b1e1-cd1246195492",
   "metadata": {},
   "outputs": [
    {
     "name": "stdout",
     "output_type": "stream",
     "text": [
      "19\n"
     ]
    }
   ],
   "source": [
    "a = 4\n",
    "b = 7\n",
    "c = 8\n",
    "\n",
    "sum = a+b+c\n",
    "print(sum)"
   ]
  },
  {
   "cell_type": "code",
   "execution_count": 84,
   "id": "92db4f0b-d157-4046-8a36-fe342f073e24",
   "metadata": {},
   "outputs": [
    {
     "name": "stdout",
     "output_type": "stream",
     "text": [
      "-64\n"
     ]
    }
   ],
   "source": [
    "g = 67\n",
    "k = 76\n",
    "j = 55\n",
    "\n",
    "sub = g-k-j\n",
    "print(sub)"
   ]
  },
  {
   "cell_type": "code",
   "execution_count": 86,
   "id": "49c5c406-8eb3-46cf-b94b-80bea90e6392",
   "metadata": {},
   "outputs": [
    {
     "name": "stdout",
     "output_type": "stream",
     "text": [
      "6786\n"
     ]
    }
   ],
   "source": [
    "f = 78\n",
    "i = 87\n",
    "\n",
    "mul = f*i\n",
    "print(mul)"
   ]
  },
  {
   "cell_type": "code",
   "execution_count": 88,
   "id": "7abe18a2-2be4-48b6-b560-c6590131043a",
   "metadata": {},
   "outputs": [
    {
     "name": "stdout",
     "output_type": "stream",
     "text": [
      "1.7692307692307692\n"
     ]
    }
   ],
   "source": [
    "h = 23\n",
    "p = 13\n",
    "\n",
    "div = h/p\n",
    "print(div)"
   ]
  },
  {
   "cell_type": "code",
   "execution_count": 90,
   "id": "ded0166e-4468-413d-8caf-bb8a272411d8",
   "metadata": {},
   "outputs": [
    {
     "name": "stdout",
     "output_type": "stream",
     "text": [
      "2\n"
     ]
    }
   ],
   "source": [
    "t = 54\n",
    "y = 24\n",
    "\n",
    "fd = t//y\n",
    "print(fd)"
   ]
  },
  {
   "cell_type": "markdown",
   "id": "5a2b85cb-0e5b-4ce2-9a75-94a2e4707711",
   "metadata": {},
   "source": [
    "#### ADDITION ASSIGNMENT (+=) :"
   ]
  },
  {
   "cell_type": "code",
   "execution_count": null,
   "id": "fffad195-6860-496c-aaf6-e857e5498ec3",
   "metadata": {},
   "outputs": [],
   "source": [
    " Add right-side operand with left-side operand and then assign to left operand\n",
    "\n",
    "Examples :"
   ]
  },
  {
   "cell_type": "code",
   "execution_count": 93,
   "id": "a49fa0cd-bf89-405e-bccc-e5eba15dc561",
   "metadata": {},
   "outputs": [
    {
     "name": "stdout",
     "output_type": "stream",
     "text": [
      "99\n"
     ]
    }
   ],
   "source": [
    "r = 56\n",
    "t = 43\n",
    "\n",
    "r+=t\n",
    "print(r)"
   ]
  },
  {
   "cell_type": "code",
   "execution_count": 97,
   "id": "daf5c9b0-d098-4a76-8e1c-c58d3e402630",
   "metadata": {},
   "outputs": [
    {
     "name": "stdout",
     "output_type": "stream",
     "text": [
      "77\n"
     ]
    }
   ],
   "source": [
    "c = 45\n",
    "g = 32\n",
    "\n",
    "c+=g\n",
    "print(c)"
   ]
  },
  {
   "cell_type": "code",
   "execution_count": 99,
   "id": "277bad61-e192-4a4e-8432-7146224a1f4f",
   "metadata": {},
   "outputs": [
    {
     "name": "stdout",
     "output_type": "stream",
     "text": [
      "92\n"
     ]
    }
   ],
   "source": [
    "b = 67\n",
    "h = 25\n",
    "\n",
    "b+=h\n",
    "print(b)"
   ]
  },
  {
   "cell_type": "code",
   "execution_count": 101,
   "id": "8b5180dd-26c1-4535-aeb7-253da6fae2b8",
   "metadata": {},
   "outputs": [
    {
     "name": "stdout",
     "output_type": "stream",
     "text": [
      "132\n"
     ]
    }
   ],
   "source": [
    "h = 44\n",
    "r= 88\n",
    "\n",
    "h+=r\n",
    "print(h)"
   ]
  },
  {
   "cell_type": "code",
   "execution_count": 103,
   "id": "620274df-bf7e-42d3-a379-ed4ee80282e9",
   "metadata": {},
   "outputs": [
    {
     "name": "stdout",
     "output_type": "stream",
     "text": [
      "89\n"
     ]
    }
   ],
   "source": [
    "k = 45\n",
    "t = 44\n",
    "\n",
    "k+=t\n",
    "print(k)"
   ]
  },
  {
   "cell_type": "markdown",
   "id": "ccd5f153-1e91-40df-97c6-d07f1bd3cadb",
   "metadata": {},
   "source": [
    "#### SUBTRACTION ASSIGNMENT (-=) :"
   ]
  },
  {
   "cell_type": "markdown",
   "id": "5b677558-7201-4824-8b79-d0b60eab1f7b",
   "metadata": {},
   "source": [
    " Subtract right operand from left operand and then assign to left operand\n",
    "\n",
    "Examples : "
   ]
  },
  {
   "cell_type": "code",
   "execution_count": 106,
   "id": "24923f86-20d1-45f0-96d1-0671d799178e",
   "metadata": {},
   "outputs": [
    {
     "name": "stdout",
     "output_type": "stream",
     "text": [
      "18\n"
     ]
    }
   ],
   "source": [
    "a = 50\n",
    "b = 32\n",
    "\n",
    "a-=b\n",
    "print(a)"
   ]
  },
  {
   "cell_type": "code",
   "execution_count": 108,
   "id": "1e3f7e64-39e6-4314-8588-00a5b21b0d02",
   "metadata": {},
   "outputs": [
    {
     "name": "stdout",
     "output_type": "stream",
     "text": [
      "9\n"
     ]
    }
   ],
   "source": [
    "y = 12\n",
    "b = 3\n",
    "\n",
    "y-=b\n",
    "print(y)\n"
   ]
  },
  {
   "cell_type": "code",
   "execution_count": 110,
   "id": "8f23450e-0c31-4d80-8535-fd4d5cb9bdf8",
   "metadata": {},
   "outputs": [
    {
     "name": "stdout",
     "output_type": "stream",
     "text": [
      "7\n"
     ]
    }
   ],
   "source": [
    "h = 75\n",
    "p = 68\n",
    "\n",
    "h-=p\n",
    "print(h)"
   ]
  },
  {
   "cell_type": "code",
   "execution_count": 112,
   "id": "c24214aa-2be1-427a-8986-232d8d9deda5",
   "metadata": {},
   "outputs": [
    {
     "name": "stdout",
     "output_type": "stream",
     "text": [
      "5\n"
     ]
    }
   ],
   "source": [
    "j = 45\n",
    "k = 40\n",
    "\n",
    "j-=k\n",
    "print(j)"
   ]
  },
  {
   "cell_type": "code",
   "execution_count": 114,
   "id": "267daeec-71e2-4cf6-ad64-b773f78b97a6",
   "metadata": {},
   "outputs": [
    {
     "name": "stdout",
     "output_type": "stream",
     "text": [
      "111\n"
     ]
    }
   ],
   "source": [
    "g = 345\n",
    "f = 234\n",
    "\n",
    "g-=f\n",
    "print(g)"
   ]
  },
  {
   "cell_type": "markdown",
   "id": "d6f4d078-22f8-48ef-98e8-0768817825ce",
   "metadata": {},
   "source": [
    "#### MULTIPLCATION ASSIGNMENT (*=) :"
   ]
  },
  {
   "cell_type": "markdown",
   "id": "6b01d7df-90cc-4a38-a93c-b46a368ee364",
   "metadata": {},
   "source": [
    "Multiply right operand with left operand and then assign to left operand\n",
    "\n",
    "Examples :"
   ]
  },
  {
   "cell_type": "code",
   "execution_count": 117,
   "id": "d3bcb708-7d81-4711-8de1-801cfe66eb68",
   "metadata": {},
   "outputs": [
    {
     "name": "stdout",
     "output_type": "stream",
     "text": [
      "240\n"
     ]
    }
   ],
   "source": [
    "a = 12\n",
    "b = 20\n",
    "\n",
    "a*=b\n",
    "print(a)"
   ]
  },
  {
   "cell_type": "code",
   "execution_count": 119,
   "id": "467562dd-51e5-4271-bc0f-17c98874fa92",
   "metadata": {},
   "outputs": [
    {
     "name": "stdout",
     "output_type": "stream",
     "text": [
      "3015\n"
     ]
    }
   ],
   "source": [
    "b = 45\n",
    "c = 67\n",
    "\n",
    "b*=c\n",
    "print(b)"
   ]
  },
  {
   "cell_type": "code",
   "execution_count": 121,
   "id": "31b4a506-06c0-4383-8496-8299b2123c67",
   "metadata": {},
   "outputs": [
    {
     "name": "stdout",
     "output_type": "stream",
     "text": [
      "4368\n"
     ]
    }
   ],
   "source": [
    "d = 78\n",
    "e = 56\n",
    "\n",
    "d*=e\n",
    "print(d)"
   ]
  },
  {
   "cell_type": "code",
   "execution_count": 123,
   "id": "c70a27c0-e2c3-4e5b-b3dc-d92518769bda",
   "metadata": {},
   "outputs": [
    {
     "name": "stdout",
     "output_type": "stream",
     "text": [
      "5600\n"
     ]
    }
   ],
   "source": [
    "f = 80\n",
    "g = 70\n",
    "\n",
    "f*=g\n",
    "print(f)"
   ]
  },
  {
   "cell_type": "code",
   "execution_count": 125,
   "id": "32ed6a52-d061-4d83-a25a-1aa847c1b370",
   "metadata": {},
   "outputs": [
    {
     "name": "stdout",
     "output_type": "stream",
     "text": [
      "8624\n"
     ]
    }
   ],
   "source": [
    "h = 98\n",
    "r = 88\n",
    "\n",
    "h*=r\n",
    "print(h)"
   ]
  },
  {
   "cell_type": "markdown",
   "id": "ed4eb4db-12e1-4c85-a149-707f7e152267",
   "metadata": {},
   "source": [
    "#### DIVISION ASSIGNMENT (/=) :"
   ]
  },
  {
   "cell_type": "markdown",
   "id": "ca781799-5196-46f8-8332-8d914c5ac5e3",
   "metadata": {},
   "source": [
    " Divide left operand with right operand and then assign to left operand\n",
    "\n",
    "Examples : "
   ]
  },
  {
   "cell_type": "code",
   "execution_count": 128,
   "id": "8e8c627e-4d9f-48a2-b5ce-64401aa32f7b",
   "metadata": {},
   "outputs": [
    {
     "name": "stdout",
     "output_type": "stream",
     "text": [
      "1.25\n"
     ]
    }
   ],
   "source": [
    "a = 10\n",
    "b = 8\n",
    "\n",
    "a/=b\n",
    "print(a)"
   ]
  },
  {
   "cell_type": "code",
   "execution_count": 130,
   "id": "2ce4bae4-af60-43db-b673-1660043613dd",
   "metadata": {},
   "outputs": [
    {
     "name": "stdout",
     "output_type": "stream",
     "text": [
      "1.5217391304347827\n"
     ]
    }
   ],
   "source": [
    "g = 35\n",
    "h = 23\n",
    "\n",
    "g/=h\n",
    "print(g)"
   ]
  },
  {
   "cell_type": "code",
   "execution_count": 132,
   "id": "a5eb312d-5740-4b3c-bf2f-9f956167b63f",
   "metadata": {},
   "outputs": [
    {
     "name": "stdout",
     "output_type": "stream",
     "text": [
      "1.164179104477612\n"
     ]
    }
   ],
   "source": [
    "h = 78\n",
    "r = 67\n",
    "\n",
    "h/=r\n",
    "print(h)"
   ]
  },
  {
   "cell_type": "code",
   "execution_count": 134,
   "id": "aa9e4c7f-82ba-47c8-a64e-c50c5d46b8e3",
   "metadata": {},
   "outputs": [
    {
     "name": "stdout",
     "output_type": "stream",
     "text": [
      "3.3076923076923075\n"
     ]
    }
   ],
   "source": [
    "d = 43\n",
    "g = 13\n",
    "\n",
    "d/=g\n",
    "print(d)"
   ]
  },
  {
   "cell_type": "code",
   "execution_count": 136,
   "id": "ab888a54-ff0a-422e-8b5e-3475280f96d0",
   "metadata": {},
   "outputs": [
    {
     "name": "stdout",
     "output_type": "stream",
     "text": [
      "1.3484848484848484\n"
     ]
    }
   ],
   "source": [
    "f = 89\n",
    "k = 66\n",
    "\n",
    "f/=k\n",
    "print(f)"
   ]
  },
  {
   "cell_type": "markdown",
   "id": "dbfc57dc-ee86-4941-91b6-80a252499d66",
   "metadata": {},
   "source": [
    "#### EXPONENT ASSIGNMENT (**=) :"
   ]
  },
  {
   "cell_type": "markdown",
   "id": "6f51eb56-2c5d-47fe-a84c-2e8a2e405dff",
   "metadata": {},
   "source": [
    "Calculate exponent(raise power) value using operands and assign value to left operand\n",
    "\n",
    "Examples :"
   ]
  },
  {
   "cell_type": "code",
   "execution_count": 139,
   "id": "8f7834d0-7df3-47a1-b2e8-7fc9a2f18196",
   "metadata": {},
   "outputs": [
    {
     "name": "stdout",
     "output_type": "stream",
     "text": [
      "160000\n"
     ]
    }
   ],
   "source": [
    "a = 20\n",
    "b = 4\n",
    "\n",
    "a**=b\n",
    "print(a)"
   ]
  },
  {
   "cell_type": "code",
   "execution_count": 141,
   "id": "8cfef138-67fb-461e-8043-d0c252c3f9fe",
   "metadata": {},
   "outputs": [
    {
     "name": "stdout",
     "output_type": "stream",
     "text": [
      "493039\n"
     ]
    }
   ],
   "source": [
    "c = 79\n",
    "d = 3\n",
    "\n",
    "c**=d\n",
    "print(c)"
   ]
  },
  {
   "cell_type": "code",
   "execution_count": 143,
   "id": "3b21b584-b459-4aa6-adda-aa3ccdfb4053",
   "metadata": {},
   "outputs": [
    {
     "name": "stdout",
     "output_type": "stream",
     "text": [
      "4356\n"
     ]
    }
   ],
   "source": [
    "f = 66\n",
    "d = 2\n",
    "\n",
    "f**=d\n",
    "print(f)"
   ]
  },
  {
   "cell_type": "code",
   "execution_count": 145,
   "id": "23cb679a-e35d-436b-be3e-613febbf8a48",
   "metadata": {},
   "outputs": [
    {
     "name": "stdout",
     "output_type": "stream",
     "text": [
      "164916224\n"
     ]
    }
   ],
   "source": [
    "g = 44\n",
    "d = 5\n",
    "\n",
    "g**=d\n",
    "print(g)"
   ]
  },
  {
   "cell_type": "code",
   "execution_count": 149,
   "id": "fc40fabc-a999-4bf9-a391-f816e042c05d",
   "metadata": {},
   "outputs": [
    {
     "name": "stdout",
     "output_type": "stream",
     "text": [
      "125\n"
     ]
    }
   ],
   "source": [
    "a = 5\n",
    "b = 3\n",
    "\n",
    "a**=b\n",
    "print(a)"
   ]
  },
  {
   "cell_type": "markdown",
   "id": "6211b741-f5d1-4610-8cfd-d18c583291ef",
   "metadata": {},
   "source": [
    "#### REMAINDER ASSIGNMENT (%=) :"
   ]
  },
  {
   "cell_type": "markdown",
   "id": "05603832-6df6-45e2-8abc-a2e687c9bdfa",
   "metadata": {},
   "source": [
    "modulus using left and right operands and assign the result to left operand\n",
    "\n",
    "Examples :"
   ]
  },
  {
   "cell_type": "code",
   "execution_count": 152,
   "id": "16e3241f-2013-43f3-9064-6e87734b4c78",
   "metadata": {},
   "outputs": [
    {
     "name": "stdout",
     "output_type": "stream",
     "text": [
      "1\n"
     ]
    }
   ],
   "source": [
    "a = 7\n",
    "b = 3\n",
    "\n",
    "a%=b\n",
    "print(a)"
   ]
  },
  {
   "cell_type": "code",
   "execution_count": 154,
   "id": "0a927d84-2e73-4e82-ac4e-79b3aac9fa24",
   "metadata": {},
   "outputs": [
    {
     "name": "stdout",
     "output_type": "stream",
     "text": [
      "21\n"
     ]
    }
   ],
   "source": [
    "c = 67\n",
    "d = 46\n",
    "\n",
    "c%=d\n",
    "print(c)"
   ]
  },
  {
   "cell_type": "code",
   "execution_count": 156,
   "id": "c0edc03b-9bf4-41bc-88b0-de35965d262e",
   "metadata": {},
   "outputs": [
    {
     "name": "stdout",
     "output_type": "stream",
     "text": [
      "32\n"
     ]
    }
   ],
   "source": [
    "e = 98\n",
    "f = 66\n",
    "\n",
    "e%=f\n",
    "print(e)"
   ]
  },
  {
   "cell_type": "code",
   "execution_count": 158,
   "id": "28346d69-4c7f-4b3a-acee-e65cc45ce9e3",
   "metadata": {},
   "outputs": [
    {
     "name": "stdout",
     "output_type": "stream",
     "text": [
      "11\n"
     ]
    }
   ],
   "source": [
    "g = 55\n",
    "h = 44\n",
    "\n",
    "g%=h\n",
    "print(g)"
   ]
  },
  {
   "cell_type": "code",
   "execution_count": 160,
   "id": "f4d9f131-7397-495e-9891-36dede74501d",
   "metadata": {},
   "outputs": [
    {
     "name": "stdout",
     "output_type": "stream",
     "text": [
      "12\n"
     ]
    }
   ],
   "source": [
    "i = 33\n",
    "k = 21\n",
    "\n",
    "i%=k\n",
    "print(i)"
   ]
  },
  {
   "cell_type": "markdown",
   "id": "28c4e39f-0225-4dc8-aa8b-af92ba092a3c",
   "metadata": {},
   "source": [
    "#### FLOOR DIVISION ASSIGNMENT (//=) :"
   ]
  },
  {
   "cell_type": "markdown",
   "id": "62288e4d-ee87-4e69-952d-12ced1bdae4b",
   "metadata": {},
   "source": [
    "Divide(floor) AND: Divide left operand with right operand and then assign the value(floor) to left operand\n",
    "\n",
    "Examples :"
   ]
  },
  {
   "cell_type": "code",
   "execution_count": 163,
   "id": "fc2fe695-5861-4844-aadf-faeb0cce73ce",
   "metadata": {},
   "outputs": [
    {
     "name": "stdout",
     "output_type": "stream",
     "text": [
      "2\n"
     ]
    }
   ],
   "source": [
    "a = 32\n",
    "b = 12\n",
    "\n",
    "a//=b\n",
    "print(a)"
   ]
  },
  {
   "cell_type": "code",
   "execution_count": 165,
   "id": "111117f9-dbc9-4fb8-9705-3e6eac05cdd7",
   "metadata": {},
   "outputs": [
    {
     "name": "stdout",
     "output_type": "stream",
     "text": [
      "2\n"
     ]
    }
   ],
   "source": [
    "c = 55\n",
    "d = 23\n",
    "\n",
    "c//=d\n",
    "print(c)"
   ]
  },
  {
   "cell_type": "code",
   "execution_count": 167,
   "id": "7fb9ec04-e3c5-44b4-a4f2-210397c44c63",
   "metadata": {},
   "outputs": [
    {
     "name": "stdout",
     "output_type": "stream",
     "text": [
      "1\n"
     ]
    }
   ],
   "source": [
    "e = 34\n",
    "f = 24\n",
    "\n",
    "e//=f\n",
    "print(e)"
   ]
  },
  {
   "cell_type": "code",
   "execution_count": 169,
   "id": "9f9ff1cb-a241-4b05-ae32-682c01440083",
   "metadata": {},
   "outputs": [
    {
     "name": "stdout",
     "output_type": "stream",
     "text": [
      "1\n"
     ]
    }
   ],
   "source": [
    "g = 77\n",
    "h = 66\n",
    "\n",
    "g//=h\n",
    "print(g)"
   ]
  },
  {
   "cell_type": "code",
   "execution_count": 171,
   "id": "ba54ae9d-b522-4c9c-b7cd-4a41d8afef77",
   "metadata": {},
   "outputs": [
    {
     "name": "stdout",
     "output_type": "stream",
     "text": [
      "2\n"
     ]
    }
   ],
   "source": [
    "h = 99\n",
    "r = 44\n",
    "\n",
    "h//=r\n",
    "print(h)"
   ]
  },
  {
   "cell_type": "markdown",
   "id": "a31426cd-ed64-47ef-a38e-b343301fb370",
   "metadata": {},
   "source": [
    "## COMPARISION OPERATORS :"
   ]
  },
  {
   "cell_type": "markdown",
   "id": "5903660f-c443-42ae-ad1b-0760e179ccfd",
   "metadata": {},
   "source": [
    "#### EQUAL TO (==) :"
   ]
  },
  {
   "cell_type": "markdown",
   "id": "6dfb9dda-3b29-4b4a-ad05-f8ee1da9426b",
   "metadata": {},
   "source": [
    " True if both operands are equal\n",
    "\n",
    "Examples : "
   ]
  },
  {
   "cell_type": "code",
   "execution_count": 9,
   "id": "efb206ad-6369-4e01-a1e4-e0f1ee5d92cd",
   "metadata": {},
   "outputs": [
    {
     "name": "stdout",
     "output_type": "stream",
     "text": [
      "True\n"
     ]
    }
   ],
   "source": [
    "a = 7\n",
    "b = 7\n",
    "\n",
    "#equalto\n",
    "print(a==b)\n"
   ]
  },
  {
   "cell_type": "code",
   "execution_count": 11,
   "id": "7c670237-7c5c-4157-94db-424b678820df",
   "metadata": {},
   "outputs": [
    {
     "name": "stdout",
     "output_type": "stream",
     "text": [
      "False\n"
     ]
    }
   ],
   "source": [
    "c = 8\n",
    "d = 9\n",
    "\n",
    "#equalto\n",
    "print(c==d)"
   ]
  },
  {
   "cell_type": "code",
   "execution_count": 13,
   "id": "1a3d37b5-0988-484d-88a2-a8e60d429d0e",
   "metadata": {},
   "outputs": [
    {
     "name": "stdout",
     "output_type": "stream",
     "text": [
      "True\n"
     ]
    }
   ],
   "source": [
    "e = 10\n",
    "f = 10\n",
    "\n",
    "#equalto\n",
    "print(e==f)"
   ]
  },
  {
   "cell_type": "code",
   "execution_count": 15,
   "id": "7a9407d6-f2ac-4856-ac28-d9c85405c19f",
   "metadata": {},
   "outputs": [
    {
     "name": "stdout",
     "output_type": "stream",
     "text": [
      "False\n"
     ]
    }
   ],
   "source": [
    "g = 33\n",
    "h = 55\n",
    "\n",
    "#equalto\n",
    "print(g==h)"
   ]
  },
  {
   "cell_type": "code",
   "execution_count": 17,
   "id": "88f6fea3-5a7a-49cc-840d-d4d1a060124f",
   "metadata": {},
   "outputs": [
    {
     "name": "stdout",
     "output_type": "stream",
     "text": [
      "True\n"
     ]
    }
   ],
   "source": [
    "y = 80\n",
    "z = 80\n",
    "\n",
    "#equalto\n",
    "print(y==z)"
   ]
  },
  {
   "cell_type": "markdown",
   "id": "747271d5-5ce4-4dcf-a099-73d37b1eebaf",
   "metadata": {},
   "source": [
    "#### NOT EQUAL (!=) :"
   ]
  },
  {
   "cell_type": "markdown",
   "id": "5175e956-c712-4908-803b-8fd4e39379c6",
   "metadata": {},
   "source": [
    "True if operands are not equal\n",
    "\n",
    "Examples :"
   ]
  },
  {
   "cell_type": "code",
   "execution_count": 20,
   "id": "2d2133f2-eeb4-4e22-88b2-5235830bc581",
   "metadata": {},
   "outputs": [
    {
     "name": "stdout",
     "output_type": "stream",
     "text": [
      "False\n"
     ]
    }
   ],
   "source": [
    "c = 20\n",
    "d = 20\n",
    "\n",
    "#notequal\n",
    "print(c!=d)"
   ]
  },
  {
   "cell_type": "code",
   "execution_count": 22,
   "id": "f833d6b4-428d-4236-a69a-99ef37413895",
   "metadata": {},
   "outputs": [
    {
     "name": "stdout",
     "output_type": "stream",
     "text": [
      "True\n"
     ]
    }
   ],
   "source": [
    "e = 50\n",
    "f = 30\n",
    "\n",
    "#notequal\n",
    "print(e!=f)"
   ]
  },
  {
   "cell_type": "code",
   "execution_count": 24,
   "id": "edfe8176-8fe6-4441-9010-96c30ee96afc",
   "metadata": {},
   "outputs": [
    {
     "name": "stdout",
     "output_type": "stream",
     "text": [
      "True False\n"
     ]
    }
   ],
   "source": [
    "g = 60\n",
    "h = 50\n",
    "i = 40\n",
    "j = 40\n",
    "\n",
    "#notequal\n",
    "print(g!=h , i!=j)"
   ]
  },
  {
   "cell_type": "code",
   "execution_count": 26,
   "id": "3b8b11ca-688d-4f6e-beb2-b67a80d3c09c",
   "metadata": {},
   "outputs": [
    {
     "name": "stdout",
     "output_type": "stream",
     "text": [
      "True True\n"
     ]
    }
   ],
   "source": [
    "k = 88\n",
    "l = 78\n",
    "j = 67\n",
    "h = 32\n",
    "\n",
    "#notequal\n",
    "print(k!=l , j!=h)"
   ]
  },
  {
   "cell_type": "code",
   "execution_count": 28,
   "id": "9ec92f82-7c75-4bd6-8cc8-63b3e0867429",
   "metadata": {},
   "outputs": [
    {
     "name": "stdout",
     "output_type": "stream",
     "text": [
      "False False\n"
     ]
    }
   ],
   "source": [
    "h = 60\n",
    "r = 60\n",
    "t = 60\n",
    "c = 60\n",
    "\n",
    "#notequal\n",
    "print(h!=r ,t!=c)"
   ]
  },
  {
   "cell_type": "markdown",
   "id": "4ce0fbf2-5d2b-404b-a9cb-6b140be31969",
   "metadata": {},
   "source": [
    "#### GREATER THAN (>) :"
   ]
  },
  {
   "cell_type": "markdown",
   "id": "38cf3e9b-9b92-448a-ad98-1aece674db37",
   "metadata": {},
   "source": [
    "True if the left operand is greater than the right\n",
    "\n",
    "Examples :"
   ]
  },
  {
   "cell_type": "code",
   "execution_count": 31,
   "id": "9595e62d-c0b4-4036-b97c-8f24b87d50c2",
   "metadata": {},
   "outputs": [
    {
     "name": "stdout",
     "output_type": "stream",
     "text": [
      "False\n"
     ]
    }
   ],
   "source": [
    "a = 56\n",
    "b = 78\n",
    "\n",
    "#greaterthan\n",
    "print(a>b)"
   ]
  },
  {
   "cell_type": "code",
   "execution_count": 33,
   "id": "8f2aa6de-a39f-4861-9c42-fabdf465f33d",
   "metadata": {},
   "outputs": [
    {
     "name": "stdout",
     "output_type": "stream",
     "text": [
      "True\n"
     ]
    }
   ],
   "source": [
    "c = 66\n",
    "d = 44\n",
    "\n",
    "#greaterthan\n",
    "print(c>d)"
   ]
  },
  {
   "cell_type": "code",
   "execution_count": 35,
   "id": "f2d6d7ed-ff7d-440d-9a93-8e84649d05b9",
   "metadata": {},
   "outputs": [
    {
     "name": "stdout",
     "output_type": "stream",
     "text": [
      "True\n"
     ]
    }
   ],
   "source": [
    "e = 99\n",
    "f = 70\n",
    "\n",
    "#greaterthan\n",
    "print(e>f)"
   ]
  },
  {
   "cell_type": "code",
   "execution_count": 37,
   "id": "6af68523-fbe3-48d7-a0ea-90e447d6f858",
   "metadata": {},
   "outputs": [
    {
     "name": "stdout",
     "output_type": "stream",
     "text": [
      "False\n"
     ]
    }
   ],
   "source": [
    "g = 67\n",
    "h = 67\n",
    "\n",
    "#greaterthan\n",
    "print(g>h)"
   ]
  },
  {
   "cell_type": "code",
   "execution_count": 39,
   "id": "47c157eb-107b-415c-a5c8-e77e744d1e7d",
   "metadata": {},
   "outputs": [
    {
     "name": "stdout",
     "output_type": "stream",
     "text": [
      "True\n"
     ]
    }
   ],
   "source": [
    "j = 88\n",
    "k = 66\n",
    "\n",
    "#greaterthan\n",
    "print(j>k)"
   ]
  },
  {
   "cell_type": "markdown",
   "id": "f5228298-55bb-4959-adde-11683d58c117",
   "metadata": {},
   "source": [
    "#### LESSER THAN (<) :"
   ]
  },
  {
   "cell_type": "markdown",
   "id": "33cccb50-f42b-497d-ba9d-8ade5a96782f",
   "metadata": {},
   "source": [
    " True if the left operand is less than the right\n",
    "\n",
    "Examples : "
   ]
  },
  {
   "cell_type": "code",
   "execution_count": 42,
   "id": "ea0ee115-6067-4a2c-b3b7-22a3192bbea8",
   "metadata": {},
   "outputs": [
    {
     "name": "stdout",
     "output_type": "stream",
     "text": [
      "False\n"
     ]
    }
   ],
   "source": [
    "a = 50\n",
    "b = 50\n",
    "\n",
    "#lesserthan\n",
    "print(a<b)"
   ]
  },
  {
   "cell_type": "code",
   "execution_count": 44,
   "id": "d9175bee-1a2b-4b7d-a8f8-7eb4ba99271e",
   "metadata": {},
   "outputs": [
    {
     "name": "stdout",
     "output_type": "stream",
     "text": [
      "True\n"
     ]
    }
   ],
   "source": [
    "c = 60\n",
    "d = 70\n",
    "\n",
    "#lesserthan\n",
    "print(c<d)"
   ]
  },
  {
   "cell_type": "code",
   "execution_count": 46,
   "id": "5ecac6da-d5ff-48f1-b57c-e95a13f37ce5",
   "metadata": {},
   "outputs": [
    {
     "name": "stdout",
     "output_type": "stream",
     "text": [
      "True\n"
     ]
    }
   ],
   "source": [
    "e = 78\n",
    "f = 80\n",
    "\n",
    "#lesserthan\n",
    "print(e<f)"
   ]
  },
  {
   "cell_type": "code",
   "execution_count": 48,
   "id": "dfc3f135-9c9f-410e-a053-2b9732ed81d1",
   "metadata": {},
   "outputs": [
    {
     "name": "stdout",
     "output_type": "stream",
     "text": [
      "False\n"
     ]
    }
   ],
   "source": [
    "g = 90\n",
    "h = 60\n",
    "\n",
    "#lesserthan\n",
    "print(g<h)"
   ]
  },
  {
   "cell_type": "code",
   "execution_count": 50,
   "id": "20e551da-be88-4cc1-b4f1-8a3f67ae81b4",
   "metadata": {},
   "outputs": [
    {
     "name": "stdout",
     "output_type": "stream",
     "text": [
      "True\n"
     ]
    }
   ],
   "source": [
    "i = 1000\n",
    "k = 2000\n",
    "\n",
    "#lesserthan\n",
    "print(i<k)"
   ]
  },
  {
   "cell_type": "markdown",
   "id": "be88ae61-c9be-47f7-97e5-194f61671bcd",
   "metadata": {},
   "source": [
    "#### GREATER THAN OR EQUAL TO (>=) :"
   ]
  },
  {
   "cell_type": "markdown",
   "id": "9e9406b7-4ecf-45a6-9b2e-08b822653e0d",
   "metadata": {},
   "source": [
    "Greater than or equal to True if the left operand is greater than or equal to the right\n",
    "\n",
    "Examples :"
   ]
  },
  {
   "cell_type": "code",
   "execution_count": 67,
   "id": "38d630d9-be41-4e2f-b551-171cc553c1b6",
   "metadata": {},
   "outputs": [
    {
     "name": "stdout",
     "output_type": "stream",
     "text": [
      "True\n"
     ]
    }
   ],
   "source": [
    "a = 10\n",
    "b = 10\n",
    "\n",
    "#greaterthanequalto\n",
    "print(a>=b)"
   ]
  },
  {
   "cell_type": "code",
   "execution_count": 65,
   "id": "3d17cf91-3dbc-4e93-9d90-a59deaf85d9a",
   "metadata": {},
   "outputs": [
    {
     "name": "stdout",
     "output_type": "stream",
     "text": [
      "False\n"
     ]
    }
   ],
   "source": [
    "c = 78\n",
    "d = 100\n",
    "\n",
    "#greaterthanequalto\n",
    "print(c>=d)"
   ]
  },
  {
   "cell_type": "code",
   "execution_count": 63,
   "id": "3f2b5ef3-3fb3-4725-9aee-b0f942004c45",
   "metadata": {},
   "outputs": [
    {
     "name": "stdout",
     "output_type": "stream",
     "text": [
      "False\n"
     ]
    }
   ],
   "source": [
    "e = 250\n",
    "f = 400\n",
    "\n",
    "#greaterthanequalto\n",
    "print(e>=f)"
   ]
  },
  {
   "cell_type": "code",
   "execution_count": 59,
   "id": "7ce3fb98-00e7-41a6-a66b-2a156afbaf0a",
   "metadata": {},
   "outputs": [
    {
     "name": "stdout",
     "output_type": "stream",
     "text": [
      "True\n"
     ]
    }
   ],
   "source": [
    "g = 50\n",
    "h = 40\n",
    "\n",
    "#greaterthanequalto\n",
    "print(g>=h)"
   ]
  },
  {
   "cell_type": "code",
   "execution_count": 61,
   "id": "1a254b11-efa1-4d10-8b18-5ff3bf440acc",
   "metadata": {},
   "outputs": [
    {
     "name": "stdout",
     "output_type": "stream",
     "text": [
      "False\n"
     ]
    }
   ],
   "source": [
    "i = 999\n",
    "k = 1000\n",
    "\n",
    "#greaterthanequalto\n",
    "print(i>=k)"
   ]
  },
  {
   "cell_type": "markdown",
   "id": "07a760c4-0e4b-42a2-88b4-a40d5df9e8e1",
   "metadata": {},
   "source": [
    "#### LESSER THAN OR EQUAL (<=) :"
   ]
  },
  {
   "cell_type": "markdown",
   "id": "c818d8ed-bca1-45f8-852c-226f77ce0a36",
   "metadata": {},
   "source": [
    "Less than or equal to True if the left operand is less than or equal to the right\n",
    "\n",
    "Examples :"
   ]
  },
  {
   "cell_type": "code",
   "execution_count": 70,
   "id": "2cf25a68-9eeb-42d0-8f96-c9c73ac9e72a",
   "metadata": {},
   "outputs": [
    {
     "name": "stdout",
     "output_type": "stream",
     "text": [
      "False\n"
     ]
    }
   ],
   "source": [
    "t = 60\n",
    "y = 50\n",
    "\n",
    "#lesserthanequalto\n",
    "print(t<=y)"
   ]
  },
  {
   "cell_type": "code",
   "execution_count": 72,
   "id": "ec80f597-2993-4877-815a-f1d58aaf84ed",
   "metadata": {},
   "outputs": [
    {
     "name": "stdout",
     "output_type": "stream",
     "text": [
      "True\n"
     ]
    }
   ],
   "source": [
    "h = 78\n",
    "r = 78\n",
    "\n",
    "#lesserthanequalto\n",
    "print(h<=r)"
   ]
  },
  {
   "cell_type": "code",
   "execution_count": 74,
   "id": "7a7c62e3-f32b-4505-a4d3-d43a5a462704",
   "metadata": {},
   "outputs": [
    {
     "name": "stdout",
     "output_type": "stream",
     "text": [
      "False\n"
     ]
    }
   ],
   "source": [
    "k = 44\n",
    "e = 32\n",
    "\n",
    "#lesserthanequalto\n",
    "print(k<=e)"
   ]
  },
  {
   "cell_type": "code",
   "execution_count": 76,
   "id": "4e6d22eb-942d-437b-a4a3-754159ad2b70",
   "metadata": {},
   "outputs": [
    {
     "name": "stdout",
     "output_type": "stream",
     "text": [
      "False\n"
     ]
    }
   ],
   "source": [
    "u = 90\n",
    "i = 70\n",
    "\n",
    "#lesserthanequalto\n",
    "print(u<=i)"
   ]
  },
  {
   "cell_type": "code",
   "execution_count": 78,
   "id": "5c252f2e-c31b-4430-8524-1a0316d7e5af",
   "metadata": {},
   "outputs": [
    {
     "name": "stdout",
     "output_type": "stream",
     "text": [
      "True\n"
     ]
    }
   ],
   "source": [
    "v = 20\n",
    "i = 20\n",
    "\n",
    "print(v<=i)"
   ]
  },
  {
   "cell_type": "markdown",
   "id": "66434644-fd42-4c00-90e6-4145a85ed00e",
   "metadata": {},
   "source": [
    "## LOGICAL OPERATORS :"
   ]
  },
  {
   "cell_type": "markdown",
   "id": "5e5888bb-0cc7-401a-ad38-189381e3a0bb",
   "metadata": {},
   "source": [
    "#### TYPES :"
   ]
  },
  {
   "cell_type": "markdown",
   "id": "aad0f093-ca44-4509-8f86-22751135f134",
   "metadata": {},
   "source": [
    "##### AND :"
   ]
  },
  {
   "cell_type": "markdown",
   "id": "30dd9e58-2494-48cf-ad91-8a070df7d5e1",
   "metadata": {},
   "source": [
    "Returns true if both the operands are true \n",
    "\n",
    "Examples :"
   ]
  },
  {
   "cell_type": "code",
   "execution_count": 83,
   "id": "82f5713f-a616-4575-a739-ab6426bf1be2",
   "metadata": {},
   "outputs": [
    {
     "name": "stdout",
     "output_type": "stream",
     "text": [
      "True\n"
     ]
    }
   ],
   "source": [
    "print(10>5 and 2>1)"
   ]
  },
  {
   "cell_type": "code",
   "execution_count": 85,
   "id": "22625be6-2db5-415e-94b4-61279ed34162",
   "metadata": {},
   "outputs": [
    {
     "name": "stdout",
     "output_type": "stream",
     "text": [
      "True\n"
     ]
    }
   ],
   "source": [
    "print(30>20 and 100<400)"
   ]
  },
  {
   "cell_type": "code",
   "execution_count": 87,
   "id": "60995fce-c7ac-4df7-a908-abe221c37e14",
   "metadata": {},
   "outputs": [
    {
     "name": "stdout",
     "output_type": "stream",
     "text": [
      "False\n"
     ]
    }
   ],
   "source": [
    "print(5<5 and 20<30)"
   ]
  },
  {
   "cell_type": "code",
   "execution_count": 89,
   "id": "2e7ba32b-d173-4a30-8c6d-c99395dafd87",
   "metadata": {},
   "outputs": [
    {
     "name": "stdout",
     "output_type": "stream",
     "text": [
      "True\n"
     ]
    }
   ],
   "source": [
    "print(79==79 and 30<40)"
   ]
  },
  {
   "cell_type": "code",
   "execution_count": 93,
   "id": "65898083-0fec-4e33-b8e9-ba796e3f8183",
   "metadata": {},
   "outputs": [
    {
     "name": "stdout",
     "output_type": "stream",
     "text": [
      "False\n"
     ]
    }
   ],
   "source": [
    "print(13>30 and 50<20)"
   ]
  },
  {
   "cell_type": "markdown",
   "id": "a2f60374-5cbc-48e5-ada4-83795f2f5f49",
   "metadata": {},
   "source": [
    "##### OR :"
   ]
  },
  {
   "cell_type": "markdown",
   "id": "8be06d3a-5204-4a15-a89f-c63781e1c0c7",
   "metadata": {},
   "source": [
    "Returns true if either of the operands is true \n",
    "\n",
    "Examples :"
   ]
  },
  {
   "cell_type": "code",
   "execution_count": 96,
   "id": "6ce0527f-cab9-47fb-a20b-e6e378fc6342",
   "metadata": {},
   "outputs": [
    {
     "name": "stdout",
     "output_type": "stream",
     "text": [
      "True\n"
     ]
    }
   ],
   "source": [
    "print(30>50 or 40<60)"
   ]
  },
  {
   "cell_type": "code",
   "execution_count": 98,
   "id": "0e026dce-6150-496f-adb1-b1c633111a9a",
   "metadata": {},
   "outputs": [
    {
     "name": "stdout",
     "output_type": "stream",
     "text": [
      "True\n"
     ]
    }
   ],
   "source": [
    "print(50==50 or 40>100)"
   ]
  },
  {
   "cell_type": "code",
   "execution_count": 100,
   "id": "188b46eb-db1a-4a5a-b842-33a5fe876ab5",
   "metadata": {},
   "outputs": [
    {
     "name": "stdout",
     "output_type": "stream",
     "text": [
      "False\n"
     ]
    }
   ],
   "source": [
    "print(40<20 or 30==20)"
   ]
  },
  {
   "cell_type": "code",
   "execution_count": 102,
   "id": "14519893-df59-463d-8552-a7316ed2dfd1",
   "metadata": {},
   "outputs": [
    {
     "name": "stdout",
     "output_type": "stream",
     "text": [
      "False\n"
     ]
    }
   ],
   "source": [
    "print(100>200 or 70<20)"
   ]
  },
  {
   "cell_type": "code",
   "execution_count": 104,
   "id": "624ad3ea-c260-4b86-b4bd-7bd6ebe9eed2",
   "metadata": {},
   "outputs": [
    {
     "name": "stdout",
     "output_type": "stream",
     "text": [
      "True\n"
     ]
    }
   ],
   "source": [
    "print(550<800 or 50==50)"
   ]
  },
  {
   "cell_type": "markdown",
   "id": "c1e3e3bb-ff7f-4a19-bf67-cca615d81dea",
   "metadata": {},
   "source": [
    "##### NOT :"
   ]
  },
  {
   "cell_type": "code",
   "execution_count": null,
   "id": "bced2723-3719-4e09-a0af-85066a047760",
   "metadata": {},
   "outputs": [],
   "source": [
    "Returns true if the operand is flase \n",
    "\n",
    "Examples :"
   ]
  },
  {
   "cell_type": "code",
   "execution_count": 3,
   "id": "372f88f5-fdd7-4e27-9bd8-8b62ac1eba67",
   "metadata": {},
   "outputs": [
    {
     "name": "stdout",
     "output_type": "stream",
     "text": [
      "True False\n"
     ]
    }
   ],
   "source": [
    "print(not 30<20,20>30)"
   ]
  },
  {
   "cell_type": "code",
   "execution_count": 5,
   "id": "d8a7b72f-01ec-4ed9-baff-c007ec65220b",
   "metadata": {},
   "outputs": [
    {
     "name": "stdout",
     "output_type": "stream",
     "text": [
      "False False\n"
     ]
    }
   ],
   "source": [
    "print(not 10<20,40>50)"
   ]
  },
  {
   "cell_type": "code",
   "execution_count": 7,
   "id": "550e9d35-e866-4b7c-85ce-8c8e534c2ff8",
   "metadata": {},
   "outputs": [
    {
     "name": "stdout",
     "output_type": "stream",
     "text": [
      "False True\n"
     ]
    }
   ],
   "source": [
    "print(not 79==79,68<70)"
   ]
  },
  {
   "cell_type": "code",
   "execution_count": 9,
   "id": "002a00a9-cdc9-4289-b076-127b7deea957",
   "metadata": {},
   "outputs": [
    {
     "name": "stdout",
     "output_type": "stream",
     "text": [
      "True False\n"
     ]
    }
   ],
   "source": [
    "print(not 12>12,55<40)"
   ]
  },
  {
   "cell_type": "code",
   "execution_count": 11,
   "id": "7dfacbc0-6a3a-41dc-8e34-a4bab70a9b3e",
   "metadata": {},
   "outputs": [
    {
     "name": "stdout",
     "output_type": "stream",
     "text": [
      "False True\n"
     ]
    }
   ],
   "source": [
    "print(not 43<80,60==60)"
   ]
  },
  {
   "cell_type": "markdown",
   "id": "0a0b61e8-e7e1-4a70-a9da-7a66c3be6928",
   "metadata": {},
   "source": [
    "### IDENTITY OPERATORS :"
   ]
  },
  {
   "cell_type": "markdown",
   "id": "6a179eeb-5757-4943-8e6f-294d336abada",
   "metadata": {},
   "source": [
    "##### is :"
   ]
  },
  {
   "cell_type": "markdown",
   "id": "923cb6fa-cdc5-48a1-81cc-9d3d2bb0d665",
   "metadata": {},
   "source": [
    "True . If the operands are identical refer to the same object"
   ]
  },
  {
   "cell_type": "markdown",
   "id": "fab04767-af12-4f1c-9a6e-58fcfac97154",
   "metadata": {},
   "source": [
    "##### isnot :"
   ]
  },
  {
   "cell_type": "markdown",
   "id": "5111cb54-abfc-4a3f-8935-27e94ac08bc4",
   "metadata": {},
   "source": [
    "True . If the operand are not identical do not refer to the same object"
   ]
  },
  {
   "cell_type": "markdown",
   "id": "97894425-a566-47e2-85dd-6466abc0342d",
   "metadata": {},
   "source": [
    "##### Examples :"
   ]
  },
  {
   "cell_type": "code",
   "execution_count": 17,
   "id": "ed5f188f-5ce4-422e-bbd7-9fe2384dc4e4",
   "metadata": {},
   "outputs": [
    {
     "name": "stdout",
     "output_type": "stream",
     "text": [
      "True\n",
      "True\n",
      "False\n"
     ]
    }
   ],
   "source": [
    "x1 = 4\n",
    "y1 = 4\n",
    "x2 = 'HELLO'\n",
    "y2 = 'HELLO VIZAG'\n",
    "\n",
    "print(x1 is y1)\n",
    "print(x2 is not y2)\n",
    "print(y1 is y2)"
   ]
  },
  {
   "cell_type": "code",
   "execution_count": 19,
   "id": "513d9a23-2479-44dd-8238-a1ba831e03a5",
   "metadata": {},
   "outputs": [
    {
     "name": "stdout",
     "output_type": "stream",
     "text": [
      "True\n",
      "True\n",
      "False\n",
      "True\n"
     ]
    }
   ],
   "source": [
    "x1 = 10\n",
    "x2 = 10\n",
    "y1 = 'Hi'\n",
    "y2 = 'HI'\n",
    "\n",
    "print(x1 is x2)\n",
    "print(x2 is not y2)\n",
    "print(y1 is y2)\n",
    "print(y1 is not y2)"
   ]
  },
  {
   "cell_type": "code",
   "execution_count": 21,
   "id": "1d0158d1-9311-40a9-9ec7-77d7c8d4a348",
   "metadata": {},
   "outputs": [
    {
     "name": "stdout",
     "output_type": "stream",
     "text": [
      "False\n",
      "True\n",
      "False\n"
     ]
    }
   ],
   "source": [
    "x1 = 100\n",
    "x2 = 400\n",
    "z1 = 'Bro'\n",
    "z2 = 'bro'\n",
    "\n",
    "print(x1 is x2)\n",
    "print(x2 is not z2)\n",
    "print(z1 is z2)\n"
   ]
  },
  {
   "cell_type": "code",
   "execution_count": 23,
   "id": "1e6e575e-59b1-49d5-ae5b-cbb4c2f02f0a",
   "metadata": {},
   "outputs": [
    {
     "name": "stdout",
     "output_type": "stream",
     "text": [
      "False\n",
      "True\n",
      "True\n"
     ]
    }
   ],
   "source": [
    "y1 = 370\n",
    "y2 = 370\n",
    "z1 = 'Sandy'\n",
    "z2 = 'Sandy'\n",
    "\n",
    "print(y1 is y2)\n",
    "print(y2 is not z2)\n",
    "print(z1 is z2)"
   ]
  },
  {
   "cell_type": "code",
   "execution_count": 25,
   "id": "cab8aaf9-09e5-43f5-a2b7-2aa98368790e",
   "metadata": {},
   "outputs": [
    {
     "name": "stdout",
     "output_type": "stream",
     "text": [
      "False\n",
      "True\n",
      "True\n"
     ]
    }
   ],
   "source": [
    "z1 = 450\n",
    "z2 = 450\n",
    "x1 = 'hyd'\n",
    "x2 = 'hyd'\n",
    "\n",
    "print(z1 is z2)\n",
    "print(z2 is not x2)\n",
    "print(x1 is x2)"
   ]
  },
  {
   "cell_type": "markdown",
   "id": "91390160-0665-4390-8a04-e6a9fa1c249e",
   "metadata": {},
   "source": [
    "### MEMBERSHIP OPERATORS :"
   ]
  },
  {
   "cell_type": "markdown",
   "id": "4b6f85e2-3642-40b6-85f3-53c161f78a15",
   "metadata": {},
   "source": [
    "##### in :"
   ]
  },
  {
   "cell_type": "markdown",
   "id": "dffeaac3-5c89-46ec-9cdb-594ba0ea6456",
   "metadata": {},
   "source": [
    "True . If value/variable is found in a sequence"
   ]
  },
  {
   "cell_type": "markdown",
   "id": "3ce9f805-2f1c-44d5-af3a-76118b9bff6e",
   "metadata": {},
   "source": [
    "##### notin :"
   ]
  },
  {
   "cell_type": "markdown",
   "id": "1e7d0916-f744-42d2-8764-c7583efd8b98",
   "metadata": {},
   "source": [
    "True . If value/variable is not found in a sequence "
   ]
  },
  {
   "cell_type": "markdown",
   "id": "39ca2fec-64bc-462b-a59e-df206b4e7ba3",
   "metadata": {},
   "source": [
    "##### Examples :"
   ]
  },
  {
   "cell_type": "code",
   "execution_count": 31,
   "id": "60ac4c32-62e6-44ba-aa43-3a803ffefc79",
   "metadata": {},
   "outputs": [
    {
     "name": "stdout",
     "output_type": "stream",
     "text": [
      "True\n",
      "True\n",
      "True\n",
      "False\n"
     ]
    }
   ],
   "source": [
    "x = 'Hello Vizag'\n",
    "y = {1,2,3,4,5}\n",
    "\n",
    "print('H' in x)\n",
    "print('V' in x)\n",
    "print('hello' not in x)\n",
    "print('1' in y)"
   ]
  },
  {
   "cell_type": "code",
   "execution_count": 33,
   "id": "9586df7a-358a-456a-b123-878edd6febd5",
   "metadata": {},
   "outputs": [
    {
     "name": "stdout",
     "output_type": "stream",
     "text": [
      "True\n",
      "True\n",
      "False\n"
     ]
    }
   ],
   "source": [
    "x = 'HI'\n",
    "y = {2,4,6,8,10}\n",
    "\n",
    "print('H' in x)\n",
    "print('i' not in x)\n",
    "print('4' in y)"
   ]
  },
  {
   "cell_type": "code",
   "execution_count": 35,
   "id": "9697a373-7022-48f6-bd28-97328e02863b",
   "metadata": {},
   "outputs": [
    {
     "name": "stdout",
     "output_type": "stream",
     "text": [
      "True\n",
      "False\n",
      "False\n",
      "True\n",
      "True\n"
     ]
    }
   ],
   "source": [
    "y = 'Hello World'\n",
    "z = {1,3,5,9,10}\n",
    "\n",
    "print('H' in x)\n",
    "print('W' in x)\n",
    "print('1' in y)\n",
    "print('h' not in x)\n",
    "print('w' not in x)"
   ]
  },
  {
   "cell_type": "code",
   "execution_count": 37,
   "id": "37c76c55-2914-4a1e-a9e8-52e5e649d874",
   "metadata": {},
   "outputs": [
    {
     "name": "stdout",
     "output_type": "stream",
     "text": [
      "False\n",
      "False\n",
      "True\n"
     ]
    }
   ],
   "source": [
    "z = 'Sandy'\n",
    "y = {1,2,3,4,5,7,9,10}\n",
    "\n",
    "print('S' in x)\n",
    "print('9' in y)\n",
    "print('z' not in x)"
   ]
  },
  {
   "cell_type": "markdown",
   "id": "908d1887-e6f0-49e1-90b8-d84b27eb01d4",
   "metadata": {},
   "source": [
    "### PRECEDENCE :"
   ]
  },
  {
   "cell_type": "code",
   "execution_count": null,
   "id": "2ea67c9d-7a02-4247-8a42-b08f2042cd56",
   "metadata": {},
   "outputs": [],
   "source": []
  },
  {
   "cell_type": "markdown",
   "id": "e4d735e9-f922-4aa7-9860-975f8adb8be0",
   "metadata": {},
   "source": [
    "### OPERATORS"
   ]
  },
  {
   "cell_type": "markdown",
   "id": "351f4bf7-6ad8-481d-b50f-c48f75de8f61",
   "metadata": {},
   "source": [
    "##### () - PARANTHESIS "
   ]
  },
  {
   "cell_type": "markdown",
   "id": "41c6ca83-ed8d-4ca6-8f52-230b415515f1",
   "metadata": {},
   "source": [
    "##### ** - EXPONENTIATION "
   ]
  },
  {
   "cell_type": "markdown",
   "id": "d542ff36-6eaf-4b1c-b99a-fd010f64254e",
   "metadata": {},
   "source": [
    "##### +x -x - Unary plus , unary minus , bitwise not"
   ]
  },
  {
   "cell_type": "markdown",
   "id": "5eef2c30-c1e1-4ea4-82a1-33f9495a06f5",
   "metadata": {},
   "source": [
    "##### * / // %  - Multiplcation , division , floor division, modulus"
   ]
  },
  {
   "cell_type": "markdown",
   "id": "26b90bf7-fb1a-4fea-91ef-60bfe32892cd",
   "metadata": {},
   "source": [
    "##### + - - Addition , subtraction"
   ]
  },
  {
   "cell_type": "markdown",
   "id": "d692e842-5bc4-4545-9dba-21be987129f1",
   "metadata": {},
   "source": [
    "##### <<  >> - Bitwise left and right shift "
   ]
  },
  {
   "cell_type": "markdown",
   "id": "ecaa016f-1a6b-4e22-9a64-0e8a43a77345",
   "metadata": {},
   "source": [
    "##### & - Bitwise And"
   ]
  },
  {
   "cell_type": "markdown",
   "id": "9ad16a43-a7a7-4fb1-90f1-3a9cdf96b3e8",
   "metadata": {},
   "source": [
    "##### ^ - Bitwise Xor"
   ]
  },
  {
   "cell_type": "markdown",
   "id": "5d8a52b6-e1ca-404c-9d58-e83094936ab6",
   "metadata": {},
   "source": [
    "##### and - AND"
   ]
  },
  {
   "cell_type": "markdown",
   "id": "191f2bdc-6475-45cc-beef-073522cef101",
   "metadata": {},
   "source": [
    "##### or - OR "
   ]
  },
  {
   "cell_type": "markdown",
   "id": "65236af8-43f0-4143-888d-483cc0484298",
   "metadata": {},
   "source": [
    "##### Examples :"
   ]
  },
  {
   "cell_type": "code",
   "execution_count": 59,
   "id": "887d7754-6bfe-4348-a283-2611d809b906",
   "metadata": {},
   "outputs": [
    {
     "data": {
      "text/plain": [
       "2419"
      ]
     },
     "execution_count": 59,
     "metadata": {},
     "output_type": "execute_result"
    }
   ],
   "source": [
    "2 + 3*(3+1)+7**4+4"
   ]
  },
  {
   "cell_type": "code",
   "execution_count": 63,
   "id": "baaf05c1-f87e-43da-826d-6237bf2959e1",
   "metadata": {},
   "outputs": [
    {
     "data": {
      "text/plain": [
       "16777359"
      ]
     },
     "execution_count": 63,
     "metadata": {},
     "output_type": "execute_result"
    }
   ],
   "source": [
    "4 * 6 +(5-2)+8**8+5*7+(9*9)"
   ]
  },
  {
   "cell_type": "code",
   "execution_count": 65,
   "id": "87594082-8cfd-4631-a6f4-c0475f9a3b1b",
   "metadata": {},
   "outputs": [
    {
     "data": {
      "text/plain": [
       "1186"
      ]
     },
     "execution_count": 65,
     "metadata": {},
     "output_type": "execute_result"
    }
   ],
   "source": [
    "7 + 7 *(8*8)+9**3^2"
   ]
  },
  {
   "cell_type": "code",
   "execution_count": null,
   "id": "1e338c8c-a2fd-4300-9240-0f0f41c453ad",
   "metadata": {},
   "outputs": [],
   "source": []
  }
 ],
 "metadata": {
  "kernelspec": {
   "display_name": "Python 3 (ipykernel)",
   "language": "python",
   "name": "python3"
  },
  "language_info": {
   "codemirror_mode": {
    "name": "ipython",
    "version": 3
   },
   "file_extension": ".py",
   "mimetype": "text/x-python",
   "name": "python",
   "nbconvert_exporter": "python",
   "pygments_lexer": "ipython3",
   "version": "3.12.4"
  }
 },
 "nbformat": 4,
 "nbformat_minor": 5
}
