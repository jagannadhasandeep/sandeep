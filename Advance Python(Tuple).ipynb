{
 "cells": [
  {
   "cell_type": "markdown",
   "id": "ef767c03-128f-4284-b68e-3d06a91c4e70",
   "metadata": {},
   "source": [
    "## PYTHON TUPLES"
   ]
  },
  {
   "cell_type": "markdown",
   "id": "3c437e8d-7e19-4e58-a174-86f1ab0f29f2",
   "metadata": {},
   "source": [
    "-> A tuple is a data tyoe that represents an ordered immutable sequence of elements\n",
    "\n",
    "-> Tuples are similar to lists, but the key difference is that tuples cannot be modified once they are created"
   ]
  },
  {
   "cell_type": "markdown",
   "id": "fd248751-81ad-45cd-a881-7641cf25c232",
   "metadata": {},
   "source": [
    "## FEATURES OF PYTHON TUPLES :"
   ]
  },
  {
   "cell_type": "markdown",
   "id": "f6591df4-90aa-4ef9-91c5-1f987ab59ef3",
   "metadata": {},
   "source": [
    "-> Tuple are an immutable data type meaning their elements cannot be changed after they are generated\n",
    "\n",
    "-> Each element in a tuple has a specific order that will never change because tuples are ordered sequences "
   ]
  },
  {
   "cell_type": "markdown",
   "id": "68949860-14b3-4044-965a-ac1d8ede844c",
   "metadata": {},
   "source": [
    "## CREATION OF A TUPLE :"
   ]
  },
  {
   "cell_type": "code",
   "execution_count": 4,
   "id": "28d11287-6c4e-4ece-9a5e-8c44020b3d9f",
   "metadata": {},
   "outputs": [
    {
     "name": "stdout",
     "output_type": "stream",
     "text": [
      "<class 'tuple'>\n",
      "<class 'tuple'>\n"
     ]
    }
   ],
   "source": [
    "empty_tuple = ()\n",
    "fruits = (\"apple\",\"mango\",\"orange\")\n",
    "fruits\n",
    "print(type(fruits))\n",
    "mixed_tuple =(1,\"apple\",3.6,True)\n",
    "mixed_tuple\n",
    "(1,'apple',3.6,True)\n",
    "single_element_tuple =(42,)\n",
    "print(type(single_element_tuple))\n"
   ]
  },
  {
   "cell_type": "markdown",
   "id": "b1f688ac-c291-4eec-8523-1f8ed15329d8",
   "metadata": {},
   "source": [
    "## ACCESSING OF TUPLE :"
   ]
  },
  {
   "cell_type": "markdown",
   "id": "4a7e3291-259b-44a5-ab02-4a23dbec115a",
   "metadata": {},
   "source": [
    "Tuple support indexing and slicing just like a lists"
   ]
  },
  {
   "cell_type": "markdown",
   "id": "bf80f25d-bffb-44c0-9e47-0f602b96474c",
   "metadata": {},
   "source": [
    "##### Examples :"
   ]
  },
  {
   "cell_type": "code",
   "execution_count": 8,
   "id": "4048fcb2-2929-4ee3-bae4-1d22678a0d7b",
   "metadata": {},
   "outputs": [
    {
     "name": "stdout",
     "output_type": "stream",
     "text": [
      "apple\n",
      "('apple', 'mango')\n"
     ]
    }
   ],
   "source": [
    "fruits =(\"apple\",\"mango\",\"orange\")\n",
    "print(fruits[0])\n",
    "print(fruits[0:2])"
   ]
  },
  {
   "cell_type": "code",
   "execution_count": 10,
   "id": "2a5360d7-7f28-4e9f-8bde-0f77d5adbb31",
   "metadata": {},
   "outputs": [
    {
     "name": "stdout",
     "output_type": "stream",
     "text": [
      "ap\n",
      "('odisha', 'ts', 'chennai')\n"
     ]
    }
   ],
   "source": [
    "states =(\"ap\",\"odisha\",\"ts\",\"chennai\")\n",
    "print(states[0])\n",
    "print(states[1:])"
   ]
  },
  {
   "cell_type": "markdown",
   "id": "ff8aa142-867b-477a-9065-1d6854400c01",
   "metadata": {},
   "source": [
    "## IMMUTABLITY :"
   ]
  },
  {
   "cell_type": "markdown",
   "id": "800ccc96-f563-48e1-aa28-13a92b3b80df",
   "metadata": {},
   "source": [
    "Once a tuple is created you cannot change its element or add/remove the elements "
   ]
  },
  {
   "cell_type": "markdown",
   "id": "0e2b2c8e-ca80-4446-8149-a2d778b4fff1",
   "metadata": {},
   "source": [
    "##### Examples :"
   ]
  },
  {
   "cell_type": "code",
   "execution_count": 20,
   "id": "f7c5617c-3e4f-47e0-9bd7-d89111e3288a",
   "metadata": {},
   "outputs": [
    {
     "ename": "SyntaxError",
     "evalue": "cannot assign to function call here. Maybe you meant '==' instead of '='? (2554295824.py, line 2)",
     "output_type": "error",
     "traceback": [
      "\u001b[1;36m  Cell \u001b[1;32mIn[20], line 2\u001b[1;36m\u001b[0m\n\u001b[1;33m    bikes(2) = \"Activa\"\u001b[0m\n\u001b[1;37m    ^\u001b[0m\n\u001b[1;31mSyntaxError\u001b[0m\u001b[1;31m:\u001b[0m cannot assign to function call here. Maybe you meant '==' instead of '='?\n"
     ]
    }
   ],
   "source": [
    "bikes = (\"Plusar\",\"BMW\",\"Duke\")\n",
    "bikes(2) = \"Activa\"\n",
    "bikes"
   ]
  },
  {
   "cell_type": "markdown",
   "id": "bfbdeca4-cbaa-4a5d-8e59-c349e77a1204",
   "metadata": {},
   "source": [
    "## TUPLE OPERATORS :"
   ]
  },
  {
   "cell_type": "markdown",
   "id": "b22e9fe7-0729-4b20-81e3-2e30d46a4520",
   "metadata": {},
   "source": [
    "##### -> CONCATENATION"
   ]
  },
  {
   "cell_type": "markdown",
   "id": "2ff74e15-d6af-490f-ae7a-d4b0c569bfa4",
   "metadata": {},
   "source": [
    "##### -> REPETITION"
   ]
  },
  {
   "cell_type": "code",
   "execution_count": 27,
   "id": "fffff724-f071-4a2e-a2a4-ebed745fb2c2",
   "metadata": {},
   "outputs": [
    {
     "name": "stdout",
     "output_type": "stream",
     "text": [
      "(1, 2, 3, 4, 'a', 'b', 'c', 'd')\n"
     ]
    }
   ],
   "source": [
    "#concatenation\n",
    "tuple1 = (1,2,3,4)\n",
    "tuple2 = ('a','b','c','d')\n",
    "result = tuple1 + tuple2\n",
    "print(result)"
   ]
  },
  {
   "cell_type": "code",
   "execution_count": 31,
   "id": "9961ed79-c252-403d-9dc2-4628b7a92a87",
   "metadata": {},
   "outputs": [
    {
     "name": "stdout",
     "output_type": "stream",
     "text": [
      "('a', 'b', 'c', 'd', 'a', 'b', 'c', 'd', 'a', 'b', 'c', 'd', 'a', 'b', 'c', 'd', 'a', 'b', 'c', 'd', 'a', 'b', 'c', 'd', 'a', 'b', 'c', 'd', 'a', 'b', 'c', 'd', 'a', 'b', 'c', 'd', 'a', 'b', 'c', 'd', 'a', 'b', 'c', 'd', 'a', 'b', 'c', 'd', 'a', 'b', 'c', 'd', 'a', 'b', 'c', 'd', 'a', 'b', 'c', 'd', 'a', 'b', 'c', 'd', 'a', 'b', 'c', 'd', 'a', 'b', 'c', 'd', 'a', 'b', 'c', 'd', 'a', 'b', 'c', 'd', 'a', 'b', 'c', 'd', 'a', 'b', 'c', 'd', 'a', 'b', 'c', 'd', 'a', 'b', 'c', 'd', 'a', 'b', 'c', 'd', 'a', 'b', 'c', 'd', 'a', 'b', 'c', 'd', 'a', 'b', 'c', 'd', 'a', 'b', 'c', 'd', 'a', 'b', 'c', 'd', 'a', 'b', 'c', 'd', 'a', 'b', 'c', 'd', 'a', 'b', 'c', 'd', 'a', 'b', 'c', 'd', 'a', 'b', 'c', 'd', 'a', 'b', 'c', 'd', 'a', 'b', 'c', 'd', 'a', 'b', 'c', 'd', 'a', 'b', 'c', 'd', 'a', 'b', 'c', 'd', 'a', 'b', 'c', 'd', 'a', 'b', 'c', 'd', 'a', 'b', 'c', 'd', 'a', 'b', 'c', 'd', 'a', 'b', 'c', 'd', 'a', 'b', 'c', 'd', 'a', 'b', 'c', 'd', 'a', 'b', 'c', 'd', 'a', 'b', 'c', 'd', 'a', 'b', 'c', 'd')\n"
     ]
    }
   ],
   "source": [
    "#repetition\n",
    "tuple1 = ('a','b','c','d')\n",
    "result = tuple1*50\n",
    "print(result)"
   ]
  },
  {
   "cell_type": "markdown",
   "id": "63712c08-41d5-48c4-8abe-fe8ad89933c4",
   "metadata": {},
   "source": [
    "## TUPLE METHODS :"
   ]
  },
  {
   "cell_type": "markdown",
   "id": "df038500-6636-4a03-a39b-360521f3d481",
   "metadata": {},
   "source": [
    "#### -> COUNT() :"
   ]
  },
  {
   "cell_type": "code",
   "execution_count": 37,
   "id": "8a29d2b4-27a4-4c42-884d-488f811bfd04",
   "metadata": {},
   "outputs": [
    {
     "name": "stdout",
     "output_type": "stream",
     "text": [
      "1\n"
     ]
    }
   ],
   "source": [
    "numbers = (1,2,3,4,5,7,8,9,10)\n",
    "count_of_2 = numbers.count(5)\n",
    "print(count_of_2)"
   ]
  },
  {
   "cell_type": "code",
   "execution_count": 39,
   "id": "bd21420c-f436-4dd2-b408-2c27afc7205b",
   "metadata": {},
   "outputs": [
    {
     "name": "stdout",
     "output_type": "stream",
     "text": [
      "2\n"
     ]
    }
   ],
   "source": [
    "numbers = (12,34,34, 113, 45,12,113,100,100,24,24)\n",
    "count_of_2 = numbers.count(24)\n",
    "print(count_of_2)"
   ]
  },
  {
   "cell_type": "markdown",
   "id": "92118448-97de-4e1f-9622-4c4214ebbbd8",
   "metadata": {},
   "source": [
    "#### -> INDEX() :"
   ]
  },
  {
   "cell_type": "code",
   "execution_count": 42,
   "id": "7fdf5816-b7a6-404d-9715-e526b9552bc8",
   "metadata": {},
   "outputs": [
    {
     "name": "stdout",
     "output_type": "stream",
     "text": [
      "5\n"
     ]
    }
   ],
   "source": [
    "numbers = (1,23,4,556,67,2,3,67,89,45,98)\n",
    "index_of_3 = numbers.index(2)\n",
    "print(index_of_3)"
   ]
  },
  {
   "cell_type": "code",
   "execution_count": 44,
   "id": "f95f304c-4e3e-4630-a68b-6487556cbc80",
   "metadata": {},
   "outputs": [
    {
     "name": "stdout",
     "output_type": "stream",
     "text": [
      "1\n"
     ]
    }
   ],
   "source": [
    "numbers = (234, 456, 678, 234, 456,678)\n",
    "index_of_3 = numbers.index(456)\n",
    "print(index_of_3)"
   ]
  },
  {
   "cell_type": "code",
   "execution_count": null,
   "id": "71692ac7-6e12-49ad-87f0-850085d7f654",
   "metadata": {},
   "outputs": [],
   "source": []
  }
 ],
 "metadata": {
  "kernelspec": {
   "display_name": "Python 3 (ipykernel)",
   "language": "python",
   "name": "python3"
  },
  "language_info": {
   "codemirror_mode": {
    "name": "ipython",
    "version": 3
   },
   "file_extension": ".py",
   "mimetype": "text/x-python",
   "name": "python",
   "nbconvert_exporter": "python",
   "pygments_lexer": "ipython3",
   "version": "3.12.4"
  }
 },
 "nbformat": 4,
 "nbformat_minor": 5
}
