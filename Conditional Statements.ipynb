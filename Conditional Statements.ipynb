{
 "cells": [
  {
   "cell_type": "markdown",
   "id": "db7e2a7b-1851-4a6e-9e4e-66696abbb25e",
   "metadata": {},
   "source": [
    "## PYTHON CONDITIONAL STATEMENTS :"
   ]
  },
  {
   "cell_type": "markdown",
   "id": "645e7327-5f4e-4c23-a157-26a406b1eb78",
   "metadata": {},
   "source": [
    "#### -> IF CONDITION :"
   ]
  },
  {
   "cell_type": "markdown",
   "id": "32f77bd5-8273-4c26-bad8-76b8d1c598ec",
   "metadata": {},
   "source": [
    "An if statement executes a block of code only when the specified condition is met.\n",
    "Here, condition is a boolean expression, such as number > 5, that evaluates to either True or False.\r\n",
    "\r\n",
    "If condition evaluates to True, the body of the if statement is executed.\r\n",
    "If condition evaluates to False, the body of the if statement will be skipped from execution."
   ]
  },
  {
   "cell_type": "markdown",
   "id": "9c8bbaba-c701-4028-aec9-2c40b5a63d80",
   "metadata": {},
   "source": [
    "##### SYNTAX :"
   ]
  },
  {
   "cell_type": "markdown",
   "id": "f3bff2bb-f0f9-4b25-b5f2-8cd6c8fb9dc0",
   "metadata": {},
   "source": [
    "if condition:\r\n",
    "    # body of if statement"
   ]
  },
  {
   "cell_type": "markdown",
   "id": "5782deca-baf0-4842-994e-d4a05e766d38",
   "metadata": {},
   "source": [
    "##### EXAMPLES :"
   ]
  },
  {
   "cell_type": "code",
   "execution_count": 7,
   "id": "33cc1a70-5228-4e88-ab61-31d3af839fc4",
   "metadata": {},
   "outputs": [
    {
     "name": "stdin",
     "output_type": "stream",
     "text": [
      "Enter a number:  20\n"
     ]
    },
    {
     "name": "stdout",
     "output_type": "stream",
     "text": [
      "20 is a positive number\n"
     ]
    }
   ],
   "source": [
    "number = int(input('Enter a number: '))\n",
    "\n",
    "if number > 0:\n",
    "    print(f'{number} is a positive number')"
   ]
  },
  {
   "cell_type": "code",
   "execution_count": 19,
   "id": "0e05fd08-e48d-41f0-a04e-7e2d2042099a",
   "metadata": {},
   "outputs": [
    {
     "name": "stdout",
     "output_type": "stream",
     "text": [
      "a is greater than b\n"
     ]
    }
   ],
   "source": [
    "a = 33\n",
    "b = 20\n",
    "if a > b :\n",
    "  print(\"a is greater than b\")"
   ]
  },
  {
   "cell_type": "code",
   "execution_count": 23,
   "id": "ce82ed8e-cf38-4057-9160-56e1e5463127",
   "metadata": {},
   "outputs": [
    {
     "name": "stdout",
     "output_type": "stream",
     "text": [
      "10 Lesser than 55\n",
      "Program ended\n"
     ]
    }
   ],
   "source": [
    "if 10 < 55 :\n",
    "    print('10 Lesser than 55')\n",
    "\n",
    "print('Program ended')\n"
   ]
  },
  {
   "cell_type": "markdown",
   "id": "0be40afc-ff71-46fe-94d4-76baa343095f",
   "metadata": {},
   "source": [
    "## IF ELSE CONDITION :"
   ]
  },
  {
   "cell_type": "markdown",
   "id": "f9ce25a7-b247-4ac5-9814-0e0fda63c3f8",
   "metadata": {},
   "source": [
    "An if statement can have an optional else clause. The else statement executes if the condition in the if statement evaluates to False.\n",
    "Here, if the condition inside the if statement evaluates to\r\n",
    "\r\n",
    "True - the body of if executes, and the body of else is skipped.\r\n",
    "False - the body of else executes, and the body of if is skipped"
   ]
  },
  {
   "cell_type": "markdown",
   "id": "48a330d6-38a9-4d5b-8b35-a9356f0f65ad",
   "metadata": {},
   "source": [
    "#### SYNTAX :"
   ]
  },
  {
   "cell_type": "markdown",
   "id": "f56b3073-ab60-4273-a2d5-620983c5a234",
   "metadata": {},
   "source": [
    "if condition:\n",
    "    # body of if statement\n",
    "else:\n",
    "    # body of else statement"
   ]
  },
  {
   "cell_type": "markdown",
   "id": "40a9f475-2767-4dc8-a6b3-922e8dd7d69f",
   "metadata": {},
   "source": [
    "##### EXAMPLES :"
   ]
  },
  {
   "cell_type": "code",
   "execution_count": 30,
   "id": "b885e1fe-787e-41f4-a965-0db64049cf7f",
   "metadata": {},
   "outputs": [
    {
     "name": "stdin",
     "output_type": "stream",
     "text": [
      "Enter the Year :  2024\n"
     ]
    },
    {
     "name": "stdout",
     "output_type": "stream",
     "text": [
      "2024 is a leap year.\n"
     ]
    }
   ],
   "source": [
    "years = int(input(\"Enter the Year : \"))\n",
    "\n",
    "\n",
    "if (years % 4 ==0) and (years % 300 != 0):\n",
    "    print(\"{0} is a leap year.\".format(years))\n",
    "else:\n",
    "    print(\"{0} is not a leap year.\".format(years))"
   ]
  },
  {
   "cell_type": "code",
   "execution_count": 34,
   "id": "211fb4fb-3abd-40f7-b1b5-13f5d7a32898",
   "metadata": {},
   "outputs": [
    {
     "name": "stdin",
     "output_type": "stream",
     "text": [
      "Enter a number:  456\n"
     ]
    },
    {
     "name": "stdout",
     "output_type": "stream",
     "text": [
      "Positive number\n"
     ]
    }
   ],
   "source": [
    "number = int(input('Enter a number: '))\n",
    "\n",
    "if number > 0:\n",
    "    print('Positive number')\n",
    "else:\n",
    "    print('Negative number')"
   ]
  },
  {
   "cell_type": "code",
   "execution_count": 40,
   "id": "6ed577f7-68cf-438d-a10a-88f1a7d7ee28",
   "metadata": {},
   "outputs": [
    {
     "name": "stdin",
     "output_type": "stream",
     "text": [
      "Enter a number :  444\n"
     ]
    },
    {
     "name": "stdout",
     "output_type": "stream",
     "text": [
      "Even Number\n"
     ]
    }
   ],
   "source": [
    "number = int(input('Enter a number : '))\n",
    "\n",
    "if number % 2 ==0 :\n",
    "    print(\"Even Number\")\n",
    "else :\n",
    "    print(\"Odd Number\")"
   ]
  },
  {
   "cell_type": "markdown",
   "id": "5fcdac3e-4a37-4aa3-9eb8-2f7923cc04b1",
   "metadata": {},
   "source": [
    "## if…elif…else CONDITION :"
   ]
  },
  {
   "cell_type": "markdown",
   "id": "ebc50e52-c602-4d76-b32e-4d2bc0c73167",
   "metadata": {},
   "source": [
    "The if...else statement is used to execute a block of code among two alternatives.\r\n",
    "\r\n",
    "However, if we need to make a choice between more than two alternatives, we use the if...elif...else statement."
   ]
  },
  {
   "cell_type": "markdown",
   "id": "3cf50ed4-2b3e-4a3c-a3c1-713cfe429f7b",
   "metadata": {},
   "source": [
    "#### SYNTAX :"
   ]
  },
  {
   "cell_type": "markdown",
   "id": "610f0147-8745-4847-9ba6-37f56e757db3",
   "metadata": {},
   "source": [
    "if condition1:\r\n",
    "    # code block 1\r\n",
    "\r\n",
    "elif condition2:\r\n",
    "    # code block 2\r\n",
    "\r\n",
    "else: \r\n",
    "    # code block 3"
   ]
  },
  {
   "cell_type": "markdown",
   "id": "25181d95-c99d-44c9-8a36-43f3b41f19e4",
   "metadata": {},
   "source": [
    "##### EXAMPLES :"
   ]
  },
  {
   "cell_type": "code",
   "execution_count": 46,
   "id": "f064484b-f6ea-4a10-8866-bc4f26a190f1",
   "metadata": {},
   "outputs": [
    {
     "name": "stdin",
     "output_type": "stream",
     "text": [
      "Enter the month :  JAN\n"
     ]
    },
    {
     "name": "stdout",
     "output_type": "stream",
     "text": [
      "JAN as 31 days\n"
     ]
    }
   ],
   "source": [
    "month = input((\"Enter the month : \"))\n",
    "\n",
    "_31_days = (\"JAN\",\"MARCH\",\"MAY\",\"JULY\",\"AUG\",\"OCT\",\"DEC\")\n",
    "_28_days = (\"FEB\")\n",
    "_30_days = (\"APR\",\"JUNE\",\"SEPT\",\"NOV\")\n",
    "\n",
    "if month in _31_days :\n",
    "    print(f\"{month} as 31 days\")\n",
    "elif month in _30_days :\n",
    "    print(f\"{month} as 30 days\")\n",
    "else :\n",
    "    print(f\"{month} as 28 days\")"
   ]
  },
  {
   "cell_type": "code",
   "execution_count": 50,
   "id": "c26134d1-ca0c-406f-9b1b-66a607b7dbf0",
   "metadata": {},
   "outputs": [
    {
     "name": "stdin",
     "output_type": "stream",
     "text": [
      "Enter your order :  Mushroom Biryani\n"
     ]
    },
    {
     "name": "stdout",
     "output_type": "stream",
     "text": [
      "Your order is veg Mushroom Biryani\n"
     ]
    }
   ],
   "source": [
    "item = input((\"Enter your order : \"))\n",
    "\n",
    "veg = [\"Paneer Biryani\",\"Mushroom Biryani\",\"Veg Biryani\",\"Roti\",\"Gobi Manchuria\",\"Mix Veg Curry\"]\n",
    "Non_veg = [\"Chicken Biryani\",\"Mutton Biryani\",\"Fish Biryani\",\"Praws Masala Curry\",\"Fish Gravy Curry\"]\n",
    "\n",
    "if item in veg :\n",
    "    print(\"Your order is veg\",item)\n",
    "elif item in Non_veg :\n",
    "    print(\"Your order is Non_veg\",item)\n",
    "else :\n",
    "    print(\"Sorry your order is not available\")"
   ]
  },
  {
   "cell_type": "code",
   "execution_count": 52,
   "id": "369e8f1f-e54f-4f19-86c1-93d8aafc9a52",
   "metadata": {},
   "outputs": [
    {
     "name": "stdin",
     "output_type": "stream",
     "text": [
      "enter your number : 5\n"
     ]
    },
    {
     "name": "stdout",
     "output_type": "stream",
     "text": [
      "pentagon as five slides\n"
     ]
    }
   ],
   "source": [
    "shapes = int(input(\"enter your number :\"))\n",
    "\n",
    "if shapes == 1 :\n",
    "    print(\"Line as a one slide\")\n",
    "elif shapes == 2 :\n",
    "    print(\"Circle as two slides\")\n",
    "elif shapes == 3 :\n",
    "    print(\"triangle as three slides\")\n",
    "elif shapes == 4 :\n",
    "    print(\"square as four slides\")\n",
    "elif shapes == 5 :\n",
    "    print(\"pentagon as five slides\")\n",
    "elif shapes == 6 :\n",
    "    print(\"hexagon as six slides\")\n",
    "elif shapes == 7 :\n",
    "    print(\"septagon as seven slides\")\n",
    "elif shapes == 8 :\n",
    "    print(\"octagon as eight slides\")\n",
    "elif shapes == 9 :\n",
    "    print(\"ninethgon as nine slides\")\n",
    "elif shapes == 10 :\n",
    "    print(\"decagon as ten slides\")\n",
    "else :\n",
    "    print(\"No shapes\")"
   ]
  },
  {
   "cell_type": "markdown",
   "id": "369d9f2b-6d91-4999-9549-458046dedab0",
   "metadata": {},
   "source": [
    "##  NESTED IF CONDITION :"
   ]
  },
  {
   "cell_type": "markdown",
   "id": "eae8b59c-c45e-4e2d-995e-48c30137fa8e",
   "metadata": {},
   "source": [
    "It is possible to include an if statement inside another if statement"
   ]
  },
  {
   "cell_type": "markdown",
   "id": "b8a64d48-1f0b-4d7a-adb5-3d163577daa3",
   "metadata": {},
   "source": [
    "##### EXAMPLES :"
   ]
  },
  {
   "cell_type": "code",
   "execution_count": 90,
   "id": "3c4af0ad-8a7f-48e5-a40e-0eeb0341eda8",
   "metadata": {},
   "outputs": [
    {
     "name": "stdout",
     "output_type": "stream",
     "text": [
      "Number is negative\n"
     ]
    }
   ],
   "source": [
    "number = -5\n",
    "\n",
    "\n",
    "if number >= 0:\n",
    "\n",
    "    if number == 0:\n",
    "      print('Number is 0')\n",
    "    \n",
    "\n",
    "    else:\n",
    "        print('Number is positive')\n",
    "\n",
    "\n",
    "else:\n",
    "    print('Number is negative')"
   ]
  },
  {
   "cell_type": "code",
   "execution_count": 88,
   "id": "17544f07-f65d-4000-86dd-e76fb00a3acc",
   "metadata": {},
   "outputs": [
    {
     "name": "stdin",
     "output_type": "stream",
     "text": [
      "Enter a number :  4\n"
     ]
    },
    {
     "name": "stdout",
     "output_type": "stream",
     "text": [
      "Letter is D\n"
     ]
    }
   ],
   "source": [
    "num = int(input(\"Enter a number : \"))\n",
    "\n",
    "if num == 1 :\n",
    "    print(\"Letter is A\")\n",
    "\n",
    "else:\n",
    "\n",
    "    if num == 2 :\n",
    "        print(\"Letter is B\")\n",
    "\n",
    "    else:\n",
    "\n",
    "        if num == 3 :\n",
    "            print(\"Letter is C\")\n",
    "\n",
    "        else:\n",
    "            if num == 4 :\n",
    "                print(\"Letter is D\")\n",
    "            else :\n",
    "                print(\" Letter is not there \")"
   ]
  },
  {
   "cell_type": "code",
   "execution_count": null,
   "id": "04983e5f-0b28-41c3-bfa6-9c64e83dc3d5",
   "metadata": {},
   "outputs": [],
   "source": []
  }
 ],
 "metadata": {
  "kernelspec": {
   "display_name": "Python 3 (ipykernel)",
   "language": "python",
   "name": "python3"
  },
  "language_info": {
   "codemirror_mode": {
    "name": "ipython",
    "version": 3
   },
   "file_extension": ".py",
   "mimetype": "text/x-python",
   "name": "python",
   "nbconvert_exporter": "python",
   "pygments_lexer": "ipython3",
   "version": "3.12.4"
  }
 },
 "nbformat": 4,
 "nbformat_minor": 5
}
