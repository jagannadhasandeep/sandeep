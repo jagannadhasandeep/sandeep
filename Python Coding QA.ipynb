{
 "cells": [
  {
   "cell_type": "code",
   "execution_count": 1,
   "id": "7fd3021f-8a5c-45d0-ab9a-ebbf3b9765b9",
   "metadata": {},
   "outputs": [
    {
     "name": "stdout",
     "output_type": "stream",
     "text": [
      "Yes, It is a palindrome\n"
     ]
    }
   ],
   "source": [
    "#1.palindrome or not\n",
    "\n",
    "\n",
    "def isPalindrome(s):\n",
    "    return s == s[::-1]\n",
    "\n",
    "\n",
    "\n",
    "s = \"MsM\"\n",
    "ans = isPalindrome(s)\n",
    "\n",
    "if ans:\n",
    "    print(\"Yes, It is a palindrome\")\n",
    "else: \n",
    "    print(\"No, It is not a palindrome\")"
   ]
  },
  {
   "cell_type": "code",
   "execution_count": 3,
   "id": "1355b768-227d-4cd9-a5d2-07e885f90673",
   "metadata": {},
   "outputs": [
    {
     "name": "stdin",
     "output_type": "stream",
     "text": [
      "enter your number: 3\n"
     ]
    },
    {
     "name": "stdout",
     "output_type": "stream",
     "text": [
      "3 is a prime number\n"
     ]
    }
   ],
   "source": [
    "#2.prime numbers\n",
    "\n",
    "num = int(input('enter your number:'))\n",
    "               \n",
    "if num>1 :\n",
    "    for i in range(2,(num//2)+1):\n",
    "        if (num % i) == 0:\n",
    "            print(num,'is not a prime number')\n",
    "            break\n",
    "    else :\n",
    "       print(num,'is a prime number')\n",
    "        "
   ]
  },
  {
   "cell_type": "code",
   "execution_count": 5,
   "id": "a371761a-b90a-478b-97ed-70932b78e9cb",
   "metadata": {},
   "outputs": [
    {
     "name": "stdin",
     "output_type": "stream",
     "text": [
      "Enter your String :  HYDERABAD\n"
     ]
    },
    {
     "name": "stdout",
     "output_type": "stream",
     "text": [
      "DABAREDYH\n"
     ]
    }
   ],
   "source": [
    "#3.reverse a string\n",
    "\n",
    "string = input((\"Enter your String : \"))\n",
    "a=string[::-1]\n",
    "print(a)"
   ]
  },
  {
   "cell_type": "code",
   "execution_count": 7,
   "id": "935052c5-75e5-4ec3-8547-d17ed652fd02",
   "metadata": {},
   "outputs": [
    {
     "name": "stdin",
     "output_type": "stream",
     "text": [
      " VIZAG\n"
     ]
    },
    {
     "name": "stdout",
     "output_type": "stream",
     "text": [
      "['V', 'I', 'Z', 'A', 'G']\n"
     ]
    }
   ],
   "source": [
    "#4.duplicate from list\n",
    "\n",
    "a = input()\n",
    "b=list(dict.fromkeys(a))\n",
    "print(b)"
   ]
  },
  {
   "cell_type": "code",
   "execution_count": 9,
   "id": "8eb98b82-18bd-4962-8e80-68a571dfe81c",
   "metadata": {},
   "outputs": [
    {
     "name": "stdout",
     "output_type": "stream",
     "text": [
      "345\n",
      "456\n"
     ]
    }
   ],
   "source": [
    "#5.swap \n",
    "\n",
    "a = 456\n",
    "b = 345\n",
    "a,b = b,a\n",
    "print(a)\n",
    "print(b)"
   ]
  },
  {
   "cell_type": "code",
   "execution_count": 11,
   "id": "8d14a2d4-c9d1-4616-9fc2-293e521bd1d7",
   "metadata": {},
   "outputs": [
    {
     "name": "stdout",
     "output_type": "stream",
     "text": [
      "sandeep\n"
     ]
    }
   ],
   "source": [
    "#6.copy string\n",
    "\n",
    "a = 'sandeep'\n",
    "b = a\n",
    "a,b = b,a\n",
    "print(b)\n"
   ]
  },
  {
   "cell_type": "code",
   "execution_count": 13,
   "id": "63eaab7c-bd78-42b1-9e48-6bcb5e2097db",
   "metadata": {},
   "outputs": [
    {
     "name": "stdin",
     "output_type": "stream",
     "text": [
      " 15\n",
      " 20\n",
      " 30\n"
     ]
    },
    {
     "name": "stdout",
     "output_type": "stream",
     "text": [
      "The smallest digit is 15\n"
     ]
    }
   ],
   "source": [
    "#7.smallest among three num\n",
    "\n",
    "digit1 = input()\n",
    "digit2 = input()\n",
    "digit3 = input()\n",
    "\n",
    "if (digit1 <= digit2) and (digit2 <= digit3):\n",
    "   smallest = digit1\n",
    "elif (digit2 <= digit1) and (digit2 <= digit3):\n",
    "   smallest= digit2\n",
    "else:\n",
    "   smallest = digit3\n",
    "\n",
    "print(\"The smallest digit is\", smallest)"
   ]
  },
  {
   "cell_type": "code",
   "execution_count": 15,
   "id": "5bff217a-be2e-4585-82ef-52f32f46cc02",
   "metadata": {},
   "outputs": [
    {
     "name": "stdout",
     "output_type": "stream",
     "text": [
      "Intersection &:  {8, 2, 4, 6}\n",
      "Intersection using intersection(): {8, 2, 4, 6}\n"
     ]
    }
   ],
   "source": [
    "#8.Common elements b/w two lists\n",
    "\n",
    "A = {1,2,3,4,5,6,7,8}\n",
    "B = {2,4,6,8,10}\n",
    "\n",
    "print('Intersection &: ',A & B)\n",
    "print('Intersection using intersection():', A.intersection(B)) "
   ]
  },
  {
   "cell_type": "code",
   "execution_count": 17,
   "id": "dc8a89e7-b4cf-4ed8-a398-ace837e7bf2c",
   "metadata": {},
   "outputs": [
    {
     "name": "stdout",
     "output_type": "stream",
     "text": [
      "100\n"
     ]
    }
   ],
   "source": [
    "#9.square of a given number\n",
    "\n",
    "a = 10\n",
    "b = 2\n",
    "print(a**b)"
   ]
  },
  {
   "cell_type": "code",
   "execution_count": 19,
   "id": "9702c718-4b55-4d0a-8be3-f99d80f53f40",
   "metadata": {},
   "outputs": [
    {
     "name": "stdout",
     "output_type": "stream",
     "text": [
      "100\n"
     ]
    }
   ],
   "source": [
    "#10.largest number in a list\n",
    "\n",
    "my_list = [25,55,66,100]\n",
    "largest_number = max(my_list)\n",
    "print(largest_number)  \n"
   ]
  },
  {
   "cell_type": "code",
   "execution_count": 23,
   "id": "968f2d0a-a7ba-48da-9b11-448342489349",
   "metadata": {},
   "outputs": [
    {
     "name": "stdout",
     "output_type": "stream",
     "text": [
      "The factorial of 5 is 120\n"
     ]
    }
   ],
   "source": [
    "#11.Factorial of a number\n",
    "\n",
    "def factorial(n):\n",
    "    result = 1\n",
    "    for i in range(1, n + 1):\n",
    "        result *= i\n",
    "    return result\n",
    "\n",
    "num = 5\n",
    "print(f\"The factorial of {num} is {factorial(num)}\")\n"
   ]
  },
  {
   "cell_type": "code",
   "execution_count": 31,
   "id": "d83f8eec-b95a-41d4-a2e7-559c754ab7cf",
   "metadata": {},
   "outputs": [
    {
     "name": "stdout",
     "output_type": "stream",
     "text": [
      "The LCM of 44 and 24 is 264\n"
     ]
    }
   ],
   "source": [
    "#12.LCM of given two numbers\n",
    "\n",
    "import math\n",
    "\n",
    "def compute_lcm(x, y):\n",
    "    return abs(x * y) // math.gcd(x, y)\n",
    "\n",
    "num1 = 44\n",
    "num2 = 24\n",
    "print(\"The LCM of\", num1, \"and\", num2, \"is\", compute_lcm(num1, num2))\n"
   ]
  },
  {
   "cell_type": "code",
   "execution_count": 40,
   "id": "49f9acf9-8b59-42e8-b8f3-bb5359dad18a",
   "metadata": {},
   "outputs": [
    {
     "name": "stdout",
     "output_type": "stream",
     "text": [
      "adeenps\n"
     ]
    }
   ],
   "source": [
    "#13.sorting in ascending order\n",
    "\n",
    "string = 'sandeep'\n",
    "sorted_string = ''.join(sorted(string))\n",
    "print(sorted_string)\n"
   ]
  },
  {
   "cell_type": "code",
   "execution_count": 44,
   "id": "b1306e63-c2dc-4729-bcd3-ec74a4348819",
   "metadata": {},
   "outputs": [
    {
     "name": "stdout",
     "output_type": "stream",
     "text": [
      "Sorted string in descending order: spneeda\n"
     ]
    }
   ],
   "source": [
    "#14.sorting in descending order\n",
    "\n",
    "def sort_string_descending(input_string):\n",
    "    char_list = list(input_string)\n",
    "    char_list.sort(reverse=True)\n",
    "    sorted_string = ''.join(char_list)\n",
    "    return sorted_string\n",
    "\n",
    "# Example usage\n",
    "input_string = \"sandeep\"\n",
    "sorted_string = sort_string_descending(input_string)\n",
    "print(\"Sorted string in descending order:\", sorted_string)\n"
   ]
  },
  {
   "cell_type": "code",
   "execution_count": 48,
   "id": "32a7391a-4bcc-405a-aae0-c2b0dd16c332",
   "metadata": {},
   "outputs": [
    {
     "name": "stdout",
     "output_type": "stream",
     "text": [
      "The character 'l' appears 3 times in the string.\n"
     ]
    }
   ],
   "source": [
    "#15.count of num of occurrence of a char\n",
    "\n",
    "string = \"hello world\"\n",
    "char = 'l'\n",
    "count = string.count(char)\n",
    "print(f\"The character '{char}' appears {count} times in the string.\")\n"
   ]
  },
  {
   "cell_type": "code",
   "execution_count": 1,
   "id": "800f0538-423d-4859-a5ad-7be3d23a6234",
   "metadata": {},
   "outputs": [
    {
     "name": "stdin",
     "output_type": "stream",
     "text": [
      "Enter numbers separated by commas:  20,30,40,50\n"
     ]
    },
    {
     "name": "stdout",
     "output_type": "stream",
     "text": [
      "Minimum number: 20\n"
     ]
    }
   ],
   "source": [
    "#16.Minimum number in a list\n",
    "\n",
    "user_input = input(\"Enter numbers separated by commas: \")\n",
    "i = [int(x) for x in user_input.split(',')]\n",
    "print(\"Minimum number:\",min(i))"
   ]
  },
  {
   "cell_type": "code",
   "execution_count": 3,
   "id": "9dc93287-e8bf-4c22-ae85-ec24a799ca63",
   "metadata": {},
   "outputs": [
    {
     "name": "stdin",
     "output_type": "stream",
     "text": [
      "Enter the first number 40\n",
      "Enter the second number 60\n",
      "Enter the third number 80\n"
     ]
    },
    {
     "name": "stdout",
     "output_type": "stream",
     "text": [
      "[40, 60, 80]\n",
      "80\n"
     ]
    }
   ],
   "source": [
    "#17.Max number in a list\n",
    "\n",
    "a=int(input(\"Enter the first number\"))\n",
    "b=int(input(\"Enter the second number\"))\n",
    "c=int(input(\"Enter the third number\"))\n",
    "f=[a,b,c]\n",
    "print(f)\n",
    "print(max(f))"
   ]
  },
  {
   "cell_type": "code",
   "execution_count": 9,
   "id": "8d5e16f7-00e9-4bbc-b597-c566148fc8ee",
   "metadata": {},
   "outputs": [
    {
     "name": "stdout",
     "output_type": "stream",
     "text": [
      "{'Vizag': 2, 'Chennai': 2, 'Mumbai': 1, 'Goa': 2}\n"
     ]
    }
   ],
   "source": [
    "#18. count the frequency of each element in a list.\n",
    "\n",
    "def count_frequency(my_list):\n",
    "    frequency = {}\n",
    "    for item in my_list:\n",
    "        if item in frequency:\n",
    "            frequency[item] += 1\n",
    "        else:\n",
    "            frequency[item] = 1\n",
    "    return frequency\n",
    "\n",
    "# Example usage\n",
    "my_list = ['Vizag','Chennai','Mumbai','Goa','Vizag','Goa','Chennai']\n",
    "print(count_frequency(my_list))\n"
   ]
  },
  {
   "cell_type": "code",
   "execution_count": 13,
   "id": "b3a21376-26c0-4af2-a8b3-a80433b75ef1",
   "metadata": {},
   "outputs": [
    {
     "name": "stdout",
     "output_type": "stream",
     "text": [
      "The second largest number is: 240\n"
     ]
    }
   ],
   "source": [
    "#19. find the second largest number in a list.\n",
    "\n",
    "def find_second_largest(numbers):\n",
    "    # Remove duplicates by converting the list to a set\n",
    "    unique_numbers = list(set(numbers))\n",
    "    \n",
    "    # Sort the unique numbers in descending order\n",
    "    unique_numbers.sort(reverse=True)\n",
    "    \n",
    "    # The second largest number will be the second element in the sorted list\n",
    "    return unique_numbers[1]\n",
    "\n",
    "# Example usage\n",
    "numbers = [10, 240, 4, 45, 999]\n",
    "second_largest = find_second_largest(numbers)\n",
    "print(\"The second largest number is:\", second_largest)\n"
   ]
  },
  {
   "cell_type": "code",
   "execution_count": 15,
   "id": "4f9e7c14-0084-4229-9edc-a089cb749605",
   "metadata": {},
   "outputs": [
    {
     "name": "stdin",
     "output_type": "stream",
     "text": [
      "Enter a word:  Sandeep\n"
     ]
    },
    {
     "name": "stdout",
     "output_type": "stream",
     "text": [
      "The number of vowels in 'Sandeep' is 3.\n"
     ]
    }
   ],
   "source": [
    "#20. count vowels in a word\n",
    "\n",
    "def count_vowels(word):\n",
    "    vowels = \"aeiouAEIOU\"\n",
    "    count = 0\n",
    "    for char in word:\n",
    "        if char in vowels:\n",
    "            count += 1\n",
    "    return count\n",
    "\n",
    "# Example usage\n",
    "word = input(\"Enter a word: \")\n",
    "vowel_count = count_vowels(word)\n",
    "print(f\"The number of vowels in '{word}' is {vowel_count}.\")\n"
   ]
  },
  {
   "cell_type": "code",
   "execution_count": 19,
   "id": "292a4ae8-3aa5-40a3-b3ac-1e9fc8384223",
   "metadata": {},
   "outputs": [
    {
     "name": "stdin",
     "output_type": "stream",
     "text": [
      "How many terms?  8\n"
     ]
    },
    {
     "name": "stdout",
     "output_type": "stream",
     "text": [
      "Fibonacci sequence:\n",
      "0\n",
      "1\n",
      "1\n",
      "2\n",
      "3\n",
      "5\n",
      "8\n",
      "13\n"
     ]
    }
   ],
   "source": [
    "#21. program on fibonacci series\n",
    "\n",
    "\n",
    "nterms = int(input(\"How many terms? \"))\n",
    "\n",
    "# First two terms\n",
    "n1, n2 = 0, 1\n",
    "count = 0\n",
    "\n",
    "# Check if the number of terms is valid\n",
    "if nterms <= 0:\n",
    "    print(\"Please enter a positive integer\")\n",
    "elif nterms == 1:\n",
    "    print(\"Fibonacci sequence up to\", nterms, \":\")\n",
    "    print(n1)\n",
    "else:\n",
    "    print(\"Fibonacci sequence:\")\n",
    "    while count < nterms:\n",
    "        print(n1)\n",
    "        nth = n1 + n2\n",
    "        # Update values\n",
    "        n1 = n2\n",
    "        n2 = nth\n",
    "        count += 1\n"
   ]
  },
  {
   "cell_type": "code",
   "execution_count": 27,
   "id": "ef6e8aa4-1437-422a-bf35-e0c91288cfb3",
   "metadata": {},
   "outputs": [
    {
     "name": "stdout",
     "output_type": "stream",
     "text": [
      "Number of opening parentheses: 3\n",
      "Number of closing parentheses: 3\n"
     ]
    }
   ],
   "source": [
    "#22.count the num of parenthesis\n",
    "\n",
    "def count_parentheses(s):\n",
    "    open_parens = s.count('(')\n",
    "    close_parens = s.count(')')\n",
    "    return open_parens, close_parens\n",
    "\n",
    "# Example usage\n",
    "input_string = \"((Hello) (Vizag))\"\n",
    "open_count, close_count = count_parentheses(input_string)\n",
    "print(f\"Number of opening parentheses: {open_count}\")\n",
    "print(f\"Number of closing parentheses: {close_count}\")\n"
   ]
  },
  {
   "cell_type": "code",
   "execution_count": 29,
   "id": "2f9bf3c1-8279-4452-8920-a664e03f5bd8",
   "metadata": {},
   "outputs": [
    {
     "name": "stdout",
     "output_type": "stream",
     "text": [
      "The first non-repeating character is: i\n"
     ]
    }
   ],
   "source": [
    "#23.Non-repeating element in a string\n",
    "\n",
    "def first_non_repeating_character(s):\n",
    "    # Create a dictionary to store the count of each character\n",
    "    char_count = {}\n",
    "    \n",
    "    # Count the occurrences of each character\n",
    "    for char in s:\n",
    "        if char in char_count:\n",
    "            char_count[char] += 1\n",
    "        else:\n",
    "            char_count[char] = 1\n",
    "    \n",
    "    # Find the first character with a count of 1\n",
    "    for char in s:\n",
    "        if char_count[char] == 1:\n",
    "            return char\n",
    "    \n",
    "    return None\n",
    "\n",
    "# Example usage\n",
    "input_string = \"hihello\"\n",
    "result = first_non_repeating_character(input_string)\n",
    "if result:\n",
    "    print(f\"The first non-repeating character is: {result}\")\n",
    "else:\n",
    "    print(\"No non-repeating character found.\")\n"
   ]
  },
  {
   "cell_type": "code",
   "execution_count": null,
   "id": "d079f86d-96d3-4bc9-8178-9ca64682df98",
   "metadata": {},
   "outputs": [],
   "source": []
  }
 ],
 "metadata": {
  "kernelspec": {
   "display_name": "Python 3 (ipykernel)",
   "language": "python",
   "name": "python3"
  },
  "language_info": {
   "codemirror_mode": {
    "name": "ipython",
    "version": 3
   },
   "file_extension": ".py",
   "mimetype": "text/x-python",
   "name": "python",
   "nbconvert_exporter": "python",
   "pygments_lexer": "ipython3",
   "version": "3.12.4"
  }
 },
 "nbformat": 4,
 "nbformat_minor": 5
}
