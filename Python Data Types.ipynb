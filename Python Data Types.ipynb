{
 "cells": [
  {
   "cell_type": "markdown",
   "id": "7c70e5d4-f77f-4a20-a57d-4a02a9b95e5b",
   "metadata": {},
   "source": [
    "# Python Data Types"
   ]
  },
  {
   "cell_type": "markdown",
   "id": "665ed785-6118-4e3f-80c9-0d5dc1ed7a50",
   "metadata": {},
   "source": [
    "## 1.Numeric Data Type"
   ]
  },
  {
   "cell_type": "markdown",
   "id": "ef9bc29e-56fe-4850-8922-39b74fae64aa",
   "metadata": {},
   "source": [
    "### . Int"
   ]
  },
  {
   "cell_type": "markdown",
   "id": "19c55d2a-3e6e-4ad9-94b5-0dc3482140b6",
   "metadata": {},
   "source": [
    "   This value is represented by int class. It contains positive or negative whole numbers (without fractions or decimals). In Python, there is no limit to how long an integer value can be."
   ]
  },
  {
   "cell_type": "markdown",
   "id": "b6d869a7-4b8f-400b-90f7-f1d84caafdd9",
   "metadata": {},
   "source": [
    "Example : "
   ]
  },
  {
   "cell_type": "code",
   "execution_count": 8,
   "id": "2607ffb4-a5e1-4094-a0b1-625d0e6e58d7",
   "metadata": {},
   "outputs": [
    {
     "name": "stdout",
     "output_type": "stream",
     "text": [
      "5 is of type <class 'int'>\n"
     ]
    }
   ],
   "source": [
    "num1 = 5\n",
    "print(num1, 'is of type', type(num1))"
   ]
  },
  {
   "cell_type": "code",
   "execution_count": 10,
   "id": "de098dd9-da27-4dd9-a7da-64eab401416b",
   "metadata": {},
   "outputs": [
    {
     "name": "stdout",
     "output_type": "stream",
     "text": [
      "10 is of type <class 'int'>\n"
     ]
    }
   ],
   "source": [
    "num2 = 10\n",
    "print(num2,'is of type',type(num2))"
   ]
  },
  {
   "cell_type": "code",
   "execution_count": 12,
   "id": "d48cc0e0-a4a1-4749-9618-39ca8c6bc292",
   "metadata": {},
   "outputs": [
    {
     "name": "stdout",
     "output_type": "stream",
     "text": [
      "15 is of type <class 'int'>\n"
     ]
    }
   ],
   "source": [
    "num3 = 15\n",
    "print(num3,'is of type',type(num3))"
   ]
  },
  {
   "cell_type": "code",
   "execution_count": 14,
   "id": "3f876ee4-402f-4e07-b13e-a35010d3da13",
   "metadata": {},
   "outputs": [
    {
     "name": "stdout",
     "output_type": "stream",
     "text": [
      "50 is of type <class 'int'>\n"
     ]
    }
   ],
   "source": [
    "num4 = 50\n",
    "print(num4,'is of type',type(num4))"
   ]
  },
  {
   "cell_type": "code",
   "execution_count": 16,
   "id": "548e97bb-aed6-43be-84b9-ed4320c81227",
   "metadata": {},
   "outputs": [
    {
     "name": "stdout",
     "output_type": "stream",
     "text": [
      "100 is of type <class 'int'>\n"
     ]
    }
   ],
   "source": [
    " num5 = 100\n",
    "print(num5,'is of type',type(num5))"
   ]
  },
  {
   "cell_type": "markdown",
   "id": "0c14d432-ec49-48f1-ac91-02ca7d643e87",
   "metadata": {},
   "source": [
    "### . Float"
   ]
  },
  {
   "cell_type": "markdown",
   "id": "c4a68cad-17a0-4a63-aaba-64342464d3b2",
   "metadata": {},
   "source": [
    "     This value is represented by the float class. It is a real number with a floating-point representation. It is specified by a decimal point. Optionally, the character e or E followed by a positive or negative integer may be appended to specify scientific notation. \n",
    "\n",
    " Examples :    "
   ]
  },
  {
   "cell_type": "code",
   "execution_count": 19,
   "id": "06c17374-d91b-4a19-b545-a07bf4b5b256",
   "metadata": {},
   "outputs": [
    {
     "name": "stdout",
     "output_type": "stream",
     "text": [
      "2.0 is of type <class 'float'>\n"
     ]
    }
   ],
   "source": [
    "a = 2.0\n",
    "print(a,'is of type',type(a))"
   ]
  },
  {
   "cell_type": "code",
   "execution_count": 21,
   "id": "b4796eff-0c74-4eba-b99a-33fc4b778a62",
   "metadata": {},
   "outputs": [
    {
     "name": "stdout",
     "output_type": "stream",
     "text": [
      "4.0 is of type <class 'float'>\n"
     ]
    }
   ],
   "source": [
    "b = 4.0\n",
    "print(b,'is of type',type(b))"
   ]
  },
  {
   "cell_type": "code",
   "execution_count": 23,
   "id": "c572a03e-7d42-4de8-9b09-56b95680d24f",
   "metadata": {},
   "outputs": [
    {
     "name": "stdout",
     "output_type": "stream",
     "text": [
      "8.0 is of type <class 'float'>\n"
     ]
    }
   ],
   "source": [
    "c = 8.0\n",
    "print(c,'is of type',type(c))"
   ]
  },
  {
   "cell_type": "code",
   "execution_count": 25,
   "id": "9c783b5b-3061-4966-a4c1-0123a420cdc2",
   "metadata": {},
   "outputs": [
    {
     "name": "stdout",
     "output_type": "stream",
     "text": [
      "10.0 is of type <class 'float'>\n"
     ]
    }
   ],
   "source": [
    "d = 10.0\n",
    "print(d,'is of type',type(d))"
   ]
  },
  {
   "cell_type": "code",
   "execution_count": 27,
   "id": "d19426e3-295b-43a4-8db6-d09facf784a8",
   "metadata": {},
   "outputs": [
    {
     "name": "stdout",
     "output_type": "stream",
     "text": [
      "20.0 is of type <class 'float'>\n"
     ]
    }
   ],
   "source": [
    "e = 20.0\n",
    "print(e,'is of type',type(e))"
   ]
  },
  {
   "cell_type": "markdown",
   "id": "b1880071-177b-465e-83a4-cc399c0c11c1",
   "metadata": {},
   "source": [
    "### . Complex"
   ]
  },
  {
   "cell_type": "markdown",
   "id": "07819248-e7c0-4aba-9978-4759ca85320f",
   "metadata": {},
   "source": [
    "      A complex number is represented by a complex class. It is specified as (real part) + (imaginary part)j. For example – 2+3j\n",
    "\n",
    "Examples :     "
   ]
  },
  {
   "cell_type": "code",
   "execution_count": 32,
   "id": "cd52630a-26b4-477b-9d3a-a13ed7e3887c",
   "metadata": {},
   "outputs": [
    {
     "name": "stdout",
     "output_type": "stream",
     "text": [
      "\n",
      "Type of comp1:  <class 'complex'>\n"
     ]
    }
   ],
   "source": [
    "comp1 = 2 + 4j\n",
    "print(\"\\nType of comp1: \", type(comp1))"
   ]
  },
  {
   "cell_type": "code",
   "execution_count": 34,
   "id": "e1ef5d3a-85ca-47b5-865e-f18e021b9c7b",
   "metadata": {},
   "outputs": [
    {
     "name": "stdout",
     "output_type": "stream",
     "text": [
      "\n",
      "Type of Comp2: <class 'complex'>\n"
     ]
    }
   ],
   "source": [
    "comp2 = 4 - 2j\n",
    "print(\"\\nType of Comp2:\",type(comp2))"
   ]
  },
  {
   "cell_type": "code",
   "execution_count": 36,
   "id": "e63b98ee-d381-4313-92d3-6cab11b77e7e",
   "metadata": {},
   "outputs": [
    {
     "name": "stdout",
     "output_type": "stream",
     "text": [
      "\n",
      "Type of Comp3: <class 'complex'>\n"
     ]
    }
   ],
   "source": [
    "comp3 = 8 + 8j\n",
    "print(\"\\nType of Comp3:\",type(comp3))"
   ]
  },
  {
   "cell_type": "code",
   "execution_count": 58,
   "id": "11067f4b-a0f2-41d9-a857-912d7e8d2093",
   "metadata": {},
   "outputs": [
    {
     "name": "stdout",
     "output_type": "stream",
     "text": [
      "\n",
      "Type of comp4: <class 'complex'>\n"
     ]
    }
   ],
   "source": [
    "comp4 = 10 - 8.5j\n",
    "print(\"\\nType of comp4:\",type(comp4))"
   ]
  },
  {
   "cell_type": "code",
   "execution_count": 42,
   "id": "c32619a1-af65-444d-9a2c-e525f8b64f16",
   "metadata": {},
   "outputs": [
    {
     "name": "stdout",
     "output_type": "stream",
     "text": [
      "\n",
      "Type of comp5: <class 'complex'>\n"
     ]
    }
   ],
   "source": [
    "comp5 = 20 + 10j\n",
    "print(\"\\nType of comp5:\",type(comp5))"
   ]
  },
  {
   "cell_type": "markdown",
   "id": "dde98cef-7ed9-4f29-9f8e-89bd9373438a",
   "metadata": {},
   "source": [
    "## . Boolean"
   ]
  },
  {
   "cell_type": "code",
   "execution_count": 16,
   "id": "33cd1201-75b8-4353-85af-4b025b1191d6",
   "metadata": {},
   "outputs": [
    {
     "name": "stdout",
     "output_type": "stream",
     "text": [
      "True is type of <class 'bool'>\n"
     ]
    }
   ],
   "source": [
    "a = 10<20\n",
    "print(a,'is type of',type(a))"
   ]
  },
  {
   "cell_type": "code",
   "execution_count": 18,
   "id": "17b4a9c7-4108-47dd-bb80-289e81086b03",
   "metadata": {},
   "outputs": [
    {
     "name": "stdout",
     "output_type": "stream",
     "text": [
      "True is type of <class 'bool'>\n"
     ]
    }
   ],
   "source": [
    "b = 4==4\n",
    "print(b,'is type of',type(b))"
   ]
  },
  {
   "cell_type": "code",
   "execution_count": 20,
   "id": "61248b7b-c3fc-4eae-aff1-6a8dfbfd224b",
   "metadata": {},
   "outputs": [
    {
     "name": "stdout",
     "output_type": "stream",
     "text": [
      "False is type of <class 'bool'>\n"
     ]
    }
   ],
   "source": [
    "c = 50>=100\n",
    "print(c,'is type of',type(c))"
   ]
  },
  {
   "cell_type": "code",
   "execution_count": 22,
   "id": "68a4fbef-45f3-4cc0-9383-8727ccc46acd",
   "metadata": {},
   "outputs": [
    {
     "name": "stdout",
     "output_type": "stream",
     "text": [
      "False is type of <class 'bool'>\n"
     ]
    }
   ],
   "source": [
    "d = 60<=40\n",
    "print(d,'is type of',type(d))"
   ]
  },
  {
   "cell_type": "code",
   "execution_count": 24,
   "id": "94ee9227-ddfe-41aa-b31c-4791b82c36a9",
   "metadata": {},
   "outputs": [
    {
     "name": "stdout",
     "output_type": "stream",
     "text": [
      "True is type of <class 'bool'>\n"
     ]
    }
   ],
   "source": [
    "e = 100>90\n",
    "print(e,'is type of',type(e))"
   ]
  },
  {
   "cell_type": "markdown",
   "id": "312bfd95-ff50-4ce9-8d59-f784a2330be1",
   "metadata": {},
   "source": [
    "#### Defination :"
   ]
  },
  {
   "cell_type": "markdown",
   "id": "cb43264f-e173-45fb-af7a-daddd3a3c4aa",
   "metadata": {},
   "source": [
    "     Python boolean type is one of the built-in data types provided by Python, which represents one of the two values i.e. True or False. Generally, it is used to represent the truth values of the expressions."
   ]
  },
  {
   "cell_type": "markdown",
   "id": "9bdbab1c-8009-4912-8c6a-ead26c50c55b",
   "metadata": {},
   "source": [
    "# Type Convention :"
   ]
  },
  {
   "cell_type": "markdown",
   "id": "5613a7e6-747c-40cb-9b5b-b50737333fd7",
   "metadata": {},
   "source": [
    "          Type Casting is the method to convert the Python variable datatype into a certain data type in order to perform the required operation by users. In this article, we will see the various techniques for typecasting. There can be two types of Type Casting in Python:\r\n",
    ". \r\n",
    "Python Implicit Type Conversio. n\r\n",
    "Python Explicit Type Convers\n",
    "\n",
    "Examples :ion"
   ]
  },
  {
   "cell_type": "code",
   "execution_count": 4,
   "id": "671b5694-8d40-4195-a44a-1bd6d719a1d0",
   "metadata": {},
   "outputs": [
    {
     "name": "stdout",
     "output_type": "stream",
     "text": [
      "20.0\n",
      "40.0\n",
      "80.0\n",
      "-654321\n",
      "50.0\n",
      "876590.0\n",
      "5678990.0\n",
      "91.0\n",
      "20.0\n",
      "9618525853.0\n",
      "-654321.0\n",
      "876590.0\n"
     ]
    }
   ],
   "source": [
    "# converting int to float \n",
    "\n",
    "num1 = 20\n",
    "num2 = 40\n",
    "num3 = 80\n",
    "x = 50\n",
    "y = -234567899\n",
    "z = 5678990\n",
    "s = 91\n",
    "a = 9876\n",
    "n = 9618525853\n",
    "d = -654321\n",
    "y = 876590\n",
    "\n",
    "a = float(num1)\n",
    "b = float(num2)\n",
    "c = float(num3)\n",
    "e = float(x)\n",
    "f = float(y)\n",
    "g = float(z)\n",
    "h = float(s)\n",
    "i = float(a)\n",
    "j = float(n)\n",
    "k = float(d)\n",
    "l = float(y)\n",
    "\n",
    "print(a)\n",
    "print(b)\n",
    "print(c)\n",
    "print(d)\n",
    "print(e)\n",
    "print(f)\n",
    "print(g)\n",
    "print(h)\n",
    "print(i)\n",
    "print(j)\n",
    "print(k)\n",
    "print(l)"
   ]
  },
  {
   "cell_type": "code",
   "execution_count": 26,
   "id": "a18a956b-6e46-4cc0-8f5e-d5d5124f89d5",
   "metadata": {},
   "outputs": [
    {
     "name": "stdout",
     "output_type": "stream",
     "text": [
      "45\n",
      "60\n",
      "80\n",
      "765.9\n",
      "6\n",
      "-7567\n",
      "5678\n",
      "91\n",
      "45\n",
      "6718\n",
      "765\n",
      "876\n"
     ]
    }
   ],
   "source": [
    "# converting float to int\n",
    "\n",
    "num1 = 45.5\n",
    "num2 = 60.9\n",
    "num3 = 80.6\n",
    "feet = 6.20\n",
    "result1 = -7567.89\n",
    "result2 = 5678.678\n",
    "s = 91.87\n",
    "a = 9876.54\n",
    "n = 6718.5853\n",
    "d = 765.9\n",
    "y = 876.90\n",
    "\n",
    "a = int(num1)\n",
    "b = int(num2)\n",
    "c = int(num3)\n",
    "e = int(feet)\n",
    "f = int(result1)\n",
    "g = int(result2)\n",
    "h = int(s)\n",
    "i = int(a)\n",
    "j = int(n)\n",
    "k = int(d)\n",
    "l = int(y)\n",
    "\n",
    "print(a)\n",
    "print(b)\n",
    "print(c)\n",
    "print(d)\n",
    "print(e)\n",
    "print(f)\n",
    "print(g)\n",
    "print(h)\n",
    "print(i)\n",
    "print(j)\n",
    "print(k)\n",
    "print(l)"
   ]
  },
  {
   "cell_type": "code",
   "execution_count": 28,
   "id": "882a7425-d79e-47dd-b104-7b9fa3505d40",
   "metadata": {},
   "outputs": [
    {
     "name": "stdout",
     "output_type": "stream",
     "text": [
      "(20+0j)\n",
      "(40+0j)\n",
      "(80+0j)\n",
      "-654321\n",
      "(50+0j)\n",
      "(876590+0j)\n",
      "(5678990+0j)\n",
      "(91+0j)\n",
      "(20+0j)\n",
      "(9618525853+0j)\n",
      "(-654321+0j)\n",
      "(876590+0j)\n"
     ]
    }
   ],
   "source": [
    "# converting int to complex\n",
    "\n",
    "num1 = 20\n",
    "num2 = 40\n",
    "num3 = 80\n",
    "x = 50\n",
    "y = -234567899\n",
    "z = 5678990\n",
    "s = 91\n",
    "a = 9876\n",
    "n = 9618525853\n",
    "d = -654321\n",
    "y = 876590\n",
    "\n",
    "a = complex(num1)\n",
    "b = complex(num2)\n",
    "c = complex(num3)\n",
    "e = complex(x)\n",
    "f = complex(y)\n",
    "g = complex(z)\n",
    "h = complex(s)\n",
    "i = complex(a)\n",
    "j = complex(n)\n",
    "k = complex(d)\n",
    "l = complex(y)\n",
    "\n",
    "print(a)\n",
    "print(b)\n",
    "print(c)\n",
    "print(d)\n",
    "print(e)\n",
    "print(f)\n",
    "print(g)\n",
    "print(h)\n",
    "print(i)\n",
    "print(j)\n",
    "print(k)\n",
    "print(l)"
   ]
  },
  {
   "cell_type": "code",
   "execution_count": 30,
   "id": "b8cae6a7-d93c-40bc-ad68-b4d9ab02381a",
   "metadata": {},
   "outputs": [
    {
     "name": "stdout",
     "output_type": "stream",
     "text": [
      "(45.5+0j)\n",
      "(60.9+0j)\n",
      "(80.6+0j)\n",
      "765.9\n",
      "(6.2+0j)\n",
      "(-7567.89+0j)\n",
      "(5678.678+0j)\n",
      "(91.87+0j)\n",
      "(45.5+0j)\n",
      "(6718.5853+0j)\n",
      "(765.9+0j)\n",
      "(876.9+0j)\n"
     ]
    }
   ],
   "source": [
    "# converting float to complex\n",
    "\n",
    "num1 = 45.5\n",
    "num2 = 60.9\n",
    "num3 = 80.6\n",
    "feet = 6.20\n",
    "result1 = -7567.89\n",
    "result2 = 5678.678\n",
    "s = 91.87\n",
    "a = 9876.54\n",
    "n = 6718.5853\n",
    "d = 765.9\n",
    "y = 876.90\n",
    "\n",
    "a = complex(num1)\n",
    "b = complex(num2)\n",
    "c = complex(num3)\n",
    "e = complex(feet)\n",
    "f = complex(result1)\n",
    "g = complex(result2)\n",
    "h = complex(s)\n",
    "i = complex(a)\n",
    "j = complex(n)\n",
    "k = complex(d)\n",
    "l = complex(y)\n",
    "\n",
    "print(a)\n",
    "print(b)\n",
    "print(c)\n",
    "print(d)\n",
    "print(e)\n",
    "print(f)\n",
    "print(g)\n",
    "print(h)\n",
    "print(i)\n",
    "print(j)\n",
    "print(k)\n",
    "print(l)"
   ]
  },
  {
   "cell_type": "markdown",
   "id": "c623f9b3-0104-4486-970b-5f530483dfea",
   "metadata": {},
   "source": [
    "#### Note :"
   ]
  },
  {
   "cell_type": "markdown",
   "id": "1b1f0390-85f8-4566-92b3-0d33e8088088",
   "metadata": {},
   "source": [
    ". We can't convert the complex data type into any other data type \n",
    ". This happens because we cannot convert a larger data type to a smaller data type since it leads to the loss of data. Naturally, changing a complex to integer will result in the loss of the imaginary part of the number, and thus, this kind of type casting is not supported by Python."
   ]
  },
  {
   "cell_type": "code",
   "execution_count": 33,
   "id": "b538b926-72dc-417f-9fd0-8e03d044ed64",
   "metadata": {},
   "outputs": [
    {
     "ename": "TypeError",
     "evalue": "float() argument must be a string or a real number, not 'complex'",
     "output_type": "error",
     "traceback": [
      "\u001b[1;31m---------------------------------------------------------------------------\u001b[0m",
      "\u001b[1;31mTypeError\u001b[0m                                 Traceback (most recent call last)",
      "Cell \u001b[1;32mIn[33], line 5\u001b[0m\n\u001b[0;32m      2\u001b[0m c \u001b[38;5;241m=\u001b[39m \u001b[38;5;241m7\u001b[39m\u001b[38;5;241m-\u001b[39m\u001b[38;5;241m3\u001b[39mj\n\u001b[0;32m      3\u001b[0m b \u001b[38;5;241m=\u001b[39m \u001b[38;5;241m6.89\u001b[39m\n\u001b[1;32m----> 5\u001b[0m \u001b[38;5;28mprint\u001b[39m(\u001b[38;5;28mfloat\u001b[39m(a))\n\u001b[0;32m      6\u001b[0m \u001b[38;5;28mprint\u001b[39m(\u001b[38;5;28mint\u001b[39m(c))\n\u001b[0;32m      7\u001b[0m \u001b[38;5;28mprint\u001b[39m(\u001b[38;5;28mcomplex\u001b[39m(b))\n",
      "\u001b[1;31mTypeError\u001b[0m: float() argument must be a string or a real number, not 'complex'"
     ]
    }
   ],
   "source": [
    "a = 2+7j\n",
    "c = 7-3j\n",
    "b = 6.89\n",
    "\n",
    "print(float(a))\n",
    "print(int(c))\n",
    "print(complex(b))"
   ]
  }
 ],
 "metadata": {
  "kernelspec": {
   "display_name": "Python 3 (ipykernel)",
   "language": "python",
   "name": "python3"
  },
  "language_info": {
   "codemirror_mode": {
    "name": "ipython",
    "version": 3
   },
   "file_extension": ".py",
   "mimetype": "text/x-python",
   "name": "python",
   "nbconvert_exporter": "python",
   "pygments_lexer": "ipython3",
   "version": "3.12.4"
  }
 },
 "nbformat": 4,
 "nbformat_minor": 5
}
