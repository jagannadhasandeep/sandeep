{
 "cells": [
  {
   "cell_type": "markdown",
   "id": "be953d77-28e8-4547-b9c5-e08ee54592d9",
   "metadata": {},
   "source": [
    "## PYTHON LIST :"
   ]
  },
  {
   "cell_type": "markdown",
   "id": "dea28c58-b06e-4957-9f14-cc975d945fe6",
   "metadata": {},
   "source": [
    "-> It is commonly used data type that representation ordered mutable and iterable sequence of elements\n",
    "\n",
    "-> Lists are the collection of elements.That can be a data type,numbers,strings etc..,\n",
    "\n",
    "-> Lists are defined using square brackets [] and elements are seperated by commas."
   ]
  },
  {
   "cell_type": "markdown",
   "id": "3fb5d103-d095-4f2c-9375-4554186b486d",
   "metadata": {},
   "source": [
    "## CREATION OF LIST :"
   ]
  },
  {
   "cell_type": "code",
   "execution_count": 3,
   "id": "c7a2a076-a39b-4f4e-b35a-e6b0ef293951",
   "metadata": {},
   "outputs": [
    {
     "name": "stdout",
     "output_type": "stream",
     "text": [
      "<class 'list'>\n",
      "<class 'list'>\n"
     ]
    }
   ],
   "source": [
    "my_list = []\n",
    "numbers = [1,2,3,4,5]\n",
    "names = [\"Apple\",\"Promogrante\",\"Cherry\"]\n",
    "mixed_types = [1,\"Apple\",3.5,True]\n",
    "print(type(mixed_types))\n",
    "print(type(numbers))"
   ]
  },
  {
   "cell_type": "markdown",
   "id": "ab418fac-9d90-4940-8c71-a6a9bee7e5b1",
   "metadata": {},
   "source": [
    "## ACCESSING LIST ELEMENTS :"
   ]
  },
  {
   "cell_type": "markdown",
   "id": "3eff1831-7b82-401b-82cc-837ed01f0f83",
   "metadata": {},
   "source": [
    "-> In python , lists are ordered and each item in a list is associated with a number. The number is known as list index\n",
    "\n",
    "-> The index of the first element is 0,second element is 1 and so on\n",
    "\n",
    "-> Python allows negative indexing for its sequencies . The index of -1 refers to the list -2 to the second last item and so on"
   ]
  },
  {
   "cell_type": "markdown",
   "id": "ad0aecfd-76cd-421c-bde0-afcf66452972",
   "metadata": {},
   "source": [
    "## SLICING OF A LIST :"
   ]
  },
  {
   "cell_type": "markdown",
   "id": "7fdaa5bb-9d96-4806-b324-3bbf061833ef",
   "metadata": {},
   "source": [
    "In python , it is possiable to access a portion of a list using the slicing operator"
   ]
  },
  {
   "cell_type": "markdown",
   "id": "42a4cbb3-c574-472d-91fa-e60fd7ce9e04",
   "metadata": {},
   "source": [
    "#### Examples :"
   ]
  },
  {
   "cell_type": "code",
   "execution_count": 17,
   "id": "023d0bc3-de9a-4b4b-b099-13fc00a534f2",
   "metadata": {},
   "outputs": [
    {
     "name": "stdout",
     "output_type": "stream",
     "text": [
      "['N', 'D', 'E']\n"
     ]
    }
   ],
   "source": [
    "my_list = ['S','A','N','D','E','E','P']\n",
    "print(my_list[2:5])"
   ]
  },
  {
   "cell_type": "code",
   "execution_count": 19,
   "id": "b9f40ff4-0d58-4860-9671-70b917bc454c",
   "metadata": {},
   "outputs": [
    {
     "name": "stdout",
     "output_type": "stream",
     "text": [
      "['H', 'A', 'P', 'A', 'T']\n"
     ]
    }
   ],
   "source": [
    "my_list = ['V','I','S','A','K','H','A','P','A','T','N','A','M']\n",
    "print(my_list[5:10])"
   ]
  },
  {
   "cell_type": "markdown",
   "id": "66a96ac5-fe04-4eb9-9a03-f7d321ec2e7b",
   "metadata": {},
   "source": [
    "## LIST OPERATIONS :"
   ]
  },
  {
   "cell_type": "markdown",
   "id": "c68e8671-7e05-488b-8a1b-2159b909c277",
   "metadata": {},
   "source": [
    "#### TYPES"
   ]
  },
  {
   "cell_type": "markdown",
   "id": "8f66b469-b754-44ee-8c35-708358275ccf",
   "metadata": {},
   "source": [
    "##### -> CONCATENATION"
   ]
  },
  {
   "cell_type": "markdown",
   "id": "6a70df29-d754-4603-a3cc-1b7bcbd53377",
   "metadata": {},
   "source": [
    "##### -> REPETITION"
   ]
  },
  {
   "cell_type": "code",
   "execution_count": 27,
   "id": "1d9f0e16-75fa-4ecc-8ff8-e1cb6d8c7d77",
   "metadata": {},
   "outputs": [
    {
     "name": "stdout",
     "output_type": "stream",
     "text": [
      "[1, 2, 3, 4, 5, 2, 4, 6, 8]\n"
     ]
    }
   ],
   "source": [
    "#concatenation\n",
    "a = [1,2,3,4,5]\n",
    "b = [2,4,6,8]\n",
    "c = a + b\n",
    "print(c)"
   ]
  },
  {
   "cell_type": "code",
   "execution_count": 35,
   "id": "c366e6b1-2636-4551-b82a-494b9f6eb589",
   "metadata": {},
   "outputs": [
    {
     "name": "stdout",
     "output_type": "stream",
     "text": [
      "[2, 4, 6, 8, 1, 3, 5, 9]\n"
     ]
    }
   ],
   "source": [
    "b = [2,4,6,8]\n",
    "c = [1,3,5,9]\n",
    "a = b + c\n",
    "print(a)"
   ]
  },
  {
   "cell_type": "code",
   "execution_count": 37,
   "id": "22065940-5c3e-408f-88e6-5a24ae2037e4",
   "metadata": {},
   "outputs": [
    {
     "name": "stdout",
     "output_type": "stream",
     "text": [
      "[[2, 4, 6, 8, 2, 4, 6, 8, 2, 4, 6, 8, 2, 4, 6, 8, 2, 4, 6, 8, 2, 4, 6, 8, 2, 4, 6, 8, 2, 4, 6, 8, 2, 4, 6, 8, 2, 4, 6, 8]]\n"
     ]
    }
   ],
   "source": [
    "#repetition\n",
    "a = [2,4,6,8]\n",
    "b = [a*10]\n",
    "print(b)"
   ]
  },
  {
   "cell_type": "code",
   "execution_count": 39,
   "id": "34955737-2525-47ce-8a2a-34562af25c59",
   "metadata": {},
   "outputs": [
    {
     "name": "stdout",
     "output_type": "stream",
     "text": [
      "[[1, 3, 5, 9, 10, 1, 3, 5, 9, 10, 1, 3, 5, 9, 10, 1, 3, 5, 9, 10, 1, 3, 5, 9, 10, 1, 3, 5, 9, 10, 1, 3, 5, 9, 10, 1, 3, 5, 9, 10, 1, 3, 5, 9, 10, 1, 3, 5, 9, 10, 1, 3, 5, 9, 10, 1, 3, 5, 9, 10, 1, 3, 5, 9, 10, 1, 3, 5, 9, 10, 1, 3, 5, 9, 10, 1, 3, 5, 9, 10, 1, 3, 5, 9, 10, 1, 3, 5, 9, 10, 1, 3, 5, 9, 10, 1, 3, 5, 9, 10, 1, 3, 5, 9, 10, 1, 3, 5, 9, 10, 1, 3, 5, 9, 10, 1, 3, 5, 9, 10, 1, 3, 5, 9, 10, 1, 3, 5, 9, 10, 1, 3, 5, 9, 10, 1, 3, 5, 9, 10, 1, 3, 5, 9, 10, 1, 3, 5, 9, 10, 1, 3, 5, 9, 10, 1, 3, 5, 9, 10, 1, 3, 5, 9, 10, 1, 3, 5, 9, 10, 1, 3, 5, 9, 10, 1, 3, 5, 9, 10, 1, 3, 5, 9, 10, 1, 3, 5, 9, 10, 1, 3, 5, 9, 10, 1, 3, 5, 9, 10, 1, 3, 5, 9, 10, 1, 3, 5, 9, 10, 1, 3, 5, 9, 10, 1, 3, 5, 9, 10, 1, 3, 5, 9, 10, 1, 3, 5, 9, 10, 1, 3, 5, 9, 10, 1, 3, 5, 9, 10, 1, 3, 5, 9, 10, 1, 3, 5, 9, 10]]\n"
     ]
    }
   ],
   "source": [
    "c = [1,3,5,9,10]\n",
    "d = [c*50]\n",
    "print(d)"
   ]
  },
  {
   "cell_type": "markdown",
   "id": "0653888e-58cf-46d4-a39f-531380617b45",
   "metadata": {},
   "source": [
    "## LIST METHODS :"
   ]
  },
  {
   "cell_type": "markdown",
   "id": "ec74c1fe-cc32-4f86-a834-7f4538e12fe2",
   "metadata": {},
   "source": [
    "#### -> APPEND () :"
   ]
  },
  {
   "cell_type": "markdown",
   "id": "395102ae-d83e-4f11-833a-7a1b9d2407a1",
   "metadata": {},
   "source": [
    "Adds an element at the end of the list"
   ]
  },
  {
   "cell_type": "markdown",
   "id": "c1c29954-7112-49b5-8b08-e01e2ef58651",
   "metadata": {},
   "source": [
    "##### Examples :"
   ]
  },
  {
   "cell_type": "code",
   "execution_count": 44,
   "id": "326bafe4-7e0a-4616-a709-d614107675c8",
   "metadata": {},
   "outputs": [
    {
     "name": "stdout",
     "output_type": "stream",
     "text": [
      "['a', 'b', 'c', 'd', 'e']\n"
     ]
    }
   ],
   "source": [
    "alpha = ['a','b','c','d']\n",
    "alpha.append('e')\n",
    "print(alpha)"
   ]
  },
  {
   "cell_type": "code",
   "execution_count": 46,
   "id": "b7032459-8a46-4e0f-abd7-2db12a422300",
   "metadata": {},
   "outputs": [
    {
     "name": "stdout",
     "output_type": "stream",
     "text": [
      "[1, 2, 3, 4, 5, 10]\n"
     ]
    }
   ],
   "source": [
    "numbers = [1,2,3,4,5]\n",
    "numbers.append(10)\n",
    "print(numbers)"
   ]
  },
  {
   "cell_type": "markdown",
   "id": "e803219e-25f7-4113-9d20-fb7d001c29ed",
   "metadata": {},
   "source": [
    "#### -> EXTEND () :"
   ]
  },
  {
   "cell_type": "markdown",
   "id": "86c8ef8a-f728-4fc6-b92e-876cb49668bb",
   "metadata": {},
   "source": [
    "Appends elements from another iterable to the end"
   ]
  },
  {
   "cell_type": "markdown",
   "id": "7d2d3da4-9b28-4373-8542-2a1247488112",
   "metadata": {},
   "source": [
    "##### Examples :"
   ]
  },
  {
   "cell_type": "code",
   "execution_count": 52,
   "id": "1f1541e4-3902-40e7-86da-fbaff2317e5c",
   "metadata": {},
   "outputs": [
    {
     "name": "stdout",
     "output_type": "stream",
     "text": [
      "[1, 2, 3, 4, 6, 7, 89, 2, 45, 344, 567, 234, 123, 880]\n"
     ]
    }
   ],
   "source": [
    "numbers = [1,2,3,4,6,7,89,2,45]\n",
    "more_numbers = [ 344,567,234,123,880]\n",
    "numbers.extend(more_numbers)\n",
    "print(numbers)"
   ]
  },
  {
   "cell_type": "code",
   "execution_count": 54,
   "id": "f9c87016-15d3-4e98-9a32-0d5dc46d5eae",
   "metadata": {},
   "outputs": [
    {
     "name": "stdout",
     "output_type": "stream",
     "text": [
      "['a', 'b', 'c', 'd', 'e', 'f', 'g', 'h', 'i']\n"
     ]
    }
   ],
   "source": [
    "alpha = ['a','b','c','d']\n",
    "more_alpha = ['e','f','g','h','i']\n",
    "alpha.extend(more_alpha)\n",
    "print(alpha)"
   ]
  },
  {
   "cell_type": "markdown",
   "id": "fe10c451-a2a4-432e-a497-a9d9ac61ace7",
   "metadata": {},
   "source": [
    "#### -> INSERT () :"
   ]
  },
  {
   "cell_type": "code",
   "execution_count": null,
   "id": "65a3a8f1-9259-4b10-ba95-5168069efe01",
   "metadata": {},
   "outputs": [],
   "source": [
    "Inserting an element at a specified position"
   ]
  },
  {
   "cell_type": "markdown",
   "id": "1a7167f3-20f7-4990-8d47-9c9132a7e545",
   "metadata": {},
   "source": [
    "#### -> REMOVE () :"
   ]
  },
  {
   "cell_type": "markdown",
   "id": "c06da0ad-28ef-4562-a7d0-bdcc3ff3c847",
   "metadata": {},
   "source": [
    "Removes the first occurance of the value"
   ]
  },
  {
   "cell_type": "markdown",
   "id": "f6bea31d-833f-4349-aa2f-85ce7bf485b5",
   "metadata": {},
   "source": [
    "##### Examples :"
   ]
  },
  {
   "cell_type": "code",
   "execution_count": 78,
   "id": "1ca83336-51c3-46a1-bf73-371f8817cc59",
   "metadata": {},
   "outputs": [
    {
     "name": "stdout",
     "output_type": "stream",
     "text": [
      "[1, 2, 3, 4, 5, 6, 7, 8, 10]\n"
     ]
    }
   ],
   "source": [
    "numbers = [1,2,3,4,5,6,7,8,8,10]\n",
    "numbers.remove(8)\n",
    "print(numbers)"
   ]
  },
  {
   "cell_type": "code",
   "execution_count": 80,
   "id": "a8dd31cf-d7ee-479d-b476-eab1fc6c6469",
   "metadata": {},
   "outputs": [
    {
     "name": "stdout",
     "output_type": "stream",
     "text": [
      "['a', 'b', 'd']\n"
     ]
    }
   ],
   "source": [
    "alpha = ['a','b','c','d']\n",
    "alpha.remove('c')\n",
    "print(alpha)"
   ]
  },
  {
   "cell_type": "markdown",
   "id": "12e7816a-011a-4301-b38a-04d03406156d",
   "metadata": {},
   "source": [
    "#### -> POP () :"
   ]
  },
  {
   "cell_type": "markdown",
   "id": "d9084678-a2ed-4372-922f-f7a723a91c82",
   "metadata": {},
   "source": [
    "Removes and returns an elements at a specified element "
   ]
  },
  {
   "cell_type": "markdown",
   "id": "a52fe03c-6c9c-4a5f-85a5-0d1019836289",
   "metadata": {},
   "source": [
    "#### Examples :"
   ]
  },
  {
   "cell_type": "code",
   "execution_count": 85,
   "id": "8d3c6293-ab33-4ec9-a4d0-c6a25b80f70c",
   "metadata": {},
   "outputs": [
    {
     "name": "stdout",
     "output_type": "stream",
     "text": [
      "[1, 2, 34, 5, 6, 7, 8, 9]\n",
      "10\n"
     ]
    }
   ],
   "source": [
    "numbers = [1,2,34,5,6,7,8,9,10]\n",
    "popped_element = numbers.pop()\n",
    "print(numbers)\n",
    "print(popped_element)"
   ]
  },
  {
   "cell_type": "code",
   "execution_count": 87,
   "id": "62bdd8cd-5e7b-423c-8802-26e3f0fb6a05",
   "metadata": {},
   "outputs": [
    {
     "name": "stdout",
     "output_type": "stream",
     "text": [
      "['a', 'b', 'c', 'd', 'e']\n",
      "f\n"
     ]
    }
   ],
   "source": [
    "alpha = ['a','b','c','d','e','f']\n",
    "popped_element = alpha.pop()\n",
    "print(alpha)\n",
    "print(popped_element)"
   ]
  },
  {
   "cell_type": "markdown",
   "id": "1cff665b-c30a-4e5a-b8de-4d74d565698b",
   "metadata": {},
   "source": [
    "#### -> INDEX () :"
   ]
  },
  {
   "cell_type": "markdown",
   "id": "71082a58-939b-4443-88ed-3e6417841f26",
   "metadata": {},
   "source": [
    "Returns the index of the first occurence of a value "
   ]
  },
  {
   "cell_type": "markdown",
   "id": "15942734-73d8-4731-b6df-06d236f87115",
   "metadata": {},
   "source": [
    "##### Examples :"
   ]
  },
  {
   "cell_type": "code",
   "execution_count": 91,
   "id": "e75bf99f-c7cb-4055-b0b4-7c973b2e24bc",
   "metadata": {},
   "outputs": [
    {
     "name": "stdout",
     "output_type": "stream",
     "text": [
      "3\n"
     ]
    }
   ],
   "source": [
    "numbers = [10,20,30,40,50,60,70,80,90,20,10,30,20,10,40]\n",
    "index = numbers.index(40)\n",
    "print(index)"
   ]
  },
  {
   "cell_type": "code",
   "execution_count": 93,
   "id": "137cf5dc-31c9-42a6-ad22-1e7198c29e10",
   "metadata": {},
   "outputs": [
    {
     "name": "stdout",
     "output_type": "stream",
     "text": [
      "5\n"
     ]
    }
   ],
   "source": [
    "alpha = ['a','b','c','d','e','f','g','h','i','j','k','l']\n",
    "index = alpha.index('f')\n",
    "print(index)"
   ]
  },
  {
   "cell_type": "markdown",
   "id": "b09bd07b-7a1e-4c86-a2e9-1f8a674274be",
   "metadata": {},
   "source": [
    "#### -> COUNT () :"
   ]
  },
  {
   "cell_type": "markdown",
   "id": "61c768b2-f6cc-4879-a2ba-8e4dcf066652",
   "metadata": {},
   "source": [
    "Returns the number of occurance of a value or a variable"
   ]
  },
  {
   "cell_type": "markdown",
   "id": "8c93c910-b6b2-4ae8-894f-7f98ef9f3de1",
   "metadata": {},
   "source": [
    "##### Examples :"
   ]
  },
  {
   "cell_type": "code",
   "execution_count": 99,
   "id": "4b431693-bf11-4708-883e-3c3aaba9ae37",
   "metadata": {},
   "outputs": [
    {
     "name": "stdout",
     "output_type": "stream",
     "text": [
      "2\n"
     ]
    }
   ],
   "source": [
    "numbers = [12,123,23,234,45,456,56,567,12,23,45,78,789,78]\n",
    "count = numbers.count(45)\n",
    "print(count)"
   ]
  },
  {
   "cell_type": "code",
   "execution_count": 101,
   "id": "dd3d9cec-497b-453d-8983-c5afc6253fa3",
   "metadata": {},
   "outputs": [
    {
     "name": "stdout",
     "output_type": "stream",
     "text": [
      "1\n"
     ]
    }
   ],
   "source": [
    "alpha = ['a','b','c','d','e','f','g','h','i','j','k','l','m']\n",
    "count = alpha.count('d')\n",
    "print(count)"
   ]
  },
  {
   "cell_type": "markdown",
   "id": "6b59ef5c-2e34-4ea5-9b59-e0bbbd40ecdd",
   "metadata": {},
   "source": [
    "#### -> SORT () :"
   ]
  },
  {
   "cell_type": "markdown",
   "id": "add32ead-bb4b-4fb0-901c-ccc2ad325b9a",
   "metadata": {},
   "source": [
    "Its sorts the list in the ascending order "
   ]
  },
  {
   "cell_type": "markdown",
   "id": "8e0092de-56f7-4e09-a1a1-fe32ad654898",
   "metadata": {},
   "source": [
    "##### Examples :"
   ]
  },
  {
   "cell_type": "code",
   "execution_count": 105,
   "id": "9b5d11e1-958e-48c9-b1c6-a3bd2b41261f",
   "metadata": {},
   "outputs": [
    {
     "name": "stdout",
     "output_type": "stream",
     "text": [
      "[1, 2, 3, 4, 5, 6, 8, 10, 22, 33, 44, 55, 66, 77, 99, 111]\n"
     ]
    }
   ],
   "source": [
    "numbers = [10 ,99 ,8 ,77 ,6 ,66 ,5 ,55,4,44,3,33,2,22,1,111]\n",
    "numbers.sort()\n",
    "print(numbers)"
   ]
  },
  {
   "cell_type": "code",
   "execution_count": 107,
   "id": "231b681c-bca0-432d-8ca5-f9be1da09f82",
   "metadata": {},
   "outputs": [
    {
     "name": "stdout",
     "output_type": "stream",
     "text": [
      "['APPLE', 'COW', 'DOG', 'MANGO', 'ORANGE', 'PIG']\n"
     ]
    }
   ],
   "source": [
    "alpha = ['APPLE' ,'COW','ORANGE','DOG','MANGO','PIG']\n",
    "alpha.sort()\n",
    "print(alpha)"
   ]
  },
  {
   "cell_type": "markdown",
   "id": "8bf0ed19-6959-4e6b-b02c-1a3c1618fcf7",
   "metadata": {},
   "source": [
    "#### -> REVERSE () :"
   ]
  },
  {
   "cell_type": "markdown",
   "id": "04b969ba-9ada-4960-8ca9-b7006078acab",
   "metadata": {},
   "source": [
    "It reverse the order of elements in the list "
   ]
  },
  {
   "cell_type": "markdown",
   "id": "e867a906-0419-438e-bca1-71157ac9940a",
   "metadata": {},
   "source": [
    "##### Examples :"
   ]
  },
  {
   "cell_type": "code",
   "execution_count": 3,
   "id": "a188622c-20f4-41a3-98d6-710dd0e2c3f2",
   "metadata": {},
   "outputs": [
    {
     "name": "stdout",
     "output_type": "stream",
     "text": [
      "[10, 9, 8, 7, 6, 45, 3, 2, 1]\n"
     ]
    }
   ],
   "source": [
    "numbers = [1,2,3,45,6,7,8,9,10]\n",
    "numbers.reverse()\n",
    "print(numbers)"
   ]
  },
  {
   "cell_type": "code",
   "execution_count": 5,
   "id": "8a0d9cb4-1a85-49d5-a7f4-4dd1fd2bc759",
   "metadata": {},
   "outputs": [
    {
     "name": "stdout",
     "output_type": "stream",
     "text": [
      "['d', 'c', 'b', 'a']\n"
     ]
    }
   ],
   "source": [
    "alpha = ['a','b','c','d']\n",
    "alpha.reverse()\n",
    "print(alpha)"
   ]
  },
  {
   "cell_type": "code",
   "execution_count": null,
   "id": "e0cc3c35-6923-4a44-833e-909eac4ea959",
   "metadata": {},
   "outputs": [],
   "source": []
  }
 ],
 "metadata": {
  "kernelspec": {
   "display_name": "Python 3 (ipykernel)",
   "language": "python",
   "name": "python3"
  },
  "language_info": {
   "codemirror_mode": {
    "name": "ipython",
    "version": 3
   },
   "file_extension": ".py",
   "mimetype": "text/x-python",
   "name": "python",
   "nbconvert_exporter": "python",
   "pygments_lexer": "ipython3",
   "version": "3.12.4"
  }
 },
 "nbformat": 4,
 "nbformat_minor": 5
}
