{
 "cells": [
  {
   "cell_type": "markdown",
   "id": "2aaa71f8-47d7-4613-a371-0bde40ab5dee",
   "metadata": {},
   "source": [
    "Defination of Python : \n",
    "           Python is a set of instructions that we give in the form of a Program to our computer to perform any specific task. It is a Programming language having properties like it is interpreted, object-oriented and it is high-level too. Due to its beginner-friendly syntax, it became a clear choice for beginners to start their programming journey. The major focus behind creating it is making it easier for developers to read and understand, also reducing the lines of code\n",
    "\n",
    "Features Of Python :\n",
    "        . Easy to read and understand\n",
    "        . Interpreted language\n",
    "        . Object-oriented programming language\n",
    "        . Free and open-source\n",
    "        . Versatile and Extensible\n",
    "        . Multi-platform\n",
    "        .  Hundreds of libraries and frameworks\n",
    "        . Flexible, supports GUI\n",
    "        .  Dynamically typed\n",
    "        . Huge and active communityist)ommunity"
   ]
  },
  {
   "cell_type": "code",
   "execution_count": 1,
   "id": "942061dc-c478-4df7-9a4f-cbf9d11aa986",
   "metadata": {},
   "outputs": [
    {
     "name": "stdout",
     "output_type": "stream",
     "text": [
      "3.12.4\n"
     ]
    }
   ],
   "source": [
    "from platform import python_version\n",
    "print(python_version())"
   ]
  },
  {
   "cell_type": "code",
   "execution_count": 3,
   "id": "4002e664-c40b-42e7-af07-19fb873b6ded",
   "metadata": {},
   "outputs": [
    {
     "name": "stdout",
     "output_type": "stream",
     "text": [
      "Hello World\n"
     ]
    }
   ],
   "source": [
    "print(\"Hello World\")"
   ]
  },
  {
   "cell_type": "markdown",
   "id": "d7b854f4-f8a8-4152-8821-b14a96b8c14a",
   "metadata": {},
   "source": [
    "Python Keywords :\n",
    "      . Keywords in Python are reserved words that can not be used as a variable name, function name, or any other identifier.\n",
    "      . The purpose of keyword is to define the syntax of the code \n",
    "      . All the keywords contain lower-case letters"
   ]
  },
  {
   "cell_type": "code",
   "execution_count": 1,
   "id": "6e6f871d-4795-4a61-a97b-b67b248ffdc5",
   "metadata": {},
   "outputs": [
    {
     "name": "stdout",
     "output_type": "stream",
     "text": [
      "The list of keywords is : \n",
      "['False', 'None', 'True', 'and', 'as', 'assert', 'async', 'await', 'break', 'class', 'continue', 'def', 'del', 'elif', 'else', 'except', 'finally', 'for', 'from', 'global', 'if', 'import', 'in', 'is', 'lambda', 'nonlocal', 'not', 'or', 'pass', 'raise', 'return', 'try', 'while', 'with', 'yield']\n"
     ]
    }
   ],
   "source": [
    "import keyword\n",
    " \n",
    "# printing all keywords at once using \"kwlist()\"\n",
    "print(\"The list of keywords is : \")\n",
    "print(keyword.kwlist)"
   ]
  },
  {
   "cell_type": "markdown",
   "id": "6214babe-ccde-4b67-90dd-4d44e6822ef3",
   "metadata": {},
   "source": [
    "Python Comments :\n",
    "       . Comments can be used to explain Python code.\r",
    "       . \r\n",
    "Comments can be used to make the code more readable       . \r\n",
    "\r\n",
    "Comments can be used to prevent execution when testing c\n",
    "\n",
    " Examples :      ode."
   ]
  },
  {
   "cell_type": "code",
   "execution_count": 3,
   "id": "5697c332-6d45-42d6-bc0f-f52dd641634f",
   "metadata": {},
   "outputs": [
    {
     "name": "stdout",
     "output_type": "stream",
     "text": [
      "Hello, World!\n"
     ]
    }
   ],
   "source": [
    "#This is a comment\n",
    "print(\"Hello, World!\")"
   ]
  },
  {
   "cell_type": "code",
   "execution_count": 5,
   "id": "ff4a8fdb-bcd8-4faf-9239-2fc53b41e4db",
   "metadata": {},
   "outputs": [
    {
     "name": "stdout",
     "output_type": "stream",
     "text": [
      "Vizag!\n"
     ]
    }
   ],
   "source": [
    "#print(\"Hello, World!\")\n",
    "print(\"Vizag!\")"
   ]
  },
  {
   "cell_type": "code",
   "execution_count": null,
   "id": "05ac58ce-2655-4ebe-be40-7216847f5852",
   "metadata": {},
   "outputs": [],
   "source": []
  }
 ],
 "metadata": {
  "kernelspec": {
   "display_name": "Python 3 (ipykernel)",
   "language": "python",
   "name": "python3"
  },
  "language_info": {
   "codemirror_mode": {
    "name": "ipython",
    "version": 3
   },
   "file_extension": ".py",
   "mimetype": "text/x-python",
   "name": "python",
   "nbconvert_exporter": "python",
   "pygments_lexer": "ipython3",
   "version": "3.12.4"
  }
 },
 "nbformat": 4,
 "nbformat_minor": 5
}
