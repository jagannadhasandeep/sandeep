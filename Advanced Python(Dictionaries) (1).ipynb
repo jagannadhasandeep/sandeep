{
 "cells": [
  {
   "cell_type": "markdown",
   "id": "73093862-3f23-45e4-a0b5-3184505c4b6b",
   "metadata": {},
   "source": [
    "## PYTHON DICTIONARIES"
   ]
  },
  {
   "cell_type": "markdown",
   "id": "f3b81efc-2b33-451e-8591-53a81eb64044",
   "metadata": {},
   "source": [
    "-> Dictionaries in Python is a data structure, used to store values in key:value format.\n",
    "\n",
    "-> This makes it different from lists, tuples, and arrays as in a dictionary each key has an associated value."
   ]
  },
  {
   "cell_type": "markdown",
   "id": "9f508b21-4906-486b-a1e7-6e8a84333a6b",
   "metadata": {},
   "source": [
    "## CREATING OF DICTIONARIES"
   ]
  },
  {
   "cell_type": "markdown",
   "id": "688d887d-ce1c-4412-920c-c4005ef3cb40",
   "metadata": {},
   "source": [
    "-> In Python , a dictionary can be created by placing a sequence of elements within curly {} braces, separated by a ‘comma’.\r\n",
    "-> \r\n",
    "The dictionary holds pairs of values, one being the Key and the other corresponding pair element being its Key:value .-> \r\n",
    "\r\n",
    "Values in a dictionary can be of any data type and can be duplicated, whereas keys can’t be repeated and must be immutable .\r\n",
    "\r\n",
    "Note – Dictionary keys are case sensitive, the same name but different cases of Key will be treated distinc-> tly.\r\n",
    "\r\n",
    "The code demonstrates creating dictionaries with different types of keys. The first dictionary uses integer keys, and the second dictionary uses a mix of string and integer keys with corresponding values. This showcases the flexibility of Python dictionaries in handling various data tas keys."
   ]
  },
  {
   "cell_type": "markdown",
   "id": "849c231c-7598-4441-8169-4a057cddb1bf",
   "metadata": {},
   "source": [
    "#### SYNTAX OF DICTIONARY :"
   ]
  },
  {
   "cell_type": "markdown",
   "id": "abcc1273-988a-43a2-b224-5a7ad00e01aa",
   "metadata": {},
   "source": [
    "dictionary = {key:value}"
   ]
  },
  {
   "cell_type": "markdown",
   "id": "507d0856-a97f-4c09-91d4-9d40b03181a4",
   "metadata": {},
   "source": [
    "#### Example :"
   ]
  },
  {
   "cell_type": "code",
   "execution_count": 16,
   "id": "4066c847-a0db-4457-a123-696b3ca918bb",
   "metadata": {},
   "outputs": [
    {
     "name": "stdout",
     "output_type": "stream",
     "text": [
      "{'name': 'Sandeep', 'age': 22, 'grade': 'A'}\n",
      "{'name': 'Surya', 'age': 25, 'grade': [80, 90, 95]}\n"
     ]
    }
   ],
   "source": [
    "empty_dict ={}\n",
    "student={\"name\":'Sandeep',\"age\":22,\"grade\":'A'}\n",
    "print(student)\n",
    "\n",
    "mixed_dict={\"name\" :'Surya', \"age\" :25,\"grade\" :[80,90,95]}\n",
    "print(mixed_dict)"
   ]
  },
  {
   "cell_type": "markdown",
   "id": "1899e550-df30-4f5f-b3dd-fc5a08251c1d",
   "metadata": {},
   "source": [
    "## ACCESSING VALUES :"
   ]
  },
  {
   "cell_type": "markdown",
   "id": "3f985cb2-35eb-41f9-964e-d9e04aeac4cc",
   "metadata": {},
   "source": [
    " We can access the values in a dictionary using the keys"
   ]
  },
  {
   "cell_type": "markdown",
   "id": "6813a7d8-358e-4612-8f1c-f9cdbd4e633b",
   "metadata": {},
   "source": [
    "#### Examples :"
   ]
  },
  {
   "cell_type": "code",
   "execution_count": 28,
   "id": "92a77b74-d610-42fd-820a-8ddac0a4f4c4",
   "metadata": {},
   "outputs": [
    {
     "name": "stdout",
     "output_type": "stream",
     "text": [
      "{'name': 'Surya', 'age': 25, 'grade': 'A'}\n",
      "Surya\n",
      "[80, 90, 95]\n"
     ]
    }
   ],
   "source": [
    "student ={\"name\" : 'Surya',\"age\" : 25,\"grade\" :'A'}\n",
    "print(student)\n",
    "mixed_dict={\"name\" : 'Surya',\"age\" :20,\"grade\" :[80,90,95]}\n",
    "print(student[\"name\"])\n",
    "print(mixed_dict[\"grade\"])"
   ]
  },
  {
   "cell_type": "markdown",
   "id": "422e7036-3dec-43e5-8ca5-9b59751fa976",
   "metadata": {},
   "source": [
    "## MODIFYING THE VALUES :"
   ]
  },
  {
   "cell_type": "code",
   "execution_count": 31,
   "id": "a77e755c-4f14-49d2-bfb3-5a9c98904729",
   "metadata": {},
   "outputs": [
    {
     "name": "stdout",
     "output_type": "stream",
     "text": [
      "{'name': 'Surya', 'age': 28, 'grade': 'A'}\n",
      "{'name': 'Surya', 'age': 28, 'grade': 'A', 'gender': 'female', 'qualification': 'B.Tech'}\n"
     ]
    }
   ],
   "source": [
    "#modify an entry\n",
    "student[\"age\"]=28\n",
    "print(student)\n",
    "#adding a new entry\n",
    "student[\"gender\"]='female'\n",
    "student[\"qualification\"]='B.Tech'\n",
    "print(student)"
   ]
  },
  {
   "cell_type": "markdown",
   "id": "b28c01b4-658c-4c33-8006-2ab5c7d2989f",
   "metadata": {},
   "source": [
    "## METHODS IN DICTIONARY :"
   ]
  },
  {
   "cell_type": "markdown",
   "id": "8c768b35-2f92-4ff7-9511-49d493dcc90a",
   "metadata": {},
   "source": [
    "#### 1. get() :"
   ]
  },
  {
   "cell_type": "markdown",
   "id": "5d8b2569-b103-4a3e-9a87-892da4f8b613",
   "metadata": {},
   "source": [
    "Returns the value of a specified key\n",
    "it also allows you to provide a default value if the key is not found"
   ]
  },
  {
   "cell_type": "code",
   "execution_count": 35,
   "id": "26299461-5849-415c-b979-c10169405258",
   "metadata": {},
   "outputs": [
    {
     "name": "stdout",
     "output_type": "stream",
     "text": [
      "A\n",
      "female\n",
      "not found\n"
     ]
    }
   ],
   "source": [
    "#example for get()\n",
    "g = student.get(\"grade\",\"no grade\")\n",
    "gender = student.get(\"gender\",\"not mentioned\")\n",
    "n = student.get(\"location\",\"not found\")\n",
    "print(g)\n",
    "print(gender)\n",
    "print(n)"
   ]
  },
  {
   "cell_type": "markdown",
   "id": "ec5f3923-51e9-42b7-b1a2-c37ae292575e",
   "metadata": {},
   "source": [
    "#### 2.keys() :"
   ]
  },
  {
   "cell_type": "markdown",
   "id": "8b8a7688-9b30-4a1f-9da2-86712f061b85",
   "metadata": {},
   "source": [
    "Returns a veiw of all the keys in the dictionary"
   ]
  },
  {
   "cell_type": "code",
   "execution_count": 54,
   "id": "e9bed89d-b22f-4e5f-88c5-376f4d89ece7",
   "metadata": {},
   "outputs": [
    {
     "name": "stdout",
     "output_type": "stream",
     "text": [
      "dict_keys(['name', 'age', 'grade', 'gender', 'qualification'])\n"
     ]
    }
   ],
   "source": [
    "#example for keys()\n",
    "keys = student.keys()\n",
    "print(keys)"
   ]
  },
  {
   "cell_type": "markdown",
   "id": "6f886e8f-8eaa-40f3-9513-f901330f7643",
   "metadata": {},
   "source": [
    "#### 3.values() :"
   ]
  },
  {
   "cell_type": "markdown",
   "id": "ee7b1da1-4d55-43b4-9b71-4f19bd67ead1",
   "metadata": {},
   "source": [
    "Returns a veiw of all values in the dictionary"
   ]
  },
  {
   "cell_type": "code",
   "execution_count": 57,
   "id": "52e24651-4711-47de-b54f-41086277be58",
   "metadata": {},
   "outputs": [
    {
     "name": "stdout",
     "output_type": "stream",
     "text": [
      "dict_values(['Surya', 28, 'A', 'female', 'B.Tech'])\n"
     ]
    }
   ],
   "source": [
    "#example for values()\n",
    "values=student.values()\n",
    "print(values)"
   ]
  },
  {
   "cell_type": "markdown",
   "id": "14508084-0683-4836-b8da-a3a72f75c14a",
   "metadata": {},
   "source": [
    "#### 4. items() :"
   ]
  },
  {
   "cell_type": "markdown",
   "id": "b759f667-c386-4511-b803-b3af95348ddb",
   "metadata": {},
   "source": [
    "Returns a veiw of all key values pairs as tuples "
   ]
  },
  {
   "cell_type": "code",
   "execution_count": 60,
   "id": "aa3a7445-8160-44c9-bd68-749272bffb0b",
   "metadata": {},
   "outputs": [
    {
     "name": "stdout",
     "output_type": "stream",
     "text": [
      "dict_items([('name', 'Surya'), ('age', 28), ('grade', 'A'), ('gender', 'female'), ('qualification', 'B.Tech')])\n"
     ]
    }
   ],
   "source": [
    "#example for items()\n",
    "items=student.items()\n",
    "print(items)"
   ]
  },
  {
   "cell_type": "markdown",
   "id": "5cf12273-2832-4a41-8c1d-b1ac51572e39",
   "metadata": {},
   "source": [
    "#### 5. pop() :"
   ]
  },
  {
   "cell_type": "markdown",
   "id": "ade5203a-4e29-48e0-81ee-ab81fbd4b79e",
   "metadata": {},
   "source": [
    "Removes and returns the value for a specified key"
   ]
  },
  {
   "cell_type": "code",
   "execution_count": 67,
   "id": "cd56b197-a003-450b-adef-c629ddb2d998",
   "metadata": {},
   "outputs": [
    {
     "name": "stdout",
     "output_type": "stream",
     "text": [
      "22\n"
     ]
    }
   ],
   "source": [
    "#example for pop()\n",
    "mixed_dict={\"name\":'Sandeep',\"age\":22,\"grades\":[80,90,95]}\n",
    "print(mixed_dict[\"age\"])"
   ]
  },
  {
   "cell_type": "markdown",
   "id": "2283f673-504f-4287-888d-1221db7e32f6",
   "metadata": {},
   "source": [
    "#### 6. popitem() :"
   ]
  },
  {
   "cell_type": "markdown",
   "id": "de0c3855-0329-4af3-9863-17d0bab12838",
   "metadata": {},
   "source": [
    "Removes and returns the last inserted key value pair as tuple"
   ]
  },
  {
   "cell_type": "code",
   "execution_count": 70,
   "id": "d21f5f40-a5be-4867-b662-9a38cc4321ba",
   "metadata": {},
   "outputs": [
    {
     "name": "stdout",
     "output_type": "stream",
     "text": [
      "('qualification', 'B.Tech')\n",
      "{'name': 'Surya', 'age': 28, 'grade': 'A', 'gender': 'female'}\n"
     ]
    }
   ],
   "source": [
    "#example for popitem()\n",
    "last_item=student.popitem()\n",
    "print(last_item)\n",
    "print(student)"
   ]
  },
  {
   "cell_type": "markdown",
   "id": "a28b1c5b-1d72-432e-b8f1-4f2aacf4cc0c",
   "metadata": {},
   "source": [
    "#### 7. update() :"
   ]
  },
  {
   "cell_type": "markdown",
   "id": "06635ea7-db88-4540-a2d2-6778986b609c",
   "metadata": {},
   "source": [
    "Updates the dictionary with the elements from another dictionary or from an iterable key value pairs"
   ]
  },
  {
   "cell_type": "code",
   "execution_count": 73,
   "id": "c192f5fa-b26f-456b-a1f8-71b65aaf2c48",
   "metadata": {},
   "outputs": [
    {
     "data": {
      "text/plain": [
       "{'name': 'Sandeep', 'age': 22, 'grade': 'A'}"
      ]
     },
     "execution_count": 73,
     "metadata": {},
     "output_type": "execute_result"
    }
   ],
   "source": [
    "#example for update()\n",
    "student={\"name\":'Sandeep',\"age\":22,\"grade\":'A'}\n",
    "student"
   ]
  },
  {
   "cell_type": "markdown",
   "id": "4a83824f-953a-4436-b064-3799ad90eb72",
   "metadata": {},
   "source": [
    "newdata={\"age\":24,\"grade\":'A+'}\n",
    "student.update(newdata)\n",
    "print(student)"
   ]
  },
  {
   "cell_type": "markdown",
   "id": "1ec10f75-dbeb-4a31-bf03-b24bc11386d6",
   "metadata": {},
   "source": [
    "#### 8. setdefault() :"
   ]
  },
  {
   "cell_type": "markdown",
   "id": "5e9a353e-99ad-4753-9a11-4826cd31cf5e",
   "metadata": {},
   "source": [
    "Returns the value of the specified key. If the key does not exist: insert the key, with the specified value"
   ]
  },
  {
   "cell_type": "code",
   "execution_count": 84,
   "id": "7b7095dc-120f-405f-817c-207d593f3446",
   "metadata": {},
   "outputs": [
    {
     "name": "stdout",
     "output_type": "stream",
     "text": [
      "Visakhapatnam\n",
      "Sandeep\n"
     ]
    }
   ],
   "source": [
    "#example for setdefault()\n",
    "student={\"name\":'Sandeep',\"age\":22,\"grade\":'A'}\n",
    "x= student.setdefault(\"City\",'Visakhapatnam')\n",
    "y= student.setdefault(\"name\",'Sandeep')\n",
    "print(x)\n",
    "print(y)"
   ]
  },
  {
   "cell_type": "markdown",
   "id": "3c97f8b0-1995-48aa-acde-d1d94a81c4af",
   "metadata": {},
   "source": [
    "#### 9.copy() :"
   ]
  },
  {
   "cell_type": "markdown",
   "id": "63bf0a8c-b3c0-40c7-a718-f151a1dd2539",
   "metadata": {},
   "source": [
    "Returns a copy of the dictionary"
   ]
  },
  {
   "cell_type": "code",
   "execution_count": 87,
   "id": "2acd032e-8085-4739-af78-ba98bc91a69c",
   "metadata": {},
   "outputs": [
    {
     "name": "stdout",
     "output_type": "stream",
     "text": [
      "{'name': 'Sandeep', 'age': 22, 'grade': 'A'}\n"
     ]
    }
   ],
   "source": [
    "#example for copy()\n",
    "student={\"name\":'Sandeep',\"age\":22,\"grade\":'A'}\n",
    "student.copy()\n",
    "print(student)"
   ]
  },
  {
   "cell_type": "markdown",
   "id": "b8c53a01-d84a-42ab-981f-4906066dc235",
   "metadata": {},
   "source": [
    "#### 10. clear() :"
   ]
  },
  {
   "cell_type": "markdown",
   "id": "618992cd-46c5-451a-8d69-72924e9893e6",
   "metadata": {},
   "source": [
    "clear() method removes all the elements from the dictionary"
   ]
  },
  {
   "cell_type": "code",
   "execution_count": 90,
   "id": "0d7ed8b9-8b80-4a8c-98c1-36a1a888d6bf",
   "metadata": {},
   "outputs": [
    {
     "name": "stdout",
     "output_type": "stream",
     "text": [
      "{}\n"
     ]
    }
   ],
   "source": [
    "#example for clear()\n",
    "student={\"name\":'Sandeep',\"age\":22,\"grade\":'A'}\n",
    "student.clear()\n",
    "print(student)"
   ]
  },
  {
   "cell_type": "markdown",
   "id": "62c585c2-4a6e-4940-afe6-4357e22f0c63",
   "metadata": {},
   "source": [
    "#### 11. fromkeys() :"
   ]
  },
  {
   "cell_type": "markdown",
   "id": "22a74d5a-c01a-4501-8a03-4f370258806c",
   "metadata": {},
   "source": [
    "fromkeys() method returns a dictionary with the specified keys and the specified value"
   ]
  },
  {
   "cell_type": "code",
   "execution_count": 93,
   "id": "1fac7a2d-dd0a-4059-bf8a-8374c5147f8f",
   "metadata": {},
   "outputs": [
    {
     "name": "stdout",
     "output_type": "stream",
     "text": [
      "{'a': 0, 'b': 0, 'c': 0, 'd': 0}\n"
     ]
    }
   ],
   "source": [
    "#example for fromkeys()\n",
    "keys=['a','b','c','d']\n",
    "my_dict=dict.fromkeys(keys,0)\n",
    "print(my_dict)"
   ]
  }
 ],
 "metadata": {
  "kernelspec": {
   "display_name": "Python 3 (ipykernel)",
   "language": "python",
   "name": "python3"
  },
  "language_info": {
   "codemirror_mode": {
    "name": "ipython",
    "version": 3
   },
   "file_extension": ".py",
   "mimetype": "text/x-python",
   "name": "python",
   "nbconvert_exporter": "python",
   "pygments_lexer": "ipython3",
   "version": "3.12.4"
  }
 },
 "nbformat": 4,
 "nbformat_minor": 5
}
