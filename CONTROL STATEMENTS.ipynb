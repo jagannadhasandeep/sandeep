{
 "cells": [
  {
   "cell_type": "markdown",
   "id": "ad6abe65-c76a-47f8-a3dd-10929be24e34",
   "metadata": {},
   "source": [
    "## PYTHON CONTROL STATEMENTS :"
   ]
  },
  {
   "cell_type": "markdown",
   "id": "94d4753b-c246-4820-b09e-ae43067137c7",
   "metadata": {},
   "source": [
    "#### 1. break :"
   ]
  },
  {
   "cell_type": "markdown",
   "id": "917e0474-4366-4636-9bb2-2aceb098cd79",
   "metadata": {},
   "source": [
    "The break statement immediately terminates the loop, and the program continues with the next statement following the loop. It's commonly used to exit a loop when a certain condition is met."
   ]
  },
  {
   "cell_type": "markdown",
   "id": "96eb2487-04fa-4a4d-a02d-0dedba0865ac",
   "metadata": {},
   "source": [
    "##### Examples :"
   ]
  },
  {
   "cell_type": "code",
   "execution_count": 4,
   "id": "d93c9926-6bda-406d-ae4c-aef32fc9cb9c",
   "metadata": {},
   "outputs": [
    {
     "name": "stdout",
     "output_type": "stream",
     "text": [
      "Current Letter : d\n"
     ]
    }
   ],
   "source": [
    "for letter in 'Sandeep':\n",
    "\n",
    "\t# break the loop as soon it sees 'e'\n",
    "\t# or 's'\n",
    "\tif letter == 'e' or letter == 'd':\n",
    "\t\tbreak\n",
    "print('Current Letter :', letter)\n"
   ]
  },
  {
   "cell_type": "code",
   "execution_count": 28,
   "id": "39f1a0d5-f89e-432c-bf9c-a3198991d869",
   "metadata": {},
   "outputs": [
    {
     "name": "stdout",
     "output_type": "stream",
     "text": [
      "0\n",
      "1\n",
      "2\n",
      "3\n",
      "4\n",
      "5\n",
      "6\n",
      "7\n",
      "8\n",
      "9\n",
      "11\n",
      "12\n",
      "13\n",
      "14\n",
      "15\n",
      "16\n",
      "17\n",
      "18\n",
      "19\n",
      "20\n",
      "21\n",
      "22\n",
      "23\n",
      "24\n",
      "25\n",
      "26\n",
      "27\n",
      "28\n",
      "29\n"
     ]
    }
   ],
   "source": [
    "for i in range(50) :\n",
    "    if i == 10 :\n",
    "        pass\n",
    "    elif i == 30 :\n",
    "        break\n",
    "    else :\n",
    "        print(i)\n"
   ]
  },
  {
   "cell_type": "markdown",
   "id": "56018efb-ecff-4acd-b840-3f5af276d2fc",
   "metadata": {},
   "source": [
    "#### 2.Pass :"
   ]
  },
  {
   "cell_type": "markdown",
   "id": "204f2dd7-e593-4cab-aed7-5516ab52542a",
   "metadata": {},
   "source": [
    "The pass statement is a no operation statements "
   ]
  },
  {
   "cell_type": "markdown",
   "id": "925f365f-fdde-45bb-978f-170e3c7a9269",
   "metadata": {},
   "source": [
    "##### Examples :"
   ]
  },
  {
   "cell_type": "code",
   "execution_count": 32,
   "id": "7fbc9dab-9fd9-4af5-904c-3e5903b40f23",
   "metadata": {},
   "outputs": [
    {
     "name": "stdout",
     "output_type": "stream",
     "text": [
      "0\n",
      "1\n",
      "2\n",
      "3\n",
      "4\n",
      "5\n",
      "6\n",
      "7\n",
      "8\n",
      "9\n",
      "11\n",
      "12\n",
      "13\n",
      "14\n",
      "15\n",
      "16\n",
      "17\n",
      "18\n",
      "19\n"
     ]
    }
   ],
   "source": [
    "for i in range(20) :\n",
    "    if i == 10 :\n",
    "        pass\n",
    "    else :\n",
    "        print(i)"
   ]
  },
  {
   "cell_type": "code",
   "execution_count": 40,
   "id": "08024372-6302-4073-a646-eb811cf75918",
   "metadata": {},
   "outputs": [
    {
     "name": "stdout",
     "output_type": "stream",
     "text": [
      "0\n",
      "1\n",
      "2\n",
      "3\n",
      "4\n",
      "5\n",
      "6\n",
      "7\n",
      "8\n",
      "9\n",
      "10\n",
      "11\n",
      "12\n",
      "13\n",
      "14\n",
      "15\n",
      "16\n",
      "17\n",
      "18\n",
      "19\n",
      "20\n",
      "21\n",
      "22\n",
      "23\n",
      "24\n",
      "25\n",
      "26\n",
      "27\n",
      "28\n",
      "29\n",
      "30\n",
      "31\n",
      "32\n",
      "33\n",
      "34\n",
      "35\n",
      "36\n",
      "37\n",
      "38\n",
      "39\n",
      "40\n",
      "41\n",
      "42\n",
      "43\n",
      "44\n",
      "45\n",
      "46\n",
      "47\n",
      "48\n",
      "49\n",
      "51\n",
      "52\n",
      "53\n",
      "54\n",
      "55\n",
      "56\n",
      "57\n",
      "58\n",
      "59\n",
      "60\n",
      "61\n",
      "62\n",
      "63\n",
      "64\n",
      "65\n",
      "66\n",
      "67\n",
      "68\n",
      "69\n",
      "70\n",
      "71\n",
      "72\n",
      "73\n",
      "74\n",
      "75\n",
      "76\n",
      "77\n",
      "78\n",
      "79\n",
      "80\n",
      "81\n",
      "82\n",
      "83\n",
      "84\n",
      "85\n",
      "86\n",
      "87\n",
      "88\n",
      "89\n",
      "90\n",
      "91\n",
      "92\n",
      "93\n",
      "94\n",
      "95\n",
      "96\n",
      "97\n",
      "98\n",
      "99\n"
     ]
    }
   ],
   "source": [
    "for i in range(100):\n",
    "    if i == 50 :\n",
    "        pass\n",
    "    else :\n",
    "        print(i)"
   ]
  },
  {
   "cell_type": "markdown",
   "id": "d6ddb727-b186-459c-a084-41e6a41fd590",
   "metadata": {},
   "source": [
    "#### 3. Continue :"
   ]
  },
  {
   "cell_type": "markdown",
   "id": "b897a5b6-2fbe-4b22-80e3-f145e2876201",
   "metadata": {},
   "source": [
    "It returns the control to the beginning of the loop. "
   ]
  },
  {
   "cell_type": "markdown",
   "id": "11226f08-4958-4728-a039-d519fde7e976",
   "metadata": {},
   "source": [
    "##### Examples :"
   ]
  },
  {
   "cell_type": "code",
   "execution_count": 44,
   "id": "744dccbc-85f3-46ce-8d83-cee39bdf4008",
   "metadata": {},
   "outputs": [
    {
     "name": "stdout",
     "output_type": "stream",
     "text": [
      "Current Letter : S\n",
      "Current Letter : a\n",
      "Current Letter : n\n",
      "Current Letter : d\n",
      "Current Letter : p\n"
     ]
    }
   ],
   "source": [
    "\n",
    "for letter in 'Sandeep':\n",
    "\tif letter == 'e' or letter == 's':\n",
    "\t\tcontinue\n",
    "\tprint('Current Letter :', letter)\n"
   ]
  },
  {
   "cell_type": "code",
   "execution_count": 46,
   "id": "b46da204-4a3d-4175-94d2-97f37cdaca35",
   "metadata": {},
   "outputs": [
    {
     "name": "stdout",
     "output_type": "stream",
     "text": [
      "0\n",
      "1\n",
      "2\n",
      "3\n",
      "4\n",
      "5\n",
      "6\n",
      "7\n",
      "8\n",
      "9\n",
      "10\n",
      "11\n",
      "12\n",
      "13\n",
      "14\n",
      "15\n",
      "16\n",
      "17\n",
      "18\n",
      "19\n",
      "20\n",
      "21\n",
      "22\n",
      "23\n",
      "24\n",
      "25\n",
      "26\n",
      "27\n",
      "28\n",
      "29\n",
      "30\n",
      "31\n",
      "32\n",
      "33\n",
      "34\n",
      "35\n",
      "36\n",
      "37\n",
      "38\n",
      "39\n",
      "41\n",
      "42\n",
      "43\n",
      "44\n",
      "45\n",
      "46\n",
      "47\n",
      "48\n",
      "49\n"
     ]
    }
   ],
   "source": [
    "for i in range(50) :\n",
    "    if i == 40 :\n",
    "        continue\n",
    "    else :\n",
    "        print(i)"
   ]
  },
  {
   "cell_type": "code",
   "execution_count": null,
   "id": "ddcd2767-34b4-44ab-82f2-8b0511af4b97",
   "metadata": {},
   "outputs": [],
   "source": []
  }
 ],
 "metadata": {
  "kernelspec": {
   "display_name": "Python 3 (ipykernel)",
   "language": "python",
   "name": "python3"
  },
  "language_info": {
   "codemirror_mode": {
    "name": "ipython",
    "version": 3
   },
   "file_extension": ".py",
   "mimetype": "text/x-python",
   "name": "python",
   "nbconvert_exporter": "python",
   "pygments_lexer": "ipython3",
   "version": "3.12.4"
  }
 },
 "nbformat": 4,
 "nbformat_minor": 5
}
