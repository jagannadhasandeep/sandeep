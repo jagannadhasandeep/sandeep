{
 "cells": [
  {
   "cell_type": "markdown",
   "id": "74e493fb-4c1c-4d7c-8f03-b3c8e9a5af11",
   "metadata": {},
   "source": [
    "## PYTHON SETS :"
   ]
  },
  {
   "cell_type": "markdown",
   "id": "73b88a23-f4bf-4462-88b4-2b19ca2b1808",
   "metadata": {},
   "source": [
    "-> Python Set is an unordered collection of data types that is iterable, mutable, and has no duplicate elements.\n",
    "\n",
    "-> The order of elements in a set is undefined though it may consist of various elements. \n",
    "\n",
    "-> The major advantage of using a set, as opposed to a list, is that it has a highly optimized method for checking whether a specific element is contained in the set.\n",
    "\n",
    "-> It uses common set operations like union , intersection , difference and more."
   ]
  },
  {
   "cell_type": "markdown",
   "id": "7552b07b-c058-430c-b362-444ed1393699",
   "metadata": {},
   "source": [
    "## CREATION OF SETS :"
   ]
  },
  {
   "cell_type": "markdown",
   "id": "7974ed03-acb6-45b4-96e7-3eda3645f71a",
   "metadata": {},
   "source": [
    "-> Python Sets can be created by using the built-in set() function with an iterable object or a sequence by placing the sequence inside curly braces, separated by a ‘comma’.\r\n",
    "\r\n",
    "Note: A Python set cannot have mutable elements like a list or dictionary, as it is immutable. "
   ]
  },
  {
   "cell_type": "code",
   "execution_count": 3,
   "id": "ef60d2a4-8f5b-4383-834b-54a8089a2d41",
   "metadata": {},
   "outputs": [
    {
     "name": "stdout",
     "output_type": "stream",
     "text": [
      "{1, 2, 3, 4, 5}\n"
     ]
    }
   ],
   "source": [
    "#Creating an empty set\n",
    "empty_set = set()\n",
    "#Creating a set with elements\n",
    "fruits = ('apple','mango','banana')\n",
    "numbers = set({1,2,3,4,5})\n",
    "print(numbers)"
   ]
  },
  {
   "cell_type": "code",
   "execution_count": 5,
   "id": "37c1af98-c5c4-4a65-ac02-c1dda127e973",
   "metadata": {},
   "outputs": [
    {
     "name": "stdout",
     "output_type": "stream",
     "text": [
      "(9, 7, 5, 3, 1, 2, 4, 6, 8, 0, 7, 9, 44, 55, 66, 77, 88, 99, 24, 44)\n"
     ]
    }
   ],
   "source": [
    "#duplicate items in a set\n",
    "numbers = (9,7,5,3,1,2,4,6,8,0,7,9,44,55,66,77,88,99,24,44)\n",
    "print(numbers)"
   ]
  },
  {
   "cell_type": "markdown",
   "id": "f121ce9f-10ed-4c8c-a901-d0f6dee15e2e",
   "metadata": {},
   "source": [
    "## ACCESSING AN ELEMENT IN SETS :"
   ]
  },
  {
   "cell_type": "markdown",
   "id": "950e2d86-8905-420e-891b-1e436101b154",
   "metadata": {},
   "source": [
    "-> Set items cannot be accessed by referring to an index, since sets are unordered the items has no index.\n",
    "\n",
    "-> But you can loop through the Python hash set items using a for loop, or ask if a specified value is present in a set, by using the in keyword."
   ]
  },
  {
   "cell_type": "markdown",
   "id": "b21d5303-651d-439c-b3fa-156769350939",
   "metadata": {},
   "source": [
    "## SET METHODS :"
   ]
  },
  {
   "cell_type": "markdown",
   "id": "0792eb65-a91b-4236-895c-49659086eb95",
   "metadata": {},
   "source": [
    "#### 1. Add item in python set :"
   ]
  },
  {
   "cell_type": "markdown",
   "id": "700e76d4-d788-4693-9b28-2d1044f0c36a",
   "metadata": {},
   "source": [
    "-> Elements can be added to the Sets in Python by using the built-in add() function.\n",
    "\n",
    "-> Only one element at a time can be added to the set by using add() method, loops are used to add multiple elements at a time with the use of add() method."
   ]
  },
  {
   "cell_type": "markdown",
   "id": "56351871-360e-4610-bbc0-b712f25ec7d3",
   "metadata": {},
   "source": [
    "Note: Lists cannot be added to a set as elements because Lists are not hashable whereas Tuples can be added because tuples are immutable and hence Hashable. "
   ]
  },
  {
   "cell_type": "code",
   "execution_count": 27,
   "id": "51c86e23-9639-403b-a618-143e5db03858",
   "metadata": {},
   "outputs": [
    {
     "name": "stdout",
     "output_type": "stream",
     "text": [
      "Initial blank Set: \n",
      "set()\n",
      "{(6, 24), 4, (8, 12)}\n"
     ]
    }
   ],
   "source": [
    "#example for add()\n",
    "# Creating a Set\n",
    "set1 = set()\n",
    "print(\"Initial blank Set: \")\n",
    "print(set1)\n",
    "\n",
    "# Adding element and tuple to the Set\n",
    "set1.add((8,12))\n",
    "set1.add(4)\n",
    "set1.add((6, 24))\n",
    "print(set1)"
   ]
  },
  {
   "cell_type": "markdown",
   "id": "53ff57d5-a5ba-4550-a16c-d552928c3e92",
   "metadata": {},
   "source": [
    "#### 2.Update Python Set :"
   ]
  },
  {
   "cell_type": "markdown",
   "id": "d2c38e19-4d21-4b21-b78c-8d297430e65f",
   "metadata": {},
   "source": [
    "->For the addition of two or more elements, Update() method is used.\n",
    "\n",
    "->The update() method accepts lists, strings, tuples as well as other Python hash set as its arguments. \n",
    "\n",
    "-> In all of these cases, duplicate elements are avoided."
   ]
  },
  {
   "cell_type": "code",
   "execution_count": 36,
   "id": "334c4ac1-dc6c-4588-bd48-03fc75bbd9ae",
   "metadata": {},
   "outputs": [
    {
     "name": "stdout",
     "output_type": "stream",
     "text": [
      "Set after Addition of elements using Update: \n",
      "{4, 5, 6, 7, 10, 11}\n"
     ]
    }
   ],
   "source": [
    "#example for update\n",
    "# Addition of elements to the Set\n",
    "# using Update function\n",
    "set1 = set([4, 5, 6, 7])\n",
    "set1.update([10, 11])\n",
    "print(\"Set after Addition of elements using Update: \")\n",
    "print(set1)"
   ]
  },
  {
   "cell_type": "markdown",
   "id": "326d5904-4961-4e57-9a95-45e2fd9cffce",
   "metadata": {},
   "source": [
    "#### 3. Remove or discard :"
   ]
  },
  {
   "cell_type": "markdown",
   "id": "5520b8a3-99c8-4840-9155-6aa1bf622b7d",
   "metadata": {},
   "source": [
    "-> We use the remove or discard method to remove the specified element from a set.\n",
    "\n",
    "-> Elements can be removed from the Sets in Python by using the built-in remove() function but a KeyError arises if the element doesn’t exist in the hashset Python.\n",
    "\n",
    "-> To remove elements from a set without KeyError, use discard(), if the element doesn’t exist in the set, it remains unchanged."
   ]
  },
  {
   "cell_type": "code",
   "execution_count": 42,
   "id": "faac4d6e-8066-4941-876c-c9411782e741",
   "metadata": {},
   "outputs": [
    {
     "name": "stdout",
     "output_type": "stream",
     "text": [
      "Set after remove() {'Java', 'Python'}\n"
     ]
    }
   ],
   "source": [
    "#example for remove or discard\n",
    "language = {'Swift','Java','Python'}\n",
    "removevalue = language.discard('Swift')\n",
    "print('Set after remove()',language)"
   ]
  },
  {
   "cell_type": "markdown",
   "id": "35dce818-c7c4-49f0-926a-c8eba8f97e37",
   "metadata": {},
   "source": [
    "#### 4. Clear :"
   ]
  },
  {
   "cell_type": "markdown",
   "id": "6d8c9247-30d6-46d6-8ce6-cc3c4a0f42d7",
   "metadata": {},
   "source": [
    "-> To remove all the elements from the set, clear() function is used. set"
   ]
  },
  {
   "cell_type": "code",
   "execution_count": 47,
   "id": "1dad7982-91ff-4a71-bb6a-14ce15ec0ead",
   "metadata": {},
   "outputs": [
    {
     "name": "stdout",
     "output_type": "stream",
     "text": [
      "Initial set: \n",
      "{1, 2, 3, 4, 5}\n",
      "Set after clearing all the elements: \n",
      "set()\n"
     ]
    }
   ],
   "source": [
    "#example for clear()\n",
    "set1 = set([1,2,3,4,5])\n",
    "print(\"Initial set: \")\n",
    "print(set1)\n",
    "\n",
    "\n",
    "# Removing all the elements from \n",
    "# Set using clear() method\n",
    "set1.clear()\n",
    "print(\"Set after clearing all the elements: \")\n",
    "print(set1)"
   ]
  },
  {
   "cell_type": "markdown",
   "id": "ca2570f4-f87e-46f5-805b-a155bb3856b1",
   "metadata": {},
   "source": [
    "#### 5. pop :"
   ]
  },
  {
   "cell_type": "markdown",
   "id": "d5f4b01d-a464-4772-8dc2-14d1b363e5cb",
   "metadata": {},
   "source": [
    "-> Pop() function can also be used to remove and return an element from the set, but it removes only the last element of the set. \r\n",
    "\r\n",
    "Note: If the set is unordered then there’s no such way to determine which element is popped by using the pop() function. "
   ]
  },
  {
   "cell_type": "code",
   "execution_count": 50,
   "id": "6cbb4fee-4d1b-48b1-b769-6dac6a5968bf",
   "metadata": {},
   "outputs": [
    {
     "name": "stdout",
     "output_type": "stream",
     "text": [
      "Initial Set: \n",
      "{1, 2, 3, 4, 5, 6, 7, 8, 9, 10}\n",
      "Set after popping an element: \n",
      "{2, 3, 4, 5, 6, 7, 8, 9, 10}\n"
     ]
    }
   ],
   "source": [
    "#example for pop\n",
    "# Deletion of elements in a Set\n",
    "\n",
    "# Creating a Set\n",
    "set1 = set([1, 2, 3, 4, 5, 6,\n",
    "            7, 8, 9, 10])\n",
    "print(\"Initial Set: \")\n",
    "print(set1)\n",
    "\n",
    "# Removing element from the\n",
    "# Set using the pop() method\n",
    "set1.pop()\n",
    "print(\"Set after popping an element: \")\n",
    "print(set1)"
   ]
  },
  {
   "cell_type": "markdown",
   "id": "0ab5e801-61a1-4bbf-b19b-a8cfae69780a",
   "metadata": {},
   "source": [
    "#### 6. copy :"
   ]
  },
  {
   "cell_type": "markdown",
   "id": "fada1f6c-ac5f-43da-b42c-4b6ff248f19d",
   "metadata": {},
   "source": [
    "The copy() method copies the set."
   ]
  },
  {
   "cell_type": "code",
   "execution_count": 134,
   "id": "eebf2462-21ba-4fbc-a92c-d43cb9928b28",
   "metadata": {},
   "outputs": [
    {
     "name": "stdout",
     "output_type": "stream",
     "text": [
      "{'cherry', 'banana', 'apple'}\n"
     ]
    }
   ],
   "source": [
    "#example for copy()\n",
    "\n",
    "fruits = {\"apple\", \"banana\", \"cherry\"}\n",
    "\n",
    "x = fruits.copy()\n",
    "\n",
    "print(x)"
   ]
  },
  {
   "cell_type": "markdown",
   "id": "2f344642-1f7a-4c18-a341-5f695a18f504",
   "metadata": {},
   "source": [
    "## SET OPERATIONS :"
   ]
  },
  {
   "cell_type": "markdown",
   "id": "d5e9a95f-22ad-4364-9062-018f6e437c0c",
   "metadata": {},
   "source": [
    "#### 1. Union of two sets :"
   ]
  },
  {
   "cell_type": "markdown",
   "id": "12512586-a41f-4f67-8836-1dfbb68a3afa",
   "metadata": {},
   "source": [
    "-> The union of two sets a and b include all the elements of set a and b.\n",
    "\n",
    "-> Combines the elements from two sets removing the duplicates"
   ]
  },
  {
   "cell_type": "code",
   "execution_count": 57,
   "id": "fa4fcec2-cd97-4907-a955-638ae9a88f3e",
   "metadata": {},
   "outputs": [
    {
     "name": "stdout",
     "output_type": "stream",
     "text": [
      "Union using |: {0, 1, 2, 3, 4, 5}\n",
      "Union using union(): {0, 1, 2, 3, 4, 5}\n"
     ]
    }
   ],
   "source": [
    "#example for union \n",
    "# first set\n",
    "A = {1, 3, 5}\n",
    "\n",
    "# second set\n",
    "B = {0, 2, 4}\n",
    "\n",
    "# perform union operation using |\n",
    "print('Union using |:', A | B)\n",
    "\n",
    "# perform union operation using union()\n",
    "print('Union using union():', A.union(B))"
   ]
  },
  {
   "attachments": {},
   "cell_type": "markdown",
   "id": "e0759a61-28a0-434a-a45b-1928b16988d5",
   "metadata": {},
   "source": []
  },
  {
   "cell_type": "markdown",
   "id": "918b2df3-3d42-4ce2-b741-407c75fbfb14",
   "metadata": {},
   "source": [
    "#### 2. Set Intersection :"
   ]
  },
  {
   "cell_type": "markdown",
   "id": "43c909d2-960a-420a-9ea8-4902b568242b",
   "metadata": {},
   "source": [
    "-> The intersection of two set A and B include the common between set A and B returns common elements between two sets"
   ]
  },
  {
   "cell_type": "code",
   "execution_count": 60,
   "id": "41729399-37e1-4e3b-9e4a-033f78767a4a",
   "metadata": {},
   "outputs": [
    {
     "name": "stdout",
     "output_type": "stream",
     "text": [
      "Intersection using &: {1, 3}\n",
      "Intersection using intersection(): {1, 3}\n"
     ]
    }
   ],
   "source": [
    "#example for intersection\n",
    "# first set\n",
    "A = {1, 3, 5}\n",
    "\n",
    "# second set\n",
    "B = {1, 2, 3}\n",
    "\n",
    "# perform intersection operation using &\n",
    "print('Intersection using &:', A & B)\n",
    "\n",
    "# perform intersection operation using intersection()\n",
    "print('Intersection using intersection():', A.intersection(B)) "
   ]
  },
  {
   "cell_type": "markdown",
   "id": "3ba90ef1-d49a-4e4f-b05b-3f13f8a35b48",
   "metadata": {},
   "source": [
    "#### 3. Difference :"
   ]
  },
  {
   "cell_type": "markdown",
   "id": "fee70c61-4f1a-4ec1-ba50-c7e826dafbec",
   "metadata": {},
   "source": [
    "-> The difference between two sets A and B include elements of set A that are not present on set B.\n",
    "\n",
    "-> We use the - operator or the difference() method to perform the difference between two sets. \r\n"
   ]
  },
  {
   "cell_type": "code",
   "execution_count": 63,
   "id": "789ad547-1c8a-4b96-9e30-e632e4dd466f",
   "metadata": {},
   "outputs": [
    {
     "name": "stdout",
     "output_type": "stream",
     "text": [
      "Difference using &: {3, 5}\n",
      "Difference using difference(): {3, 5}\n"
     ]
    }
   ],
   "source": [
    "#example for difference\n",
    "# first set\n",
    "A = {2, 3, 5}\n",
    "\n",
    "# second set\n",
    "B = {1, 2, 6}\n",
    "\n",
    "# perform difference operation using &\n",
    "print('Difference using &:', A - B)\n",
    "\n",
    "# perform difference operation using difference()\n",
    "print('Difference using difference():', A.difference(B))"
   ]
  },
  {
   "cell_type": "markdown",
   "id": "f3f6edf2-ca13-4957-9f0c-af704690ffa2",
   "metadata": {},
   "source": [
    "#### 4. Symmetric Difference :"
   ]
  },
  {
   "cell_type": "markdown",
   "id": "5ef11dd2-0117-4f4d-8865-f092faa5373e",
   "metadata": {},
   "source": [
    "-> The symmetric difference between two sets A and B includes all elements of A and B without the common elements.\n",
    "\n",
    "-> In Python, we use the ^ operator or the symmetric_difference() method to perform symmetric differences between two sets."
   ]
  },
  {
   "cell_type": "code",
   "execution_count": 85,
   "id": "557bb279-9c43-45df-80b0-63e62b42f8be",
   "metadata": {},
   "outputs": [
    {
     "name": "stdout",
     "output_type": "stream",
     "text": [
      "using ^: {1, 3, 5, 6}\n",
      "using symmetric_difference(): {1, 3, 5, 6}\n"
     ]
    }
   ],
   "source": [
    "#example for Symmetric Difference\n",
    "# first set\n",
    "A = {2, 3, 5}\n",
    "\n",
    "# second set\n",
    "B = {1, 2, 6}\n",
    "\n",
    "# perform difference operation using &\n",
    "print('using ^:', A ^ B)\n",
    "\n",
    "# using symmetric_difference()\n",
    "print('using symmetric_difference():', A.symmetric_difference(B)) "
   ]
  },
  {
   "cell_type": "markdown",
   "id": "c3aa8631-dcc0-434c-924b-98573349b510",
   "metadata": {},
   "source": [
    "#### 5. Disjoint :"
   ]
  },
  {
   "cell_type": "markdown",
   "id": "95da1229-1650-4fe0-a6f3-6f8138fe99b8",
   "metadata": {},
   "source": [
    "Returns True if two sets have a null intersection"
   ]
  },
  {
   "cell_type": "code",
   "execution_count": 116,
   "id": "ae8d6570-71af-4814-b5cc-886a9b1be52d",
   "metadata": {},
   "outputs": [
    {
     "name": "stdout",
     "output_type": "stream",
     "text": [
      "True\n"
     ]
    }
   ],
   "source": [
    "x = {1,2,3,4,5}\n",
    "y = {6,7,8,9,10}\n",
    "\n",
    "print(x.isdisjoint(y))"
   ]
  },
  {
   "cell_type": "markdown",
   "id": "21c605f4-261d-4a05-a1d8-906f94962707",
   "metadata": {},
   "source": [
    "#### 6. issubset :"
   ]
  },
  {
   "cell_type": "markdown",
   "id": "956cb772-2a7f-49d4-895b-7262908492fe",
   "metadata": {},
   "source": [
    "Returns True if another set contains this set"
   ]
  },
  {
   "cell_type": "code",
   "execution_count": 119,
   "id": "89c0de7c-9c4e-4ca0-b3ca-332d4e80b930",
   "metadata": {},
   "outputs": [
    {
     "name": "stdout",
     "output_type": "stream",
     "text": [
      "True\n"
     ]
    }
   ],
   "source": [
    "#example for issubset\n",
    "\n",
    "x = {\"a\", \"b\", \"c\"}\n",
    "y = {\"f\", \"e\", \"d\", \"c\", \"b\", \"a\"}\n",
    "\n",
    "z = x.issubset(y)\n",
    "\n",
    "print(z)"
   ]
  },
  {
   "cell_type": "markdown",
   "id": "bff597cc-b5c8-4795-9862-0489da7ddc2f",
   "metadata": {},
   "source": [
    "#### 7. issuperset :"
   ]
  },
  {
   "cell_type": "markdown",
   "id": "54a08313-1110-4648-a170-cf2e284b46cb",
   "metadata": {},
   "source": [
    "Returns True if this set contains another set"
   ]
  },
  {
   "cell_type": "code",
   "execution_count": 122,
   "id": "efad4ca8-dd77-4da6-83ae-05592900ceb6",
   "metadata": {},
   "outputs": [
    {
     "name": "stdout",
     "output_type": "stream",
     "text": [
      "True\n"
     ]
    }
   ],
   "source": [
    "#example for issuperset()\n",
    "\n",
    "a = {\"f\", \"e\", \"d\", \"c\", \"b\", \"a\"}\n",
    "c = {\"a\", \"b\", \"c\"}\n",
    "\n",
    "z = a.issuperset(c)\n",
    "\n",
    "print(z)"
   ]
  },
  {
   "cell_type": "markdown",
   "id": "c4a5d025-249a-4a0f-bf3c-d5275d5dd3bd",
   "metadata": {},
   "source": [
    "#### 8. difference_update :"
   ]
  },
  {
   "cell_type": "markdown",
   "id": "bbf71213-7618-4dd7-86d2-02bd5ceb201d",
   "metadata": {},
   "source": [
    "Removes all elements of another set from this set"
   ]
  },
  {
   "cell_type": "code",
   "execution_count": 125,
   "id": "eb2d6338-dc50-41ff-a667-fa50e06fe417",
   "metadata": {},
   "outputs": [
    {
     "name": "stdout",
     "output_type": "stream",
     "text": [
      "{'cherry', 'banana'}\n"
     ]
    }
   ],
   "source": [
    "#example for difference_update()\n",
    "\n",
    "x = {\"apple\", \"banana\", \"cherry\"}\n",
    "y = {\"google\", \"microsoft\", \"apple\"}\n",
    "\n",
    "x.difference_update(y)\n",
    "\n",
    "print(x)"
   ]
  },
  {
   "cell_type": "markdown",
   "id": "67fb75d4-7bc8-45c5-96b1-f45e32988bb5",
   "metadata": {},
   "source": [
    "#### 9. intersection_update :"
   ]
  },
  {
   "cell_type": "markdown",
   "id": "ea78d434-0c79-4506-92bf-c23d4aefb9c9",
   "metadata": {},
   "source": [
    "Updates the set with the intersection of itself and another"
   ]
  },
  {
   "cell_type": "code",
   "execution_count": 128,
   "id": "125b8ec7-82f5-49a9-a654-c370d1b0a1d6",
   "metadata": {},
   "outputs": [
    {
     "name": "stdout",
     "output_type": "stream",
     "text": [
      "{'apple'}\n"
     ]
    }
   ],
   "source": [
    "#example for intersection_update()\n",
    "\n",
    "b = {\"apple\", \"banana\", \"cherry\"}\n",
    "d = {\"google\", \"microsoft\", \"apple\"}\n",
    "\n",
    "b.intersection_update(d)\n",
    "\n",
    "print(b)"
   ]
  },
  {
   "cell_type": "markdown",
   "id": "155827a3-0547-4936-b514-b802aa2a5f77",
   "metadata": {},
   "source": [
    "#### 10. symmetric_difference_update :"
   ]
  },
  {
   "cell_type": "markdown",
   "id": "2ee7ee15-1dc2-4a8f-a295-784cfa6dc548",
   "metadata": {},
   "source": [
    "Updates a set with the symmetric difference of itself and another"
   ]
  },
  {
   "cell_type": "code",
   "execution_count": 131,
   "id": "af3e8e4b-6599-4d0c-b247-267e230d18f2",
   "metadata": {},
   "outputs": [
    {
     "name": "stdout",
     "output_type": "stream",
     "text": [
      "{'microsoft', 'cherry', 'banana', 'google'}\n"
     ]
    }
   ],
   "source": [
    "#example for symmetric_difference_update()\n",
    "\n",
    "x = {\"apple\", \"banana\", \"cherry\"}\n",
    "y = {\"google\", \"microsoft\", \"apple\"}\n",
    "\n",
    "x.symmetric_difference_update(y)\n",
    "\n",
    "print(x)"
   ]
  },
  {
   "cell_type": "code",
   "execution_count": null,
   "id": "35276227-3b6e-4094-8fc9-c367d5d47c88",
   "metadata": {},
   "outputs": [],
   "source": []
  }
 ],
 "metadata": {
  "kernelspec": {
   "display_name": "Python 3 (ipykernel)",
   "language": "python",
   "name": "python3"
  },
  "language_info": {
   "codemirror_mode": {
    "name": "ipython",
    "version": 3
   },
   "file_extension": ".py",
   "mimetype": "text/x-python",
   "name": "python",
   "nbconvert_exporter": "python",
   "pygments_lexer": "ipython3",
   "version": "3.12.4"
  }
 },
 "nbformat": 4,
 "nbformat_minor": 5
}
