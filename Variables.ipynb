{
 "cells": [
  {
   "cell_type": "markdown",
   "id": "7aa22a0a-cf98-4e0d-9b29-53ecba47eb0f",
   "metadata": {},
   "source": [
    "Python Variables : \n",
    "          Python Variable is containers that store values. Python is not “statically typed”. We do not need to declare variables before using them or declare their type. A variable is created the moment we first assign a value to it. A Python variable is a name given to a memory location. It is the basic unit of storage in a program. \n",
    "\n",
    " Rules Of Variables :\n",
    "        . A Python variable name must start with a letter or the underscore character.\r",
    "        . A Python variable name cannot start with a number.        . \r",
    "        . \n",
    "A Python variable name can only contain alpha-numeric characters and underscores (A-z, 0-9, and _ )       .        . \r\n",
    "Variable in Python names are case-sensitive (name, Name, and NAME are three different variables      )        . .\r\n",
    "The reserved words(keywords) in Python cannot be used to name the variable in Python."
   ]
  },
  {
   "cell_type": "code",
   "execution_count": 3,
   "id": "04f53eea-8ac1-44e0-96b8-e10c2fd9a640",
   "metadata": {},
   "outputs": [
    {
     "name": "stdout",
     "output_type": "stream",
     "text": [
      "Sandeep\n",
      "Apple\n",
      "Shiva\n",
      "70.8\n",
      "Saleem\n",
      "David\n",
      "{2, 3, 4}\n",
      "['AP', 'TS', 'BBS']\n",
      "100\n",
      "Sandeep\n",
      "True\n",
      "['Apple', 'Mango', 'Jackfruit']\n",
      "False\n",
      "{'City', 'B.Tech', 'Saleem', 'education'}\n",
      "{'python', 'SQL', 'JAVA'}\n"
     ]
    }
   ],
   "source": [
    "#Vaild variables\n",
    "myvar = \"Sandeep\"\n",
    "my_var = \"Apple\"\n",
    "_my_var = \"Shiva\"\n",
    "weight = 70.80\n",
    "MY_VAR = \"Saleem\"\n",
    "myvar2 = \"David\"\n",
    "Set_234 = {2,3,4}\n",
    "List_states = [\"AP\",\"TS\",\"BBS\"]\n",
    "a = 100\n",
    "name = \"Sandeep\"\n",
    "is_student = True\n",
    "fruits = [\"Apple\",\"Mango\",\"Jackfruit\"]\n",
    "Shiva_bool = False\n",
    "personal_info = {\"Saleem\",\"education\",\"B.Tech\",\"City\"}\n",
    "Sandeepsandy = { \"python\",\"SQL\",\"JAVA\"}\n",
    "\n",
    "print(myvar)\n",
    "print(my_var)\n",
    "print(_my_var)\n",
    "print(weight)\n",
    "print(MY_VAR)\n",
    "print(myvar2)\n",
    "print(Set_234)\n",
    "print(List_states)\n",
    "print(a)\n",
    "print(name)\n",
    "print(is_student)\n",
    "print(fruits)\n",
    "print(Shiva_bool)\n",
    "print(personal_info)\n",
    "print(Sandeepsandy)"
   ]
  },
  {
   "cell_type": "code",
   "execution_count": 5,
   "id": "86a1baaa-d900-4fbc-a2ea-0e927661737f",
   "metadata": {},
   "outputs": [
    {
     "ename": "SyntaxError",
     "evalue": "invalid decimal literal (3185610798.py, line 3)",
     "output_type": "error",
     "traceback": [
      "\u001b[1;36m  Cell \u001b[1;32mIn[5], line 3\u001b[1;36m\u001b[0m\n\u001b[1;33m    2myvar = \"Sandeep\"\u001b[0m\n\u001b[1;37m    ^\u001b[0m\n\u001b[1;31mSyntaxError\u001b[0m\u001b[1;31m:\u001b[0m invalid decimal literal\n"
     ]
    }
   ],
   "source": [
    "#Invalid variables\n",
    "#Vaild variables\n",
    "2myvar = \"Sandeep\"\n",
    "@my_var = \"Apple\"\n",
    "_my_var 1 = \"Shiva\"\n",
    "weight 0 = 70.80\n",
    "#MY_VAR = \"Saleem\"\n",
    "*myvar2 = \"David\"\n",
    "2Set_234 = {2,3,4}\n",
    "%List_states = [\"AP\",\"TS\",\"BBS\"]\n",
    "+a = 100\n",
    "=name = \"Sandeep\"\n",
    "&is_student = True\n",
    "-fruits = [\"Apple\",\"Mango\",\"Jackfruit\"]\n",
    ",Shiva_bool = False\n",
    "/personal_info = {\"Saleem\",\"education\",\"B.Tech\",\"City\"}\n",
    "8Sandeepsandy = { \"python\",\"SQL\",\"JAVA\"}\n",
    "\n",
    "print(2myvar)\n",
    "print(@my_var)\n",
    "print(_my_var 1)\n",
    "print(weight 0)\n",
    "print(#MY_VAR)\n",
    "print(*myvar2)\n",
    "print(2Set_234)\n",
    "print(%List_states)\n",
    "print(+a)\n",
    "print(=name)\n",
    "print(&is_student)\n",
    "print(-fruits)\n",
    "print(,Shiva_bool)\n",
    "print(/personal_info)\n",
    "print(8Sandeepsandy)\n"
   ]
  },
  {
   "cell_type": "markdown",
   "id": "dad87a16-39ed-43b7-a817-582f3b24e6cc",
   "metadata": {},
   "source": [
    "Multiple Variables : \n",
    "           Python allows you to assign values to multiple variables in one line\n",
    " Examples :          "
   ]
  },
  {
   "cell_type": "code",
   "execution_count": 7,
   "id": "2bb7c7c5-5832-40eb-91c1-6aa1bae024c1",
   "metadata": {},
   "outputs": [
    {
     "name": "stdout",
     "output_type": "stream",
     "text": [
      "Orange\n",
      "Strawberry\n",
      "Cherry\n"
     ]
    }
   ],
   "source": [
    "x, y, z = \"Orange\", \"Strawberry\", \"Cherry\"\n",
    "print(x)\n",
    "print(y)\n",
    "print(z)"
   ]
  },
  {
   "cell_type": "markdown",
   "id": "97d6531b-8206-4d5a-be86-43e2829bb2f6",
   "metadata": {},
   "source": [
    "One value in multiple variables example"
   ]
  },
  {
   "cell_type": "code",
   "execution_count": 9,
   "id": "da9fe032-1aad-4230-a02c-4e4cb52e4c1f",
   "metadata": {},
   "outputs": [
    {
     "name": "stdout",
     "output_type": "stream",
     "text": [
      "Strawberry\n",
      "Strawberry\n",
      "Strawberry\n"
     ]
    }
   ],
   "source": [
    "x = y = z = \"Strawberry\"\n",
    "print(x)\n",
    "print(y)\n",
    "print(z)"
   ]
  },
  {
   "cell_type": "markdown",
   "id": "b1922fd5-0667-4b59-b5a5-e3fdf5a7b950",
   "metadata": {},
   "source": [
    "\n",
    "Python Type Function :\n",
    "       The type() function returns the type of the specified object\n",
    "\n",
    " Example :      "
   ]
  },
  {
   "cell_type": "code",
   "execution_count": 16,
   "id": "570d2c80-9ce6-4e12-becd-5802dda5e942",
   "metadata": {},
   "outputs": [
    {
     "name": "stdout",
     "output_type": "stream",
     "text": [
      "<class 'int'>\n"
     ]
    }
   ],
   "source": [
    "x = 10\n",
    "print(type(x))"
   ]
  },
  {
   "cell_type": "code",
   "execution_count": 18,
   "id": "74af8fbe-bebc-4a04-88dc-ed3465d46d3e",
   "metadata": {},
   "outputs": [
    {
     "name": "stdout",
     "output_type": "stream",
     "text": [
      "<class 'tuple'>\n",
      "<class 'str'>\n",
      "<class 'int'>\n"
     ]
    }
   ],
   "source": [
    "a = ('apple', 'banana', 'cherry')\n",
    "b = \"Hello World\"\n",
    "c = 33\n",
    "\n",
    "x = type(a)\n",
    "y = type(b)\n",
    "z = type(c)\n",
    "\n",
    "print(x)\n",
    "print(y)\n",
    "print(z)\n"
   ]
  },
  {
   "cell_type": "code",
   "execution_count": null,
   "id": "0f539b41-e819-437e-8960-96ff97b3f995",
   "metadata": {},
   "outputs": [],
   "source": []
  }
 ],
 "metadata": {
  "kernelspec": {
   "display_name": "Python 3 (ipykernel)",
   "language": "python",
   "name": "python3"
  },
  "language_info": {
   "codemirror_mode": {
    "name": "ipython",
    "version": 3
   },
   "file_extension": ".py",
   "mimetype": "text/x-python",
   "name": "python",
   "nbconvert_exporter": "python",
   "pygments_lexer": "ipython3",
   "version": "3.12.4"
  }
 },
 "nbformat": 4,
 "nbformat_minor": 5
}
