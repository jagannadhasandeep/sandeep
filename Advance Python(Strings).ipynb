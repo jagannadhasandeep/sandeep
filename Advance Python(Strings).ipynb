{
 "cells": [
  {
   "cell_type": "markdown",
   "id": "33cabcc5-deeb-47e2-a82c-c2b56de8f5e8",
   "metadata": {},
   "source": [
    "## PYTHON STRINGS :"
   ]
  },
  {
   "cell_type": "markdown",
   "id": "06f0d6d5-7cf1-47bf-abbc-2572961302b5",
   "metadata": {},
   "source": [
    "A String is a data structure in Python Programming that represents a sequence of characters. It is an immutable data type, meaning that once you have created a string, you cannot change it. Python String are used widely in many different applications, such as storing and manipulating text data, representing names, addresses, and other types of data that can be represented as text."
   ]
  },
  {
   "cell_type": "code",
   "execution_count": 15,
   "id": "81c3693b-e343-4c19-86a9-5d095c3576ce",
   "metadata": {},
   "outputs": [],
   "source": [
    "\n",
    "#create string using double quotes\n",
    "str1=\"python\"\n",
    "\n",
    "#create string using single quotes\n",
    "str2='python'"
   ]
  },
  {
   "cell_type": "code",
   "execution_count": 17,
   "id": "23b404c2-b2aa-428d-b0a9-e8e3fb8c83f6",
   "metadata": {},
   "outputs": [
    {
     "name": "stdout",
     "output_type": "stream",
     "text": [
      "This is a multi-line string\n"
     ]
    }
   ],
   "source": [
    "#if need any multi - line strings using \"\"\"\n",
    "str3= \"\"\"This is a multi-line string\"\"\"\n",
    "print(str3)"
   ]
  },
  {
   "cell_type": "code",
   "execution_count": 19,
   "id": "09946499-c089-4883-a366-2425c6605eeb",
   "metadata": {},
   "outputs": [
    {
     "name": "stdout",
     "output_type": "stream",
     "text": [
      "<class 'str'>\n",
      "<class 'str'>\n",
      "<class 'str'>\n"
     ]
    }
   ],
   "source": [
    "print(type(str1))\n",
    "print(type(str2))\n",
    "print(type(str3))"
   ]
  },
  {
   "cell_type": "markdown",
   "id": "5436e159-25c1-4e66-888f-b6cd3ff5367a",
   "metadata": {},
   "source": [
    "## STRING OPERATORS :"
   ]
  },
  {
   "cell_type": "code",
   "execution_count": 22,
   "id": "3e3fc0d4-825c-4b91-8aa3-b1ea98f27ae4",
   "metadata": {},
   "outputs": [
    {
     "name": "stdout",
     "output_type": "stream",
     "text": [
      "Hihello\n"
     ]
    }
   ],
   "source": [
    "#1 concatenation \n",
    "str1=\"Hi\"\n",
    "str2=\"hello\"\n",
    "result=str1+str2\n",
    "print(result)"
   ]
  },
  {
   "cell_type": "code",
   "execution_count": 24,
   "id": "d4101a93-04c1-41e5-b2d0-3747d029c7bc",
   "metadata": {},
   "outputs": [
    {
     "name": "stdout",
     "output_type": "stream",
     "text": [
      "PythonPythonPythonPythonPythonPythonPythonPython\n"
     ]
    }
   ],
   "source": [
    "#2 Repetition\n",
    "str1 =\"Python\"\n",
    "result=str1*8\n",
    "print(result)"
   ]
  },
  {
   "cell_type": "code",
   "execution_count": 28,
   "id": "c9c43b36-9de9-45f8-9f62-16dfbe8d0166",
   "metadata": {},
   "outputs": [
    {
     "name": "stdout",
     "output_type": "stream",
     "text": [
      "o Viza\n"
     ]
    }
   ],
   "source": [
    "#3 Slicing\n",
    "my_string=\"Hello Vizag\"\n",
    "print(my_string[4:10])"
   ]
  },
  {
   "cell_type": "code",
   "execution_count": 30,
   "id": "8f456fa9-2a36-47a5-8e57-b2023616f1da",
   "metadata": {},
   "outputs": [
    {
     "name": "stdout",
     "output_type": "stream",
     "text": [
      "o\n",
      "e\n"
     ]
    }
   ],
   "source": [
    "#4 Indexing\n",
    "my_string=\"Python is easy and good to learn\"\n",
    "print(my_string[4])\n",
    "print(my_string[-4])"
   ]
  },
  {
   "cell_type": "markdown",
   "id": "8d542e12-b586-4a7f-bc5c-ad5812c1af38",
   "metadata": {},
   "source": [
    "## PYTHON FORMAT STRING :"
   ]
  },
  {
   "cell_type": "code",
   "execution_count": 41,
   "id": "a78b6ca4-5834-4617-8d01-450718e5f3f1",
   "metadata": {},
   "outputs": [
    {
     "name": "stdout",
     "output_type": "stream",
     "text": [
      "My name is Sandeep . I am 22 years old . I am from B.TECH .I have completed my graduation at RAGHU ENGNEERING COLLEGE in CSE-CYBER Engineering and my height is 6.200000 in feet.\n"
     ]
    }
   ],
   "source": [
    "#1. Old style formatting (% operator)\n",
    "    # uses the percentage operator and placholders \n",
    "\n",
    "name=\"Sandeep\"\n",
    "age=22\n",
    "place=\"Visakhapatnam\"\n",
    "education=\"B.TECH\" \n",
    "college=\"RAGHU ENGNEERING COLLEGE\"\n",
    "branch=\"CSE-CYBER\"\n",
    "height=6.2\n",
    "\n",
    "formatted_string=\"My name is %s . I am %d years old . I am from %s .I have completed my graduation at %s in %s Engineering and my height is %f in feet.\" %(name,age,education,college,branch,height)\n",
    "print(formatted_string)"
   ]
  },
  {
   "cell_type": "code",
   "execution_count": 47,
   "id": "ac9b23dc-47ba-4ca6-b63c-c27f06e9c6e3",
   "metadata": {},
   "outputs": [
    {
     "name": "stdout",
     "output_type": "stream",
     "text": [
      "My name is Sandeep. I am 22 years old . I am from B.TECH .I have completed my graduation at RAGHU ENGNEERING COLLEGE in CSE-CYBER Engineering and my height is 6.2 in feet.\n"
     ]
    }
   ],
   "source": [
    "#2. Format method\n",
    "   #uses the format method and placeholders\n",
    "\n",
    "name=\"Sandeep\"\n",
    "age=22\n",
    "place=\"Visakhapatnam\"\n",
    "education=\"B.TECH\" \n",
    "college=\"RAGHU ENGNEERING COLLEGE\"\n",
    "branch=\"CSE-CYBER\"\n",
    "height=6.2\n",
    "\n",
    "formatted_string=\"My name is {}. I am {} years old . I am from {} .I have completed my graduation at {} in {} Engineering and my height is {} in feet.\" .format(name,age,education,college,branch,height)\n",
    "print(formatted_string)"
   ]
  },
  {
   "cell_type": "code",
   "execution_count": 55,
   "id": "61ab867c-490e-45da-9891-c784878a98a3",
   "metadata": {},
   "outputs": [
    {
     "name": "stdout",
     "output_type": "stream",
     "text": [
      " My name is Sandeep. I am 22 years old . I am from Visakhapatnam .I have completed my graduation at RAGHU ENGNEERING COLLEGE in CSE-CYBER Engineering and my height is 6.2 in feet.\n"
     ]
    }
   ],
   "source": [
    "#3. String Interpolation(f-string-python3.6 or later):\n",
    "   # uses f-strings, where expressions iside curly braces{} are evaluated and replaced\n",
    "\n",
    "name=\"Sandeep\"\n",
    "age=22\n",
    "place=\"Visakhapatnam\"\n",
    "education=\"B.TECH\" \n",
    "college=\"RAGHU ENGNEERING COLLEGE\"\n",
    "branch=\"CSE-CYBER\"\n",
    "height=6.2\n",
    "\n",
    "formatted_string= f\" My name is {name}. I am {age} years old . I am from {place} .I have completed my graduation at {college} in {branch} Engineering and my height is {height} in feet.\"\n",
    "print(formatted_string)"
   ]
  },
  {
   "cell_type": "markdown",
   "id": "d62ae135-6299-4003-ae85-d02bf832c567",
   "metadata": {},
   "source": [
    "## STRING METHODS :"
   ]
  },
  {
   "cell_type": "code",
   "execution_count": 60,
   "id": "ab7d14af-e0b6-422b-921a-b1f82a02861b",
   "metadata": {},
   "outputs": [
    {
     "name": "stdout",
     "output_type": "stream",
     "text": [
      "14\n"
     ]
    }
   ],
   "source": [
    "# 1.len()\n",
    "   #returns the length of the string.\n",
    "\n",
    "my_string=\"Python is easy\"\n",
    "length=len(my_string)\n",
    "print(length)"
   ]
  },
  {
   "cell_type": "code",
   "execution_count": 62,
   "id": "4678ed6b-3f84-41ed-b533-11429f1db888",
   "metadata": {},
   "outputs": [
    {
     "name": "stdout",
     "output_type": "stream",
     "text": [
      "HIHELLO\n",
      "hihello\n"
     ]
    }
   ],
   "source": [
    "# 2.lower/upper()\n",
    "   #converts the string to lowercase/uppercase\n",
    "\n",
    "my_string=\"Hihello\"\n",
    "string=\"HIHELLO\"\n",
    "print(my_string.upper())\n",
    "print(string.lower())"
   ]
  },
  {
   "cell_type": "code",
   "execution_count": 64,
   "id": "b61dd443-fdd8-4066-ba8e-76a4b6883160",
   "metadata": {},
   "outputs": [
    {
     "name": "stdout",
     "output_type": "stream",
     "text": [
      "python\n"
     ]
    }
   ],
   "source": [
    "# 3.Strip()\n",
    "  #removes leading and trailing whitespaces.\n",
    "\n",
    "my_string=\" python \"\n",
    "stripped_string=my_string.strip()\n",
    "print(stripped_string)"
   ]
  },
  {
   "cell_type": "code",
   "execution_count": 66,
   "id": "047f179d-b535-4900-837d-db9e388b2f15",
   "metadata": {},
   "outputs": [
    {
     "name": "stdout",
     "output_type": "stream",
     "text": [
      "Hello Vizag\n"
     ]
    }
   ],
   "source": [
    "# 4.replace()\n",
    "   #replaces a substring with another substring\n",
    "\n",
    "my_string=\"Hello world\"\n",
    "new_string=my_string.replace(\"world\",\"Vizag\")\n",
    "print(new_string)"
   ]
  },
  {
   "cell_type": "code",
   "execution_count": 68,
   "id": "8e4e2189-edd0-4b63-bd25-d21a450ff55c",
   "metadata": {},
   "outputs": [
    {
     "name": "stdout",
     "output_type": "stream",
     "text": [
      "['Python', 'is', 'fun', 'and', 'good', 'to', 'learn']\n"
     ]
    }
   ],
   "source": [
    "# 5.split()\n",
    "   #split the string into a list of substring\n",
    "\n",
    "my_string=\"Python is fun and good to learn\"\n",
    "words=my_string.split()\n",
    "print(words)"
   ]
  },
  {
   "cell_type": "code",
   "execution_count": 70,
   "id": "a26d2600-b329-4563-9123-731dd228dbd0",
   "metadata": {},
   "outputs": [
    {
     "name": "stdout",
     "output_type": "stream",
     "text": [
      "Python is fun and good to learn\n"
     ]
    }
   ],
   "source": [
    "# 6.join()\n",
    "   #joins a list of strings into a single string\n",
    "\n",
    "words=['Python', 'is', 'fun', 'and', 'good', 'to', 'learn']\n",
    "my_string=\" \".join(words)\n",
    "print(my_string)"
   ]
  },
  {
   "cell_type": "code",
   "execution_count": 74,
   "id": "0326fac5-8e8f-4824-b3ed-7d5c0ef6fff2",
   "metadata": {},
   "outputs": [
    {
     "name": "stdout",
     "output_type": "stream",
     "text": [
      "Sandeep\n"
     ]
    }
   ],
   "source": [
    "# 7. capitaize()\n",
    "   #converts the first character of the string to a capital letter\n",
    "\n",
    "name=\"sandeep\"\n",
    "capital_name=name.capitalize()\n",
    "print(capital_name)"
   ]
  },
  {
   "cell_type": "code",
   "execution_count": 76,
   "id": "edb2bd47-3220-4d9d-89e7-e7ea238c30e7",
   "metadata": {},
   "outputs": [
    {
     "name": "stdout",
     "output_type": "stream",
     "text": [
      "5\n"
     ]
    }
   ],
   "source": [
    "# 8.find()\n",
    "   #returns the lowest index of the substring  if it is found\n",
    "\n",
    "word= 'find me if you can'\n",
    "print(word.find('me'))"
   ]
  },
  {
   "cell_type": "code",
   "execution_count": 1,
   "id": "c5bbc703-7dee-49b5-9228-160edcdaddb7",
   "metadata": {},
   "outputs": [
    {
     "name": "stdout",
     "output_type": "stream",
     "text": [
      "1\n"
     ]
    }
   ],
   "source": [
    "# 9.index()\n",
    "   #returns the position of the first occurance of a substring in a string \n",
    "\n",
    "string='random'\n",
    "print(string.index('a'))"
   ]
  },
  {
   "cell_type": "code",
   "execution_count": 3,
   "id": "8c00b1f0-43a5-42fd-8279-e3b8954f4776",
   "metadata": {},
   "outputs": [
    {
     "name": "stdout",
     "output_type": "stream",
     "text": [
      "True\n",
      "False\n"
     ]
    }
   ],
   "source": [
    "# 10.islower()\n",
    "  #checks if all characters in the string are lowercase\n",
    "\n",
    "strings=\"apples\"\n",
    "name=\"Arjun\"\n",
    "print(string.islower())\n",
    "print(name.islower())"
   ]
  },
  {
   "cell_type": "code",
   "execution_count": 5,
   "id": "12a5440f-7dae-4c26-9a9b-59e9d174dc13",
   "metadata": {},
   "outputs": [
    {
     "name": "stdout",
     "output_type": "stream",
     "text": [
      "False\n",
      "True\n"
     ]
    }
   ],
   "source": [
    "# 11.isupper()\n",
    "   #checks if all character in the string are uppercase\n",
    "\n",
    "strings=\"Mango\"\n",
    "name=\"SANDEEP\"\n",
    "print(string.isupper())\n",
    "print(name.isupper())"
   ]
  },
  {
   "cell_type": "code",
   "execution_count": 7,
   "id": "9b98fa87-95f5-49fb-a12e-d04bd9784762",
   "metadata": {},
   "outputs": [
    {
     "name": "stdout",
     "output_type": "stream",
     "text": [
      "13\n"
     ]
    }
   ],
   "source": [
    "# 12.rfind()\n",
    "   #right aligns the string according to the width specified\n",
    "\n",
    "word ='find me if you can'\n",
    "print(word.rfind('u'))"
   ]
  },
  {
   "cell_type": "code",
   "execution_count": 9,
   "id": "0d951c72-e56a-4219-b0f0-544a3eafc951",
   "metadata": {},
   "outputs": [
    {
     "name": "stdout",
     "output_type": "stream",
     "text": [
      "['python', 'is', 'fun', 'and', 'good', 'to', 'learn']\n"
     ]
    }
   ],
   "source": [
    "# 13.rsplit()\n",
    "   #split the string from right by the specified seperator\n",
    "\n",
    "my_string=\"python is fun and good to learn\"\n",
    "words=my_string.rsplit()\n",
    "print(words)"
   ]
  },
  {
   "cell_type": "code",
   "execution_count": 13,
   "id": "6a8422be-2e1e-4dd2-9537-fd5af07d6cd4",
   "metadata": {},
   "outputs": [
    {
     "name": "stdout",
     "output_type": "stream",
     "text": [
      "mAnGo\n",
      "MANGO\n",
      "mango\n"
     ]
    }
   ],
   "source": [
    "# 14.swapcase()\n",
    "   #converts all uppercase characters to lowercase and vice versa\n",
    "\n",
    "string=\"MaNgO\"\n",
    "print(string.swapcase())\n",
    "string=\"mango\"\n",
    "print(string.swapcase())\n",
    "string=(\"MANGO\")\n",
    "print(string.swapcase())"
   ]
  },
  {
   "cell_type": "code",
   "execution_count": 17,
   "id": "99a986f6-92b3-4961-85ed-1b1dad15af0f",
   "metadata": {},
   "outputs": [
    {
     "name": "stdout",
     "output_type": "stream",
     "text": [
      "Python Is Good To Learn\n"
     ]
    }
   ],
   "source": [
    "# 15.title()\n",
    "  #converts the string into title case\n",
    "\n",
    "strings=\"python is good to learn\"\n",
    "print(strings.title())"
   ]
  },
  {
   "cell_type": "code",
   "execution_count": 21,
   "id": "5659a75e-34e7-456b-9979-af7416aa17dd",
   "metadata": {},
   "outputs": [
    {
     "name": "stdout",
     "output_type": "stream",
     "text": [
      "000000python is good\n"
     ]
    }
   ],
   "source": [
    "# 16.zfill()\n",
    "   #returns the copy of the string with'0' characters padded to the left side of the string\n",
    "\n",
    "strings = \"python is good\"\n",
    "print(strings.zfill(20))"
   ]
  },
  {
   "cell_type": "code",
   "execution_count": 23,
   "id": "18044ce7-b698-4340-ab21-0552cc5cae16",
   "metadata": {},
   "outputs": [
    {
     "name": "stdout",
     "output_type": "stream",
     "text": [
      "True\n"
     ]
    }
   ],
   "source": [
    "# 17.endswith()\n",
    "   #returns true if a string ends with the given suffix\n",
    "\n",
    "string=\"python is good to learn\"\n",
    "print(string.endswith(\"learn\"))"
   ]
  },
  {
   "cell_type": "code",
   "execution_count": 25,
   "id": "b91d9a46-fbe6-4246-8fc5-c3df89de3440",
   "metadata": {},
   "outputs": [
    {
     "name": "stdout",
     "output_type": "stream",
     "text": [
      "                  python is good                  \n",
      "*******************************************************python is good******************************************************\n"
     ]
    }
   ],
   "source": [
    "# 18.center()\n",
    "   #pad the string with the specified character\n",
    "\n",
    "string=\"python is good\"\n",
    "print(string.center(50))\n",
    "print(string.center(123,'*'))"
   ]
  },
  {
   "cell_type": "code",
   "execution_count": 27,
   "id": "f218b5f8-d72a-4aa0-a48e-d8b2288a1493",
   "metadata": {},
   "outputs": [
    {
     "name": "stdout",
     "output_type": "stream",
     "text": [
      "python is good\n"
     ]
    }
   ],
   "source": [
    "# 19.casefold()\n",
    "  #implements caseless string matching\n",
    "\n",
    "string=\"PYTHON Is GOod\"\n",
    "print(string.casefold())"
   ]
  },
  {
   "cell_type": "code",
   "execution_count": 31,
   "id": "dd31597f-aa8c-40b8-8001-85e71030b70b",
   "metadata": {},
   "outputs": [
    {
     "name": "stdout",
     "output_type": "stream",
     "text": [
      "1\n"
     ]
    }
   ],
   "source": [
    "# 20.count()\n",
    "   #returns the number of occurance of a substring in the strin\n",
    "\n",
    "string=\"PYTHON Is GOod\"\n",
    "print(string.count(\"o\"))"
   ]
  },
  {
   "cell_type": "code",
   "execution_count": 35,
   "id": "b515666f-44ba-4ae0-8356-1cd38f1692d1",
   "metadata": {},
   "outputs": [
    {
     "name": "stdout",
     "output_type": "stream",
     "text": [
      "python  is      good\n"
     ]
    }
   ],
   "source": [
    "# 21.expandtabs()\n",
    "   #specifies the amount of space to be substituted with the \"\\t\" symbol in the string\n",
    "\n",
    "string=\"python\\tis\\tgood\"\n",
    "print(string.expandtabs())"
   ]
  },
  {
   "cell_type": "code",
   "execution_count": 37,
   "id": "1add21ef-49f6-4822-92f3-f43db11e382d",
   "metadata": {},
   "outputs": [
    {
     "name": "stdout",
     "output_type": "stream",
     "text": [
      "my name is shiva and i am 24 years old 4 is my lucky number\n"
     ]
    }
   ],
   "source": [
    "# 22.format()\n",
    "   #formats the string for printing it to console\n",
    "\n",
    "name=\"shiva\"\n",
    "age=24\n",
    "number=4\n",
    "message=\"my name is {} and i am {} years old {} is my lucky number\".format(name,age,number)\n",
    "print(message)"
   ]
  },
  {
   "cell_type": "code",
   "execution_count": 39,
   "id": "7dd86941-0f93-49b9-aaa4-1ccd11c94af1",
   "metadata": {},
   "outputs": [
    {
     "name": "stdout",
     "output_type": "stream",
     "text": [
      "Jagannadha's last name is Sandeep\n"
     ]
    }
   ],
   "source": [
    "# 23.formatmap()\n",
    "   #format specified values in a string using a dictionary\n",
    "\n",
    "string={'x':'Jagannadha','y':'Sandeep'}\n",
    "print(\"{x}'s last name is {y}\".format_map(string))"
   ]
  },
  {
   "cell_type": "code",
   "execution_count": 41,
   "id": "b507b810-7b7a-4a42-b178-b8a451011dca",
   "metadata": {},
   "outputs": [
    {
     "name": "stdout",
     "output_type": "stream",
     "text": [
      "True\n"
     ]
    }
   ],
   "source": [
    "# 24.isalnum()\n",
    "   #checks whether all the characters in a given string is alphanumeric or not\n",
    "\n",
    "string=\"Mango143\"\n",
    "print(string.isalnum())"
   ]
  },
  {
   "cell_type": "code",
   "execution_count": 43,
   "id": "0fb2177c-8853-4073-a481-fda0572516af",
   "metadata": {},
   "outputs": [
    {
     "name": "stdout",
     "output_type": "stream",
     "text": [
      "True\n"
     ]
    }
   ],
   "source": [
    "# 25.isalpha()\n",
    "   #returns\"true\" if all characters in the string are alphabets\n",
    "\n",
    "string=\"Mango\"\n",
    "print(string.isalpha())"
   ]
  },
  {
   "cell_type": "code",
   "execution_count": 65,
   "id": "a45030df-976c-4b89-a03f-70d472071c31",
   "metadata": {},
   "outputs": [
    {
     "name": "stdout",
     "output_type": "stream",
     "text": [
      "False\n"
     ]
    }
   ],
   "source": [
    "# 26.isdecimal()\n",
    "   #returns true if all characters in the string are decimal\n",
    "\n",
    "number= \"250\"\n",
    "print(string.isdecimal())"
   ]
  },
  {
   "cell_type": "code",
   "execution_count": 67,
   "id": "d0eac579-930d-4a09-91be-09b66f85b432",
   "metadata": {},
   "outputs": [
    {
     "name": "stdout",
     "output_type": "stream",
     "text": [
      "True\n"
     ]
    }
   ],
   "source": [
    "# 27.isdigit()\n",
    "  #returns trueif at all characters in the string are digits\n",
    "\n",
    "string='1430'\n",
    "print(string.isdigit())"
   ]
  },
  {
   "cell_type": "code",
   "execution_count": 69,
   "id": "280d4e96-06ba-4d89-9205-d23f31e363ab",
   "metadata": {},
   "outputs": [
    {
     "name": "stdout",
     "output_type": "stream",
     "text": [
      "True\n"
     ]
    }
   ],
   "source": [
    "# 29.isnumeric()\n",
    "   #returns true if at all characters in the string are numeric\n",
    "\n",
    "string=\"1234567890\"\n",
    "result=string.isnumeric()\n",
    "print(result)"
   ]
  },
  {
   "cell_type": "code",
   "execution_count": null,
   "id": "8f2de89c-cf1f-41fb-83a8-722817040ee8",
   "metadata": {},
   "outputs": [],
   "source": [
    "# 30.startswith()\n",
    "   #returns true if a "
   ]
  }
 ],
 "metadata": {
  "kernelspec": {
   "display_name": "Python 3 (ipykernel)",
   "language": "python",
   "name": "python3"
  },
  "language_info": {
   "codemirror_mode": {
    "name": "ipython",
    "version": 3
   },
   "file_extension": ".py",
   "mimetype": "text/x-python",
   "name": "python",
   "nbconvert_exporter": "python",
   "pygments_lexer": "ipython3",
   "version": "3.12.4"
  }
 },
 "nbformat": 4,
 "nbformat_minor": 5
}
