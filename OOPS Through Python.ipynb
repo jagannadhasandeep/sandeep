{
 "cells": [
  {
   "cell_type": "markdown",
   "id": "4d909c52-57f3-4bd4-9ca0-abe50b9c50ea",
   "metadata": {},
   "source": [
    "## OOPS THROUGH PYTHON :"
   ]
  },
  {
   "cell_type": "markdown",
   "id": "ca37e541-e8f1-44ad-92ba-22ffc417bab3",
   "metadata": {},
   "source": [
    "#### CLASS AND OBJECT :"
   ]
  },
  {
   "cell_type": "markdown",
   "id": "0df38e17-f035-4f03-9b61-565934a949d4",
   "metadata": {},
   "source": [
    "-> A class is a user-defined blueprint or prototype from which objects are created.\n",
    "-> Classes provide a means of bundling data and functionality together.\n",
    "-> Creating a new class creates a new type of object, allowing new instances of that type to be made.\n",
    "-> Each class instance can have attributes attached to it to maintain its state.\n",
    "-> Class instances can also have methods (defined by their class) for modifying their state."
   ]
  },
  {
   "cell_type": "markdown",
   "id": "3cde69f6-890a-4624-ac2f-6319e750caf2",
   "metadata": {},
   "source": [
    "#### SYNTAX :"
   ]
  },
  {
   "cell_type": "code",
   "execution_count": null,
   "id": "db1d2141-1f52-4773-b88b-3c08f47975a4",
   "metadata": {},
   "outputs": [],
   "source": [
    "class ClassName:\n",
    "    # Statement"
   ]
  },
  {
   "cell_type": "markdown",
   "id": "a39818fc-3d23-460a-9042-85d539371aec",
   "metadata": {},
   "source": [
    "#### CREATING A CLASS :"
   ]
  },
  {
   "cell_type": "markdown",
   "id": "c4f73ac7-d321-4e47-94a3-7b8687ff35ef",
   "metadata": {},
   "source": [
    "Here, the class keyword indicates that you are creating a class followed by the name of the class (Dog in this case)."
   ]
  },
  {
   "cell_type": "code",
   "execution_count": 5,
   "id": "ff0f7ff9-9f2f-43d9-8005-1d18d84169fe",
   "metadata": {},
   "outputs": [],
   "source": [
    "class Dog:\n",
    "    sound = \"bark\""
   ]
  },
  {
   "cell_type": "markdown",
   "id": "faf3ea85-ef83-4670-a986-c7738d4d6276",
   "metadata": {},
   "source": [
    "## PYTHON OBJECT :"
   ]
  },
  {
   "cell_type": "markdown",
   "id": "a5a5fc50-63f6-498f-9872-4fde0994fb48",
   "metadata": {},
   "source": [
    "In Python programming an Object is an instance of a Class. A class is like a blueprint while an instance is a copy of the class with actual values. It’s not an idea anymore, it’s an actual dog, like a dog of breed pug who’s seven years old. You can have many dogs to create many different instances, but without the class as a guide, you would be lost, not knowing what information is required\n",
    "\n",
    "\n",
    "An object consists of:\r\n",
    "\r\n",
    "State: It is represented by the attributes of an object. It also reflects the properties of an object.\r\n",
    "Behavior: It is represented by the methods of an object. It also reflects the response of an object to other objects.\r\n",
    "Identity: It gives a unique name to an object and enables one object to interact with other objects."
   ]
  },
  {
   "cell_type": "markdown",
   "id": "0f0bd4c6-4729-4f0e-b054-999b2260955a",
   "metadata": {},
   "source": [
    "#### SYNTAX :"
   ]
  },
  {
   "cell_type": "code",
   "execution_count": null,
   "id": "1ada1f84-bcce-40f7-b333-afa1462e7f7d",
   "metadata": {},
   "outputs": [],
   "source": [
    "obj = ClassName()\n",
    "print(obj.atrr)"
   ]
  },
  {
   "cell_type": "markdown",
   "id": "17a9bb39-1455-4fde-a5de-eceba30a2ec7",
   "metadata": {},
   "source": [
    "#### EXAMPLES :"
   ]
  },
  {
   "cell_type": "code",
   "execution_count": 10,
   "id": "074edf98-ad64-48ea-918b-e41740e30bea",
   "metadata": {},
   "outputs": [
    {
     "name": "stdout",
     "output_type": "stream",
     "text": [
      "Buddy says woof!\n"
     ]
    }
   ],
   "source": [
    "class Dog:\n",
    "    def __init__(self, name, age):\n",
    "        self.name = name\n",
    "        self.age = age\n",
    "\n",
    "    def bark(self):\n",
    "        print(f\"{self.name} says woof!\")\n",
    "\n",
    "# Create an object of the Dog class\n",
    "dog1 = Dog(\"Buddy\", 3)\n",
    "dog1.bark()  # Output: Buddy says woof!\n"
   ]
  },
  {
   "cell_type": "code",
   "execution_count": 12,
   "id": "693d7f64-7338-4004-b525-60676dc757df",
   "metadata": {},
   "outputs": [
    {
     "name": "stdout",
     "output_type": "stream",
     "text": [
      "Name: Mountain Bike, Gears: 11 \n"
     ]
    }
   ],
   "source": [
    "# define a class\n",
    "class Bike:\n",
    "    name = \"\"\n",
    "    gear = 0\n",
    "\n",
    "# create object of class\n",
    "bike1 = Bike()\n",
    "\n",
    "# access attributes and assign new values\n",
    "bike1.gear = 11\n",
    "bike1.name = \"Mountain Bike\"\n",
    "\n",
    "print(f\"Name: {bike1.name}, Gears: {bike1.gear} \")"
   ]
  },
  {
   "cell_type": "code",
   "execution_count": 14,
   "id": "4be67f37-20d0-4b7a-94bd-2b023c50d60c",
   "metadata": {},
   "outputs": [
    {
     "name": "stdout",
     "output_type": "stream",
     "text": [
      "Employee ID: 1001\n",
      "Employee ID: 1002\n"
     ]
    }
   ],
   "source": [
    "# define a class\n",
    "class Employee:\n",
    "    # define a property\n",
    "    employee_id = 0\n",
    "\n",
    "# create two objects of the Employee class\n",
    "employee1 = Employee()\n",
    "employee2 = Employee()\n",
    "\n",
    "# access property using employee1\n",
    "employee1.employeeID = 1001\n",
    "print(f\"Employee ID: {employee1.employeeID}\")\n",
    "\n",
    "# access properties using employee2\n",
    "employee2.employeeID = 1002\n",
    "print(f\"Employee ID: {employee2.employeeID}\")"
   ]
  },
  {
   "cell_type": "markdown",
   "id": "11133d1b-7cfa-414e-8f4f-1d67bcb15ace",
   "metadata": {},
   "source": [
    "#### SELF PARAMETER :"
   ]
  },
  {
   "cell_type": "markdown",
   "id": "f2bb04af-eaaf-4fda-bbfd-ab4545c41c28",
   "metadata": {},
   "source": [
    "The Self Parameter does not call it to be Self, You can use any other name instead of it.\n",
    "Here we change the self to the word someone and the output will be the same.\n",
    "When we call a method of this object as myobject.method(arg1, arg2), this is automatically converted by Python into MyClass.method(myobject, arg1, arg2)"
   ]
  },
  {
   "cell_type": "markdown",
   "id": "ebe8a198-9c37-42ed-ac72-e9533887d406",
   "metadata": {},
   "source": [
    "#### EXAMPLE :"
   ]
  },
  {
   "cell_type": "code",
   "execution_count": 20,
   "id": "5957edc3-19f7-44a4-811c-47e661cb3763",
   "metadata": {},
   "outputs": [
    {
     "name": "stdout",
     "output_type": "stream",
     "text": [
      "Hello my name is John and I work in Hyderabad.\n"
     ]
    }
   ],
   "source": [
    "class GFG:\n",
    "    def __init__(self, name, company):\n",
    "        self.name = name\n",
    "        self.company = company\n",
    "\n",
    "    def show(self):\n",
    "        print(\"Hello my name is \" + self.name+\" and I\" +\n",
    "              \" work in \"+self.company+\".\")\n",
    "\n",
    "\n",
    "obj = GFG(\"John\", \"Hyderabad\")\n",
    "obj.show()"
   ]
  },
  {
   "cell_type": "markdown",
   "id": "5f45d715-aed5-4b01-bb06-b93d25ad64d0",
   "metadata": {},
   "source": [
    "#### __init__() METHOD :"
   ]
  },
  {
   "cell_type": "markdown",
   "id": "23eb9e5e-0025-45b0-8b3c-5e315bf1e980",
   "metadata": {},
   "source": [
    "-> The __init__ method is similar to constructors in C++ and Java.\n",
    "-> Constructors are used to initializing the object’s state. \n",
    "-> Like methods, a constructor also contains a collection of statements(i.e. instructions) that are executed at the time of Object creation.\n",
    "-> It runs as soon as an object of a class is instantiated. \n",
    "-> The method is useful to do any initialization you want to do with your object."
   ]
  },
  {
   "cell_type": "markdown",
   "id": "3f50bf4f-cbd5-4084-9573-489a34f95b18",
   "metadata": {},
   "source": [
    "#### EXAMPLE :"
   ]
  },
  {
   "cell_type": "code",
   "execution_count": 24,
   "id": "995aabcc-2bcf-4445-960b-ae1970f711f1",
   "metadata": {},
   "outputs": [
    {
     "name": "stdout",
     "output_type": "stream",
     "text": [
      "Hello, my name is Sandeep\n"
     ]
    }
   ],
   "source": [
    "class Person:\n",
    "\n",
    "    # init method or constructor\n",
    "    def __init__(self, name):\n",
    "        self.name = name\n",
    "\n",
    "    # Sample Method\n",
    "    def say_hi(self):\n",
    "        print('Hello, my name is', self.name)\n",
    "\n",
    "\n",
    "p = Person('Sandeep')\n",
    "p.say_hi()"
   ]
  },
  {
   "cell_type": "markdown",
   "id": "08d05607-0736-4be7-8a0c-eabb968968dd",
   "metadata": {},
   "source": [
    "#### str Method :"
   ]
  },
  {
   "cell_type": "markdown",
   "id": "cbd03ade-3d05-4f54-a085-ef386933c34d",
   "metadata": {},
   "source": [
    "-> Python has a particular method called __str__().\n",
    "-> That is used to define how a class object should be represented as a string. \n",
    "-> It is often used to give an object a human-readable textual representation, which is helpful for logging, debugging, or showing users object information. \n",
    "-> When a class object is used to create a string using the built-in functions print() and str(), the __str__() function is automatically used.\n",
    "You can alter how objects of a class are represented in strings by defining the __str__() method."
   ]
  },
  {
   "cell_type": "markdown",
   "id": "4362856f-7851-4949-aef1-4e3ac69e1c38",
   "metadata": {},
   "source": [
    "#### EXAMPLE :"
   ]
  },
  {
   "cell_type": "code",
   "execution_count": 73,
   "id": "8b1e8a48-c011-4f87-9beb-b6b67b130513",
   "metadata": {},
   "outputs": [
    {
     "name": "stdout",
     "output_type": "stream",
     "text": [
      "Hello, my name is Sandeep\n"
     ]
    }
   ],
   "source": [
    "class Person:\n",
    "\n",
    "    # init method or constructor\n",
    "    def __init__(self, name):\n",
    "        self.name = name\n",
    "\n",
    "    # Sample Method\n",
    "    def __str__(self):\n",
    "        return f'Hello, my name is {self.name}'\n",
    "\n",
    "my_obj = Person(\"Sandeep\")\n",
    "print(my_obj)"
   ]
  },
  {
   "cell_type": "markdown",
   "id": "d9373fa0-0aae-4f38-97c6-a4880f5999b5",
   "metadata": {},
   "source": [
    "## PYTHON INHERITANCE :"
   ]
  },
  {
   "cell_type": "markdown",
   "id": "4b8794b6-9f5d-46b4-87dd-39916a5cd61c",
   "metadata": {},
   "source": [
    " It is a mechanism that allows you to create a hierarchy of classes that share a set of properties and methods by deriving a class from another class. Inheritance is the capability of one class to derive or inherit the properties from another class.\n",
    "\n",
    "Parent class is the class being inherited from, also called base class.\r\n",
    "\r\n",
    "Child class is the class that inherits from another class, also called derived class."
   ]
  },
  {
   "cell_type": "markdown",
   "id": "d6dc8647-b0a7-427e-961b-a3aa3ef5e177",
   "metadata": {},
   "source": [
    "#### SYNTAX :"
   ]
  },
  {
   "cell_type": "code",
   "execution_count": null,
   "id": "f213ccca-c27b-44bb-ba9d-4b17b1608dd9",
   "metadata": {},
   "outputs": [],
   "source": [
    "Class BaseClass:\n",
    "    {Body}\n",
    "Class DerivedClass(BaseClass):\n",
    "    {Body}"
   ]
  },
  {
   "cell_type": "markdown",
   "id": "522a3297-4d64-438c-99ce-8bddbd0b1ba4",
   "metadata": {},
   "source": [
    "#### CREATING OF PARENT CLASS :"
   ]
  },
  {
   "cell_type": "markdown",
   "id": "1763d11d-064b-49db-9351-29202340256d",
   "metadata": {},
   "source": [
    "A parent class is a class whose properties are inherited by the child class. Let’s create a parent class called Person which has a Display method to display the person’s information."
   ]
  },
  {
   "cell_type": "code",
   "execution_count": 4,
   "id": "07e56cb7-81ef-44b3-bfaf-3b60b8f13ade",
   "metadata": {},
   "outputs": [
    {
     "name": "stdout",
     "output_type": "stream",
     "text": [
      "Sai 100\n"
     ]
    }
   ],
   "source": [
    "# A Python program to demonstrate inheritance\n",
    "class Person(object):\n",
    "  \n",
    "  # Constructor\n",
    "  def __init__(self, name, id):\n",
    "    self.name = name\n",
    "    self.id = id\n",
    "\n",
    "  # To check if this person is an employee\n",
    "  def Display(self):\n",
    "    print(self.name, self.id)\n",
    "\n",
    "\n",
    "# Driver code\n",
    "emp = Person(\"Sai\", 100) # An Object of Person\n",
    "emp.Display()\n"
   ]
  },
  {
   "cell_type": "markdown",
   "id": "c00edbfa-22de-49b4-a658-cea81927e18c",
   "metadata": {},
   "source": [
    "#### CREATING OF CHILD CLASS :"
   ]
  },
  {
   "cell_type": "markdown",
   "id": "2121c96a-83d8-45c5-bba7-a3830bf542b3",
   "metadata": {},
   "source": [
    "A child class is a class that drives the properties from its parent class. Here Emp is another class that is going to inherit the properties of the Person class(base class)."
   ]
  },
  {
   "cell_type": "code",
   "execution_count": 9,
   "id": "f65c3b9d-db84-439a-b69f-2bf00e286bcc",
   "metadata": {},
   "outputs": [
    {
     "name": "stdout",
     "output_type": "stream",
     "text": [
      "Mayank 102\n",
      "Emp class called\n"
     ]
    }
   ],
   "source": [
    "class Emp(Person):\n",
    "  \n",
    "  def Print(self):\n",
    "    print(\"Emp class called\")\n",
    "    \n",
    "Emp_details = Emp(\"Mayank\", 102)\n",
    "\n",
    "# calling parent class function\n",
    "Emp_details.Display()\n",
    "\n",
    "# Calling child class function\n",
    "Emp_details.Print()\n"
   ]
  },
  {
   "cell_type": "markdown",
   "id": "9ad988d0-a2d9-4001-914d-30c76961897a",
   "metadata": {},
   "source": [
    "#### EXAMPLE FOR INHERITANCE :"
   ]
  },
  {
   "cell_type": "code",
   "execution_count": 12,
   "id": "fe687be7-457d-45eb-a2d9-6f790c089639",
   "metadata": {},
   "outputs": [
    {
     "name": "stdout",
     "output_type": "stream",
     "text": [
      "EMP1 False\n",
      "EMP2 True\n"
     ]
    }
   ],
   "source": [
    "# A Python program to demonstrate inheritance\n",
    "\n",
    "# Base or Super class. Note object in bracket.\n",
    "# (Generally, object is made ancestor of all classes)\n",
    "# In Python 3.x \"class Person\" is\n",
    "# equivalent to \"class Person(object)\"\n",
    "\n",
    "\n",
    "class Person(object):\n",
    "\n",
    "    # Constructor\n",
    "    def __init__(self, name):\n",
    "        self.name = name\n",
    "\n",
    "    # To get name\n",
    "    def getName(self):\n",
    "        return self.name\n",
    "\n",
    "    # To check if this person is an employee\n",
    "    def isEmployee(self):\n",
    "        return False\n",
    "\n",
    "\n",
    "# Inherited or Subclass (Note Person in bracket)\n",
    "class Employee(Person):\n",
    "\n",
    "    # Here we return true\n",
    "    def isEmployee(self):\n",
    "        return True\n",
    "\n",
    "\n",
    "# Driver code\n",
    "emp = Person(\"EMP1\")  # An Object of Person\n",
    "print(emp.getName(), emp.isEmployee())\n",
    "\n",
    "emp = Employee(\"EMP2\")  # An Object of Employee\n",
    "print(emp.getName(), emp.isEmployee())\n"
   ]
  },
  {
   "cell_type": "code",
   "execution_count": 18,
   "id": "838c01dc-3fa9-4e79-9343-529ac41c7ec7",
   "metadata": {},
   "outputs": [
    {
     "name": "stdout",
     "output_type": "stream",
     "text": [
      "I can Eat !\n",
      "I can Sleep !\n",
      "I can bark ! Woof woof !\n",
      "I can Eat !\n",
      "I can Sleep !\n",
      "I can Miyaoo! miyaoo!\n"
     ]
    }
   ],
   "source": [
    "class Animal :\n",
    "    def eat(self):\n",
    "        print(\"I can Eat !\")\n",
    "    def sleep(self):\n",
    "        print(\"I can Sleep !\")\n",
    "class Dog(Animal) :\n",
    "    def bark(self):\n",
    "        print(\"I can bark ! Woof woof !\")\n",
    "class Cat(Animal) :\n",
    "    def Miyaoo(self):\n",
    "        print(\"I can Miyaoo! miyaoo!\")\n",
    "\n",
    "\n",
    "dog1 = Dog()\n",
    "dog1.eat()\n",
    "dog1.sleep()\n",
    "dog1.bark()\n",
    "\n",
    "obj2 = Cat()\n",
    "obj2.eat()\n",
    "obj2.sleep()\n",
    "obj2.Miyaoo()"
   ]
  },
  {
   "cell_type": "markdown",
   "id": "99a8f4eb-9836-45b5-8ecd-c61002f9794b",
   "metadata": {},
   "source": [
    "#### TYPES OF INHERITANCE :"
   ]
  },
  {
   "cell_type": "markdown",
   "id": "23b58789-d1cf-4d5b-b567-250c8d577b4c",
   "metadata": {},
   "source": [
    "#### 1.SINGLE INHERITANCE :"
   ]
  },
  {
   "cell_type": "markdown",
   "id": "aae7792c-0896-47d6-93e8-01dd29797b7c",
   "metadata": {},
   "source": [
    "Single inheritance enables a derived class to inherit properties from a single parent class, thus enabling code reusability and the addition of new features to existing code."
   ]
  },
  {
   "cell_type": "markdown",
   "id": "b0933cdc-e5a7-4a54-bc2d-e543ec05bdf3",
   "metadata": {},
   "source": [
    "#### EXAMPLES :"
   ]
  },
  {
   "cell_type": "code",
   "execution_count": 23,
   "id": "17182089-a679-413f-83d4-2699d51d9a71",
   "metadata": {},
   "outputs": [
    {
     "name": "stdout",
     "output_type": "stream",
     "text": [
      "This function is in parent class.\n",
      "This function is in child class.\n"
     ]
    }
   ],
   "source": [
    "# Python program to demonstrate\n",
    "# single inheritance\n",
    "\n",
    "# Base class\n",
    "class Parent:\n",
    "\tdef func1(self):\n",
    "\t\tprint(\"This function is in parent class.\")\n",
    "\n",
    "# Derived class\n",
    "\n",
    "\n",
    "class Child(Parent):\n",
    "\tdef func2(self):\n",
    "\t\tprint(\"This function is in child class.\")\n",
    "\n",
    "\n",
    "# Driver's code\n",
    "object = Child()\n",
    "object.func1()\n",
    "object.func2()\n"
   ]
  },
  {
   "cell_type": "markdown",
   "id": "0135763a-6049-4cdb-b9e5-f8836a317706",
   "metadata": {},
   "source": [
    "#### 2.MULTIPLE INHERITANCE :"
   ]
  },
  {
   "cell_type": "markdown",
   "id": "e9be288d-0f74-4fb5-9fe3-fea5a58d3f7b",
   "metadata": {},
   "source": [
    "When a class can be derived from more than one base class this type of inheritance is called multiple inheritances. In multiple inheritances, all the features of the base classes are inherited into the derived class. "
   ]
  },
  {
   "cell_type": "markdown",
   "id": "ae29c060-b2fa-4327-9c09-6efa08c4627a",
   "metadata": {},
   "source": [
    "#### EXAMPLES :"
   ]
  },
  {
   "cell_type": "code",
   "execution_count": 27,
   "id": "106eafcd-c662-44a9-b18c-a7ba140072e8",
   "metadata": {},
   "outputs": [
    {
     "name": "stdout",
     "output_type": "stream",
     "text": [
      "Father : RAM\n",
      "Mother : SITA\n"
     ]
    }
   ],
   "source": [
    "# Python program to demonstrate\n",
    "# multiple inheritance\n",
    "\n",
    "# Base class1\n",
    "class Mother:\n",
    "\tmothername = \"\"\n",
    "\n",
    "\tdef mother(self):\n",
    "\t\tprint(self.mothername)\n",
    "\n",
    "# Base class2\n",
    "\n",
    "\n",
    "class Father:\n",
    "\tfathername = \"\"\n",
    "\n",
    "\tdef father(self):\n",
    "\t\tprint(self.fathername)\n",
    "\n",
    "# Derived class\n",
    "\n",
    "\n",
    "class Son(Mother, Father):\n",
    "\tdef parents(self):\n",
    "\t\tprint(\"Father :\", self.fathername)\n",
    "\t\tprint(\"Mother :\", self.mothername)\n",
    "\n",
    "\n",
    "# Driver's code\n",
    "s1 = Son()\n",
    "s1.fathername = \"RAM\"\n",
    "s1.mothername = \"SITA\"\n",
    "s1.parents()\n"
   ]
  },
  {
   "cell_type": "markdown",
   "id": "59ca8bf9-f20c-4ce3-85ba-0ef2f80fd667",
   "metadata": {},
   "source": [
    "#### 3.MULTILEVEL INHERITANCE :"
   ]
  },
  {
   "cell_type": "markdown",
   "id": "d38490cd-a0df-4e04-8a0e-2d89cbf28160",
   "metadata": {},
   "source": [
    "In multilevel inheritance, features of the base class and the derived class are further inherited into the new derived class. This is similar to a relationship representing a child and a grandfather. \r\n"
   ]
  },
  {
   "cell_type": "markdown",
   "id": "da0b0c5a-2f2f-49a6-afc1-a39a49fc99c2",
   "metadata": {},
   "source": [
    "#### EXAMPLES :"
   ]
  },
  {
   "cell_type": "code",
   "execution_count": 33,
   "id": "c90fdb71-4424-48ec-9297-1ba76fbe0543",
   "metadata": {},
   "outputs": [
    {
     "name": "stdout",
     "output_type": "stream",
     "text": [
      "Shyam\n",
      "Grandfather name : Shyam\n",
      "Father name : Ram\n",
      "Son name : Prince\n"
     ]
    }
   ],
   "source": [
    "# Python program to demonstrate\n",
    "# multilevel inheritance\n",
    "\n",
    "# Base class\n",
    "\n",
    "\n",
    "class Grandfather:\n",
    "\n",
    "\tdef __init__(self, grandfathername):\n",
    "\t\tself.grandfathername = grandfathername\n",
    "\n",
    "# Intermediate class\n",
    "\n",
    "\n",
    "class Father(Grandfather):\n",
    "\tdef __init__(self, fathername, grandfathername):\n",
    "\t\tself.fathername = fathername\n",
    "\n",
    "\t\t# invoking constructor of Grandfather class\n",
    "\t\tGrandfather.__init__(self, grandfathername)\n",
    "\n",
    "# Derived class\n",
    "\n",
    "\n",
    "class Son(Father):\n",
    "\tdef __init__(self, sonname, fathername, grandfathername):\n",
    "\t\tself.sonname = sonname\n",
    "\n",
    "\t\t# invoking constructor of Father class\n",
    "\t\tFather.__init__(self, fathername, grandfathername)\n",
    "\n",
    "\tdef print_name(self):\n",
    "\t\tprint('Grandfather name :', self.grandfathername)\n",
    "\t\tprint(\"Father name :\", self.fathername)\n",
    "\t\tprint(\"Son name :\", self.sonname)\n",
    "\n",
    "\n",
    "# Driver code\n",
    "s1 = Son('Prince', 'Ram', 'Shyam')\n",
    "print(s1.grandfathername)\n",
    "s1.print_name()\n"
   ]
  },
  {
   "cell_type": "markdown",
   "id": "558680bc-489b-4af4-9f8c-44d8716f9046",
   "metadata": {},
   "source": [
    "#### 4.Hierarchical Inheritance :"
   ]
  },
  {
   "cell_type": "markdown",
   "id": "7a7f3ec7-c1a4-49ee-a06e-45ac88c41e01",
   "metadata": {},
   "source": [
    "When more than one derived class are created from a single base this type of inheritance is called hierarchical inheritance. In this program, we have a parent (base) class and two child (derived) classes."
   ]
  },
  {
   "cell_type": "markdown",
   "id": "c01715d3-28e9-4ee2-b6de-8ad0342ea5b4",
   "metadata": {},
   "source": [
    "#### EXAMPLES :"
   ]
  },
  {
   "cell_type": "code",
   "execution_count": 37,
   "id": "32f51bd1-6c94-4b05-80a8-837d8b947d51",
   "metadata": {},
   "outputs": [
    {
     "name": "stdout",
     "output_type": "stream",
     "text": [
      "This function is in parent class.\n",
      "This function is in child 1.\n",
      "This function is in parent class.\n",
      "This function is in child 2.\n"
     ]
    }
   ],
   "source": [
    "# Python program to demonstrate\n",
    "# Hierarchical inheritance\n",
    "\n",
    "\n",
    "# Base class\n",
    "class Parent:\n",
    "\tdef func1(self):\n",
    "\t\tprint(\"This function is in parent class.\")\n",
    "\n",
    "# Derived class1\n",
    "\n",
    "\n",
    "class Child1(Parent):\n",
    "\tdef func2(self):\n",
    "\t\tprint(\"This function is in child 1.\")\n",
    "\n",
    "# Derivied class2\n",
    "\n",
    "\n",
    "class Child2(Parent):\n",
    "\tdef func3(self):\n",
    "\t\tprint(\"This function is in child 2.\")\n",
    "\n",
    "\n",
    "# Driver's code\n",
    "object1 = Child1()\n",
    "object2 = Child2()\n",
    "object1.func1()\n",
    "object1.func2()\n",
    "object2.func1()\n",
    "object2.func3()\n"
   ]
  },
  {
   "cell_type": "markdown",
   "id": "d3c3d748-b588-484a-a2b1-95f5d2f32b9c",
   "metadata": {},
   "source": [
    "#### 5.HYBRID INHERITANCE :"
   ]
  },
  {
   "cell_type": "markdown",
   "id": "e3f35026-7413-43a2-939f-3cb8435865ad",
   "metadata": {},
   "source": [
    "Inheritance consisting of multiple types of inheritance is called hybrid inheritance."
   ]
  },
  {
   "cell_type": "markdown",
   "id": "049206c2-6060-48f0-b13d-536aa619da38",
   "metadata": {},
   "source": [
    "#### EXAMPLES :"
   ]
  },
  {
   "cell_type": "code",
   "execution_count": 41,
   "id": "9d39d8f6-91bb-41eb-b716-0fe5e5577afb",
   "metadata": {},
   "outputs": [
    {
     "name": "stdout",
     "output_type": "stream",
     "text": [
      "This function is in school.\n",
      "This function is in student 1. \n"
     ]
    }
   ],
   "source": [
    "# Python program to demonstrate\n",
    "# hybrid inheritance\n",
    "\n",
    "\n",
    "class School:\n",
    "\tdef func1(self):\n",
    "\t\tprint(\"This function is in school.\")\n",
    "\n",
    "\n",
    "class Student1(School):\n",
    "\tdef func2(self):\n",
    "\t\tprint(\"This function is in student 1. \")\n",
    "\n",
    "\n",
    "class Student2(School):\n",
    "\tdef func3(self):\n",
    "\t\tprint(\"This function is in student 2.\")\n",
    "\n",
    "\n",
    "class Student3(Student1, School):\n",
    "\tdef func4(self):\n",
    "\t\tprint(\"This function is in student 3.\")\n",
    "\n",
    "\n",
    "# Driver's code\n",
    "object = Student3()\n",
    "object.func1()\n",
    "object.func2()\n"
   ]
  },
  {
   "cell_type": "markdown",
   "id": "816ba0a1-114f-40c9-b879-a8b00f33b8ea",
   "metadata": {},
   "source": [
    "## PYTHON ENCAPSULATION :"
   ]
  },
  {
   "cell_type": "markdown",
   "id": "573ad4f9-77cb-43c8-a534-23b8e2a71885",
   "metadata": {},
   "source": [
    "-> Encapsulation is one of the fundamental concepts in object-oriented programming (OOP).\n",
    "-> It describes the idea of wrapping data and the methods that work on data within one unit. \n",
    "-> This puts restrictions on accessing variables and methods directly and can prevent the accidental modification of data.\n",
    "-> To prevent accidental change, an object’s variable can only be changed by an object’s method,Those types of variables are known as private variables."
   ]
  },
  {
   "cell_type": "markdown",
   "id": "af48710f-b3b9-4804-8d8c-91460807dcad",
   "metadata": {},
   "source": [
    "#### EXAMPLES :"
   ]
  },
  {
   "cell_type": "code",
   "execution_count": 45,
   "id": "f922eec1-f954-417c-b138-8832098bd259",
   "metadata": {},
   "outputs": [
    {
     "name": "stdout",
     "output_type": "stream",
     "text": [
      "Sandy\n"
     ]
    }
   ],
   "source": [
    "# Python program to\n",
    "# demonstrate private members\n",
    "# \"__\" double underscore represents private attribute. \n",
    "# Private attributes start with \"__\".\n",
    "\n",
    "# Creating a Base class\n",
    "class Base:\n",
    "    def __init__(self):\n",
    "        self.a = \"Sandy\"\n",
    "        self.__c = \"Vizag\" \n",
    "\n",
    "# Creating a derived class\n",
    "class Derived(Base):\n",
    "    def __init__(self):\n",
    "\n",
    "        # Calling constructor of\n",
    "        # Base class\n",
    "        Base.__init__(self)\n",
    "        print(\"Calling private member of base class: \")\n",
    "        print(self.__c)\n",
    "\n",
    "\n",
    "# Driver code\n",
    "obj1 = Base()\n",
    "print(obj1.a)\n",
    "\n",
    "# Uncommenting print(obj1.c) will\n",
    "# raise an AttributeError\n",
    "\n",
    "# Uncommenting obj2 = Derived() will\n",
    "# also raise an AtrributeError as\n",
    "# private member of base class\n",
    "# is called inside derived class\n"
   ]
  },
  {
   "cell_type": "code",
   "execution_count": 47,
   "id": "08a1ae02-8410-47c2-adb3-3d530eaa290c",
   "metadata": {},
   "outputs": [
    {
     "name": "stdout",
     "output_type": "stream",
     "text": [
      "Vizag\n",
      "Sandy\n"
     ]
    }
   ],
   "source": [
    "# Creating a Base class\n",
    "class Base:\n",
    "    def __init__(self):\n",
    "        self.a = \"Sandy\"\n",
    "        self.__c = \"Vizag\" \n",
    "        print(self.__c)\n",
    "# Creating a derived class\n",
    "class Derived(Base):\n",
    "    def __init__(self):\n",
    "\n",
    "        # Calling constructor of\n",
    "        # Base class\n",
    "        Base.__init__(self)\n",
    "        print(\"Calling private member of base class: \")\n",
    "        print(self.__c)\n",
    "\n",
    "\n",
    "# Driver code\n",
    "obj1 = Base()\n",
    "print(obj1.a)\n",
    "\n",
    "# Uncommenting print(obj1.c) will\n",
    "# raise an AttributeError\n",
    "\n",
    "# Uncommenting obj2 = Derived() will\n",
    "# also raise an AtrributeError as\n",
    "# private member of base class\n",
    "# is called inside derived class\n"
   ]
  },
  {
   "cell_type": "markdown",
   "id": "0707ec0c-723f-4dbd-8aa6-064ce72a143b",
   "metadata": {},
   "source": [
    "## PYTHON POLYMORPHISM :"
   ]
  },
  {
   "cell_type": "markdown",
   "id": "4f5bc2bc-ce7e-4d17-9683-73c42846b7e4",
   "metadata": {},
   "source": [
    " Polymorphism simply means having many forms. For example, we need to determine if the given species of birds fly or not, using polymorphism we can do this using a single function."
   ]
  },
  {
   "cell_type": "markdown",
   "id": "f3755569-c0ae-425a-8371-7b6c4da4f37d",
   "metadata": {},
   "source": [
    "#### EXAMPLES :"
   ]
  },
  {
   "cell_type": "code",
   "execution_count": 51,
   "id": "aba5d4a5-b167-414b-89de-579717331116",
   "metadata": {},
   "outputs": [
    {
     "name": "stdout",
     "output_type": "stream",
     "text": [
      "There are many types of birds.\n",
      "Most of the birds can fly but some cannot.\n",
      "There are many types of birds.\n",
      "Sparrows can fly.\n",
      "There are many types of birds.\n",
      "Ostriches cannot fly.\n"
     ]
    }
   ],
   "source": [
    "class Bird:\n",
    "  \n",
    "    def intro(self):\n",
    "        print(\"There are many types of birds.\")\n",
    "\n",
    "    def flight(self):\n",
    "        print(\"Most of the birds can fly but some cannot.\")\n",
    "\n",
    "class sparrow(Bird):\n",
    "  \n",
    "    def flight(self):\n",
    "        print(\"Sparrows can fly.\")\n",
    "\n",
    "class ostrich(Bird):\n",
    "\n",
    "    def flight(self):\n",
    "        print(\"Ostriches cannot fly.\")\n",
    "\n",
    "obj_bird = Bird()\n",
    "obj_spr = sparrow()\n",
    "obj_ost = ostrich()\n",
    "\n",
    "obj_bird.intro()\n",
    "obj_bird.flight()\n",
    "\n",
    "obj_spr.intro()\n",
    "obj_spr.flight()\n",
    "\n",
    "obj_ost.intro()\n",
    "obj_ost.flight()\n"
   ]
  },
  {
   "cell_type": "markdown",
   "id": "cecb6c4f-2003-4e71-96a3-ce0a97647634",
   "metadata": {},
   "source": [
    "## PYTHON ABSTRACTION :"
   ]
  },
  {
   "cell_type": "markdown",
   "id": "7c7d1760-a045-4e0b-a4c3-2bf556971d0e",
   "metadata": {},
   "source": [
    "t hides unnecessary code details from the user. Also,  when we do not want to give out sensitive parts of our code implementation and this is where data abstraction came.\r\n",
    "\r\n",
    "Data Abstraction in Python can be achieved by creating abstract classes."
   ]
  },
  {
   "cell_type": "markdown",
   "id": "70f9389f-5b39-4991-92dc-c5b5e7f08989",
   "metadata": {},
   "source": [
    "#### EXAMPLES :"
   ]
  },
  {
   "cell_type": "code",
   "execution_count": 55,
   "id": "a686f12a-83ee-4e2e-8713-1ca4957745c5",
   "metadata": {},
   "outputs": [
    {
     "name": "stdout",
     "output_type": "stream",
     "text": [
      "Rectangle Area: 50\n",
      "Rectangle Perimeter: 30\n",
      "Circle Area: 153.86\n",
      "Circle Perimeter: 43.96\n"
     ]
    }
   ],
   "source": [
    "from abc import ABC, abstractmethod\n",
    "\n",
    "class Shape(ABC):\n",
    "    @abstractmethod\n",
    "    def area(self):\n",
    "        pass\n",
    "\n",
    "    @abstractmethod\n",
    "    def perimeter(self):\n",
    "        pass\n",
    "\n",
    "class Rectangle(Shape):\n",
    "    def __init__(self, length, width):\n",
    "        self.length = length\n",
    "        self.width = width\n",
    "\n",
    "    def area(self):\n",
    "        return self.length * self.width\n",
    "\n",
    "    def perimeter(self):\n",
    "        return 2 * (self.length + self.width)\n",
    "\n",
    "class Circle(Shape):\n",
    "    def __init__(self, radius):\n",
    "        self.radius = radius\n",
    "\n",
    "    def area(self):\n",
    "        return 3.14 * self.radius * self.radius\n",
    "\n",
    "    def perimeter(self):\n",
    "        return 2 * 3.14 * self.radius\n",
    "\n",
    "# Creating objects\n",
    "rect = Rectangle(10, 5)\n",
    "circ = Circle(7)\n",
    "\n",
    "print(\"Rectangle Area:\", rect.area())\n",
    "print(\"Rectangle Perimeter:\", rect.perimeter())\n",
    "print(\"Circle Area:\", circ.area())\n",
    "print(\"Circle Perimeter:\", circ.perimeter())\n"
   ]
  },
  {
   "cell_type": "markdown",
   "id": "8ab33aae-06ac-47a4-9643-9a2f116cce05",
   "metadata": {},
   "source": [
    "In this example:\r\n",
    "\r\n",
    "Shape is an abstract class with two abstract methods: area and perimeter.\r\n",
    "Rectangle and Circle are concrete classes that inherit from Shape and implement the abstract methods."
   ]
  }
 ],
 "metadata": {
  "kernelspec": {
   "display_name": "Python 3 (ipykernel)",
   "language": "python",
   "name": "python3"
  },
  "language_info": {
   "codemirror_mode": {
    "name": "ipython",
    "version": 3
   },
   "file_extension": ".py",
   "mimetype": "text/x-python",
   "name": "python",
   "nbconvert_exporter": "python",
   "pygments_lexer": "ipython3",
   "version": "3.12.4"
  }
 },
 "nbformat": 4,
 "nbformat_minor": 5
}
