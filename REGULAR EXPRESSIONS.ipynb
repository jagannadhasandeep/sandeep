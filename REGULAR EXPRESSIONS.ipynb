{
 "cells": [
  {
   "cell_type": "markdown",
   "id": "a8bb3409-bba1-4eb3-8c0f-6f08bc3ee74e",
   "metadata": {},
   "source": [
    "## PYTHON REGULAR EXPRESSIONS :"
   ]
  },
  {
   "cell_type": "markdown",
   "id": "41cfabcd-7315-4a71-a953-f71adcfeb7ed",
   "metadata": {},
   "source": [
    "A RegEx is a powerful tool for matching text, based on a pre-defined pattern.\n",
    "It can detect the presence or absence of a text by matching it with a particular pattern, and also can split a pattern into one or more sub-patterns.\n",
    "The Python standard library provides a re module for regular expressions. \n",
    "Its primary function is to offer a search, where it takes a regular expression and a string. Here, it either returns the first match or else none."
   ]
  },
  {
   "cell_type": "markdown",
   "id": "68c7f66f-fb55-4ef2-bef6-aa5939cc9fdb",
   "metadata": {},
   "source": [
    "#### REGEX MODULE :"
   ]
  },
  {
   "cell_type": "code",
   "execution_count": null,
   "id": "186464d9-5285-4363-962b-35f36c037b4c",
   "metadata": {},
   "outputs": [],
   "source": [
    "import re"
   ]
  },
  {
   "cell_type": "markdown",
   "id": "9e674e82-ac20-4082-819a-0815d512b5bb",
   "metadata": {},
   "source": [
    "## REGEX FUNCTIONS :"
   ]
  },
  {
   "cell_type": "markdown",
   "id": "1102c174-7045-488f-880b-d2fc9b306de5",
   "metadata": {},
   "source": [
    "\n",
    "Functio           \tDescriptio\n",
    "n\r\n",
    "findal         l\tReturns a list containing all matches\r\n",
    "sear         ch\tReturns a Match object if there is a match anywhere in the string\r\n",
    "sp         lit\tReturns a list where the string has been split at each match\r",
    "             \n",
    "sub\tReplaces one or many matches with a string"
   ]
  },
  {
   "cell_type": "markdown",
   "id": "136a6348-54b1-431f-92c6-bc87f2fcafd2",
   "metadata": {},
   "source": [
    "#### 1.FINDALL() :"
   ]
  },
  {
   "cell_type": "markdown",
   "id": "53506716-da42-4018-9e0d-9d4fdcad3ca8",
   "metadata": {},
   "source": [
    "The findall() function returns a list containing all matches."
   ]
  },
  {
   "cell_type": "markdown",
   "id": "3eb79868-50b0-4ec5-9dc5-a42a7e589996",
   "metadata": {},
   "source": [
    "#### EXAMPLE :"
   ]
  },
  {
   "cell_type": "code",
   "execution_count": 25,
   "id": "15af5f25-5a2c-4889-9570-f07cc7ba3fb1",
   "metadata": {},
   "outputs": [
    {
     "name": "stdout",
     "output_type": "stream",
     "text": [
      "['a', 'a', 'a']\n"
     ]
    }
   ],
   "source": [
    "import re\n",
    "\n",
    "txt = \"The rain in Hyderabad\"\n",
    "x = re.findall(\"a\", txt)\n",
    "print(x)"
   ]
  },
  {
   "cell_type": "code",
   "execution_count": 27,
   "id": "45ceb748-e5e7-424d-8ef3-6042870ab1f8",
   "metadata": {},
   "outputs": [
    {
     "name": "stdout",
     "output_type": "stream",
     "text": [
      "[]\n"
     ]
    }
   ],
   "source": [
    "import re\n",
    "\n",
    "txt = \"The rain in AP\"\n",
    "x = re.findall(\"TS\", txt)\n",
    "print(x)"
   ]
  },
  {
   "cell_type": "markdown",
   "id": "8be58537-849d-4a39-83ff-f834f869f2b9",
   "metadata": {},
   "source": [
    "#### 2. SEARCH() :"
   ]
  },
  {
   "cell_type": "markdown",
   "id": "13048f42-7122-44f7-ac22-9d6a4b3c0883",
   "metadata": {},
   "source": [
    "The search() function searches the string for a match, and returns a Match object if there is a match.\r\n",
    "\r\n",
    "If there is more than one match, only the first occurrence of the match will be returned"
   ]
  },
  {
   "cell_type": "markdown",
   "id": "39fc2123-462c-4ae0-9255-622fa4e87f54",
   "metadata": {},
   "source": [
    "#### EXAMPLES :"
   ]
  },
  {
   "cell_type": "code",
   "execution_count": 33,
   "id": "7de3144b-9cc8-4356-a57e-b2fd5fabd6d6",
   "metadata": {},
   "outputs": [
    {
     "name": "stdout",
     "output_type": "stream",
     "text": [
      "The first white-space character is located in position: 3\n"
     ]
    }
   ],
   "source": [
    "import re\n",
    "\n",
    "txt = \"The rain in AP\"\n",
    "x = re.search(\" \", txt)\n",
    "\n",
    "print(\"The first white-space character is located in position:\", x.start())"
   ]
  },
  {
   "cell_type": "code",
   "execution_count": 35,
   "id": "b1db4c78-46a5-43ec-a230-e756dd368149",
   "metadata": {},
   "outputs": [
    {
     "name": "stdout",
     "output_type": "stream",
     "text": [
      "None\n"
     ]
    }
   ],
   "source": [
    "import re\n",
    "\n",
    "txt = \"The rain in AP\"\n",
    "x = re.search(\"TS\", txt)\n",
    "print(x)"
   ]
  },
  {
   "cell_type": "markdown",
   "id": "b1cd26de-8730-4489-98fe-6e82da480126",
   "metadata": {},
   "source": [
    "#### 3.SPLIT() :"
   ]
  },
  {
   "cell_type": "markdown",
   "id": "a2eeb5ae-3f05-4fda-a850-38cb32689214",
   "metadata": {},
   "source": [
    "The split() function returns a list where the string has been split at each match"
   ]
  },
  {
   "cell_type": "markdown",
   "id": "760564b2-4027-40c5-9864-beccd41a8f43",
   "metadata": {},
   "source": [
    "#### EXAMPLES :"
   ]
  },
  {
   "cell_type": "code",
   "execution_count": 39,
   "id": "5b05f0d2-f8a3-42a0-8df3-6d0719c2bf1e",
   "metadata": {},
   "outputs": [
    {
     "name": "stdout",
     "output_type": "stream",
     "text": [
      "['The', 'rain', 'in', 'AP']\n"
     ]
    }
   ],
   "source": [
    "import re\n",
    "\n",
    "txt = \"The rain in AP\"\n",
    "x = re.split(\" \", txt)\n",
    "print(x)"
   ]
  },
  {
   "cell_type": "code",
   "execution_count": 45,
   "id": "f130db89-f9e5-45c8-90b1-99c591525bbf",
   "metadata": {},
   "outputs": [
    {
     "name": "stdout",
     "output_type": "stream",
     "text": [
      "['The', 'rain', 'in', 'AP', 'leads to floods']\n"
     ]
    }
   ],
   "source": [
    "import re\n",
    "\n",
    "txt = \"The rain in AP leads to floods\"\n",
    "x = re.split(\" \",txt,4)\n",
    "print(x)"
   ]
  },
  {
   "cell_type": "markdown",
   "id": "140bf942-18bc-4c7d-b84a-19318e3e1535",
   "metadata": {},
   "source": [
    "#### 4.SUB() :"
   ]
  },
  {
   "cell_type": "markdown",
   "id": "cf5266a8-c7f4-4541-843a-5aaf7bd46808",
   "metadata": {},
   "source": [
    "The sub() function replaces the matches with the text of your choice"
   ]
  },
  {
   "cell_type": "markdown",
   "id": "7337da4b-bf0f-4789-9920-098d21663f47",
   "metadata": {},
   "source": [
    "#### EXAMPLES :"
   ]
  },
  {
   "cell_type": "code",
   "execution_count": 53,
   "id": "85eaf373-5074-421d-9c73-c81a52fe487d",
   "metadata": {},
   "outputs": [
    {
     "name": "stdout",
     "output_type": "stream",
     "text": [
      "The 8rain 8in 8AP 8leads 8to 8floods\n"
     ]
    }
   ],
   "source": [
    "import re\n",
    "\n",
    "txt = \"The rain in AP leads to floods\"\n",
    "x = re.sub(\" \", \" 8\", txt)\n",
    "print(x)\n"
   ]
  },
  {
   "cell_type": "code",
   "execution_count": 55,
   "id": "f81cf855-5321-4cbf-a73d-640d63b91efb",
   "metadata": {},
   "outputs": [
    {
     "name": "stdout",
     "output_type": "stream",
     "text": [
      "The 8.5rain 8.5in 8.5AP 8.5leads 8.5to 8.5floods\n"
     ]
    }
   ],
   "source": [
    "import re\n",
    "\n",
    "txt = \"The rain in AP leads to floods\"\n",
    "x = re.sub(\" \", \" 8.5\", txt)\n",
    "print(x)"
   ]
  },
  {
   "cell_type": "code",
   "execution_count": 57,
   "id": "7f08d440-d4e5-4613-bf8e-f330fc8abcca",
   "metadata": {},
   "outputs": [
    {
     "name": "stdout",
     "output_type": "stream",
     "text": [
      "The 8.5%rain 8.5%in 8.5%AP 8.5%leads 8.5%to 8.5%floods\n"
     ]
    }
   ],
   "source": [
    "import re\n",
    "\n",
    "txt = \"The rain in AP leads to floods\"\n",
    "x = re.sub(\" \", \" 8.5%\", txt)\n",
    "print(x)"
   ]
  },
  {
   "cell_type": "code",
   "execution_count": 59,
   "id": "df1a32b3-2757-46e3-b868-c1d80c5e9a9a",
   "metadata": {},
   "outputs": [
    {
     "name": "stdout",
     "output_type": "stream",
     "text": [
      "The -8rain -8in -8AP -8leads -8to -8floods\n"
     ]
    }
   ],
   "source": [
    "import re\n",
    "\n",
    "txt = \"The rain in AP leads to floods\"\n",
    "x = re.sub(\" \", \" -8\", txt)\n",
    "print(x)"
   ]
  },
  {
   "cell_type": "markdown",
   "id": "16ae441e-2a95-4cb6-8bb1-9c2f6bb04e6e",
   "metadata": {},
   "source": [
    "#### 5.COMPILE() :"
   ]
  },
  {
   "cell_type": "markdown",
   "id": "d9c54513-0c0d-4a05-ade7-ccabf0c40184",
   "metadata": {},
   "source": [
    "Regular expressions are compiled into pattern objects, which have methods for various operations such as searching for pattern matches or performing string substitutions. "
   ]
  },
  {
   "cell_type": "markdown",
   "id": "19881dca-d134-4f52-8681-5f524906ab25",
   "metadata": {},
   "source": [
    "#### EXAMPLES :"
   ]
  },
  {
   "cell_type": "code",
   "execution_count": 63,
   "id": "d6708897-cdb1-4c42-b43d-2ceea5067a31",
   "metadata": {},
   "outputs": [
    {
     "name": "stdout",
     "output_type": "stream",
     "text": [
      "['a']\n"
     ]
    }
   ],
   "source": [
    "import re\n",
    "p = re.compile('[a-e]')\n",
    "\n",
    "print(p.findall(\"Hy, Mr.Sharukh\"))\n"
   ]
  },
  {
   "cell_type": "code",
   "execution_count": 65,
   "id": "b4187c98-98d2-47fd-8e15-49a52cfeb0b0",
   "metadata": {},
   "outputs": [
    {
     "name": "stdout",
     "output_type": "stream",
     "text": [
      "['1', '1', '4', '1', '8', '8', '6']\n",
      "['11', '4', '1886']\n"
     ]
    },
    {
     "name": "stderr",
     "output_type": "stream",
     "text": [
      "<>:2: SyntaxWarning: invalid escape sequence '\\d'\n",
      "<>:5: SyntaxWarning: invalid escape sequence '\\d'\n",
      "<>:2: SyntaxWarning: invalid escape sequence '\\d'\n",
      "<>:5: SyntaxWarning: invalid escape sequence '\\d'\n",
      "C:\\Users\\sandy\\AppData\\Local\\Temp\\ipykernel_3916\\2356757988.py:2: SyntaxWarning: invalid escape sequence '\\d'\n",
      "  p = re.compile('\\d')\n",
      "C:\\Users\\sandy\\AppData\\Local\\Temp\\ipykernel_3916\\2356757988.py:5: SyntaxWarning: invalid escape sequence '\\d'\n",
      "  p = re.compile('\\d+')\n"
     ]
    }
   ],
   "source": [
    "import re\n",
    "p = re.compile('\\d')\n",
    "print(p.findall(\"I went to him at 11 A.M. on 4th July 1886\"))\n",
    "\n",
    "p = re.compile('\\d+')\n",
    "print(p.findall(\"I went to him at 11 A.M. on 4th July 1886\"))\n"
   ]
  },
  {
   "cell_type": "markdown",
   "id": "23bb86ce-cfa1-445f-b6a6-51736d317453",
   "metadata": {},
   "source": [
    "#### 6.ESCAPE() :"
   ]
  },
  {
   "cell_type": "markdown",
   "id": "4b1018ce-c058-4e66-95d5-ee5e72680bec",
   "metadata": {},
   "source": [
    "#### SYNTAX :"
   ]
  },
  {
   "cell_type": "code",
   "execution_count": null,
   "id": "d5d7464b-649e-4be2-91f1-ca6d838b93fb",
   "metadata": {},
   "outputs": [],
   "source": [
    "re.escape(string)"
   ]
  },
  {
   "cell_type": "markdown",
   "id": "d280d22c-6cf0-4ca8-9860-11c5e83aa658",
   "metadata": {},
   "source": [
    "Returns string with all non-alphanumerics backslashed, this is useful if you want to match an arbitrary literal string that may have regular expression metacharacters in it."
   ]
  },
  {
   "cell_type": "markdown",
   "id": "4dee0bec-c0c7-4974-9c01-74f404be2a97",
   "metadata": {},
   "source": [
    "#### EXAMPLES :"
   ]
  },
  {
   "cell_type": "code",
   "execution_count": 69,
   "id": "b346f630-3149-4367-b061-e910e3ce4a5c",
   "metadata": {},
   "outputs": [
    {
     "name": "stdout",
     "output_type": "stream",
     "text": [
      "This\\ is\\ Awesome\\ even\\ 1\\ AM\n",
      "I\\ Asked\\ what\\ is\\ this\\ \\[a\\-9\\],\\ he\\ said\\ \\\t\\ \\^WoW\n"
     ]
    }
   ],
   "source": [
    "import re\n",
    "print(re.escape(\"This is Awesome even 1 AM\"))\n",
    "print(re.escape(\"I Asked what is this [a-9], he said \\t ^WoW\"))\n"
   ]
  },
  {
   "cell_type": "code",
   "execution_count": 71,
   "id": "4af10b82-6b3a-4683-8237-c69898bab590",
   "metadata": {},
   "outputs": [
    {
     "name": "stdout",
     "output_type": "stream",
     "text": [
      "The\\ Journey\\ to\\ Aruku\\ in\\ Trin\\ will\\ be\\ amazing\n",
      "I\\ Asked\\ him\\ about\\ the\\ journey,\\ he\\ said\\ \\\t\\ \\^WoW\n"
     ]
    }
   ],
   "source": [
    "import re\n",
    "print(re.escape(\"The Journey to Aruku in Trin will be amazing\"))\n",
    "print(re.escape(\"I Asked him about the journey, he said \\t ^WoW\"))\n"
   ]
  },
  {
   "cell_type": "markdown",
   "id": "4f46bcf0-26e8-4d5b-92dd-a2ee3b2b641b",
   "metadata": {},
   "source": [
    "#### 7. SUBN() :"
   ]
  },
  {
   "cell_type": "markdown",
   "id": "6beb48a9-0b4a-44f8-b7ae-09a06d3fc66d",
   "metadata": {},
   "source": [
    "subn() is similar to sub() in all ways, except in its way of providing output. It returns a tuple with a count of the total of replacement and the new string rather than just the string. "
   ]
  },
  {
   "cell_type": "markdown",
   "id": "8ed6f260-de15-4ad5-bb45-a92e04bd8498",
   "metadata": {},
   "source": [
    "#### SYNTAX :"
   ]
  },
  {
   "cell_type": "code",
   "execution_count": null,
   "id": "82f79f87-089e-41c6-b6de-5e3a41187d9c",
   "metadata": {},
   "outputs": [],
   "source": [
    " re.subn(pattern, repl, string, count=0, flags=0)"
   ]
  },
  {
   "cell_type": "markdown",
   "id": "0111b666-ca85-43b4-96ce-0bf354b83c2e",
   "metadata": {},
   "source": [
    "#### EXAMPLES :"
   ]
  },
  {
   "cell_type": "code",
   "execution_count": 83,
   "id": "32473a78-2f6e-4cf8-a429-56bae370c5df",
   "metadata": {},
   "outputs": [
    {
     "name": "stdout",
     "output_type": "stream",
     "text": [
      "('S~*ject has Uber booked already', 1)\n",
      "('S~*ject has ~*er booked already', 2)\n",
      "2\n",
      "S~*ject has ~*er booked already\n"
     ]
    }
   ],
   "source": [
    "import re\n",
    "\n",
    "print(re.subn('ub', '~*', 'Subject has Uber booked already'))\n",
    "\n",
    "t = re.subn('ub', '~*', 'Subject has Uber booked already',\n",
    "            flags=re.IGNORECASE)\n",
    "print(t)\n",
    "print(len(t))\n",
    "print(t[0])\n"
   ]
  },
  {
   "cell_type": "code",
   "execution_count": 85,
   "id": "87241d61-95a1-4fa0-960a-2ba3b4e583d7",
   "metadata": {},
   "outputs": [
    {
     "name": "stdout",
     "output_type": "stream",
     "text": [
      "('I am going +* Vizag +*night', 2)\n",
      "('I am going +* Vizag +*night', 2)\n",
      "2\n",
      "I am going +* Vizag +*night\n"
     ]
    }
   ],
   "source": [
    "import re\n",
    "\n",
    "print(re.subn('to', '+*', 'I am going to Vizag tonight'))\n",
    "\n",
    "t = re.subn('to', '+*', 'I am going to Vizag tonight',\n",
    "            flags=re.IGNORECASE)\n",
    "print(t)\n",
    "print(len(t))\n",
    "print(t[0])"
   ]
  },
  {
   "cell_type": "code",
   "execution_count": null,
   "id": "0d36b8aa-64c0-43fb-bfb0-5072ef98679a",
   "metadata": {},
   "outputs": [],
   "source": [
    "import re\n",
    "\n",
    "print(re.subn('to', '#@', 'I am going to Vizag tonight'))\n",
    "\n",
    "t = re.subn('to', '#@', 'I am going to Vizag tonight',\n",
    "            flags=re.IGNORECASE)\n",
    "print(t)\n",
    "print(len(t))\n",
    "print(t[0])"
   ]
  },
  {
   "cell_type": "markdown",
   "id": "f3fba3fb-bb82-4a54-9149-94423ac04f52",
   "metadata": {},
   "source": [
    "## LITERAL CHARACTER :"
   ]
  },
  {
   "cell_type": "markdown",
   "id": "18d31ada-385b-4e34-9855-c5f183d6cd57",
   "metadata": {},
   "source": [
    "Regular characters match themselves."
   ]
  },
  {
   "cell_type": "code",
   "execution_count": 2,
   "id": "cb5d3279-e2a0-4b6b-9029-5751d23677c3",
   "metadata": {},
   "outputs": [
    {
     "name": "stdout",
     "output_type": "stream",
     "text": [
      "Not Matched\n"
     ]
    }
   ],
   "source": [
    "import re\n",
    "\n",
    "pattern = re.compile(r'Teks')\n",
    "match = pattern.search('Say hello to regex!')\n",
    "if match:\n",
    "    print('Match found:', match.group())\n",
    "else:\n",
    "    print('Not Matched')"
   ]
  },
  {
   "cell_type": "markdown",
   "id": "c1ecae65-374c-411e-8b6c-6ba0266c198e",
   "metadata": {},
   "source": [
    "## Dot(.) Wild Card :"
   ]
  },
  {
   "cell_type": "markdown",
   "id": "29c1a789-08a7-48b3-b89c-47218553d439",
   "metadata": {},
   "source": [
    " The dot matches any single character (except for a newline character)."
   ]
  },
  {
   "cell_type": "code",
   "execution_count": 5,
   "id": "57def301-1bac-49eb-b05a-bbe9c6a2bdaa",
   "metadata": {},
   "outputs": [
    {
     "name": "stdout",
     "output_type": "stream",
     "text": [
      "Match found: book\n"
     ]
    }
   ],
   "source": [
    "import re\n",
    "\n",
    "pattern = re.compile(r'b..k')\n",
    "match = pattern.search('cat, cot, cut, good, book, birk, board')\n",
    "if match:\n",
    "    print('Match found:', match.group())"
   ]
  },
  {
   "cell_type": "markdown",
   "id": "f25afe8c-d812-48ba-bf18-93f3453f9842",
   "metadata": {},
   "source": [
    "## Character Classes :"
   ]
  },
  {
   "cell_type": "markdown",
   "id": "fdfabd65-0ea0-4d88-a543-16b8f2869561",
   "metadata": {},
   "source": [
    " Square brackets [] define a character class, and the regex will match any single character within the brackets."
   ]
  },
  {
   "cell_type": "code",
   "execution_count": 8,
   "id": "a8a47093-d3fd-44a6-a542-98916c9c6a3f",
   "metadata": {},
   "outputs": [
    {
     "name": "stdout",
     "output_type": "stream",
     "text": [
      "Match found: o\n"
     ]
    }
   ],
   "source": [
    "import re\n",
    "\n",
    "pattern = re.compile(r'[window]')\n",
    "match = pattern.search('Hello, regex!')\n",
    "if match:\n",
    "    print('Match found:', match.group())"
   ]
  }
 ],
 "metadata": {
  "kernelspec": {
   "display_name": "Python 3 (ipykernel)",
   "language": "python",
   "name": "python3"
  },
  "language_info": {
   "codemirror_mode": {
    "name": "ipython",
    "version": 3
   },
   "file_extension": ".py",
   "mimetype": "text/x-python",
   "name": "python",
   "nbconvert_exporter": "python",
   "pygments_lexer": "ipython3",
   "version": "3.12.4"
  }
 },
 "nbformat": 4,
 "nbformat_minor": 5
}
